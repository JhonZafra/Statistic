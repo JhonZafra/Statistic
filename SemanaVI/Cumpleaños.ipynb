{
 "cells": [
  {
   "attachments": {},
   "cell_type": "markdown",
   "metadata": {},
   "source": [
    "## EL PROBLEMA DEL CUMPLEAÑOS"
   ]
  },
  {
   "cell_type": "code",
   "execution_count": 1,
   "metadata": {},
   "outputs": [],
   "source": [
    "import numpy as np\n",
    "import matplotlib.pyplot as plt"
   ]
  },
  {
   "cell_type": "code",
   "execution_count": 9,
   "metadata": {},
   "outputs": [
    {
     "data": {
      "text/plain": [
       "array([  5,  15,  21,  28,  31,  33,  39,  40,  41,  41,  48,  54,  57,\n",
       "        59,  65,  71,  74,  79,  84,  92, 111, 112, 114, 117, 119, 122,\n",
       "       128, 129, 130, 134, 142, 154, 156, 164, 169, 177, 183, 183, 186,\n",
       "       192, 197, 223, 226, 233, 242, 243, 245, 253, 253, 255, 255, 261,\n",
       "       263, 268, 278, 285, 285, 305, 306, 315, 318, 330, 332, 333, 334,\n",
       "       334, 337, 348, 358, 364])"
      ]
     },
     "execution_count": 9,
     "metadata": {},
     "output_type": "execute_result"
    }
   ],
   "source": [
    "personas = 70\n",
    "x = np.random.randint(1, 366, personas)\n",
    "np.sort(x)"
   ]
  },
  {
   "cell_type": "code",
   "execution_count": null,
   "metadata": {},
   "outputs": [],
   "source": []
  }
 ],
 "metadata": {
  "kernelspec": {
   "display_name": "Python 3",
   "language": "python",
   "name": "python3"
  },
  "language_info": {
   "codemirror_mode": {
    "name": "ipython",
    "version": 3
   },
   "file_extension": ".py",
   "mimetype": "text/x-python",
   "name": "python",
   "nbconvert_exporter": "python",
   "pygments_lexer": "ipython3",
   "version": "3.11.4"
  },
  "orig_nbformat": 4
 },
 "nbformat": 4,
 "nbformat_minor": 2
}
