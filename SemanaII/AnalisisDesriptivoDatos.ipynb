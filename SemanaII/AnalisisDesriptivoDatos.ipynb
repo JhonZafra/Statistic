{
 "cells": [
  {
   "attachments": {},
   "cell_type": "markdown",
   "metadata": {},
   "source": [
    "## **MODULO 1**. ANÁLISIS DESCRIPTIVO DE DATOS"
   ]
  },
  {
   "cell_type": "code",
   "execution_count": 1,
   "metadata": {},
   "outputs": [],
   "source": [
    "import numpy as np"
   ]
  },
  {
   "cell_type": "code",
   "execution_count": 2,
   "metadata": {},
   "outputs": [],
   "source": [
    "x = np.array([-1, -1, 3, 10, 14]) # Para que tenfa el arreglo de python"
   ]
  },
  {
   "cell_type": "code",
   "execution_count": 3,
   "metadata": {},
   "outputs": [
    {
     "data": {
      "text/plain": [
       "numpy.ndarray"
      ]
     },
     "execution_count": 3,
     "metadata": {},
     "output_type": "execute_result"
    }
   ],
   "source": [
    "type(x)"
   ]
  },
  {
   "cell_type": "code",
   "execution_count": 4,
   "metadata": {},
   "outputs": [
    {
     "name": "stdout",
     "output_type": "stream",
     "text": [
      "[-1 -1  3 10 14]\n"
     ]
    }
   ],
   "source": [
    "print(x)"
   ]
  },
  {
   "attachments": {},
   "cell_type": "markdown",
   "metadata": {},
   "source": [
    "#### Media o promedio aritmético\n",
    "\n",
    "$$ \\bar{x} = \\frac{1}{N} \\sum_{n-1}^N x_n $$"
   ]
  },
  {
   "cell_type": "code",
   "execution_count": 5,
   "metadata": {},
   "outputs": [
    {
     "data": {
      "text/plain": [
       "25"
      ]
     },
     "execution_count": 5,
     "metadata": {},
     "output_type": "execute_result"
    }
   ],
   "source": [
    "x.sum() # sumo los númerps del arreglo"
   ]
  },
  {
   "cell_type": "code",
   "execution_count": 6,
   "metadata": {},
   "outputs": [
    {
     "data": {
      "text/plain": [
       "5"
      ]
     },
     "execution_count": 6,
     "metadata": {},
     "output_type": "execute_result"
    }
   ],
   "source": [
    "len(x)"
   ]
  },
  {
   "cell_type": "code",
   "execution_count": 7,
   "metadata": {},
   "outputs": [
    {
     "data": {
      "text/plain": [
       "5.0"
      ]
     },
     "execution_count": 7,
     "metadata": {},
     "output_type": "execute_result"
    }
   ],
   "source": [
    "promedio = x.sum() / len(x)\n",
    "promedio"
   ]
  },
  {
   "cell_type": "code",
   "execution_count": 8,
   "metadata": {},
   "outputs": [
    {
     "data": {
      "text/plain": [
       "5.0"
      ]
     },
     "execution_count": 8,
     "metadata": {},
     "output_type": "execute_result"
    }
   ],
   "source": [
    "x.mean()"
   ]
  },
  {
   "cell_type": "code",
   "execution_count": 9,
   "metadata": {},
   "outputs": [
    {
     "data": {
      "text/plain": [
       "3.0"
      ]
     },
     "execution_count": 9,
     "metadata": {},
     "output_type": "execute_result"
    }
   ],
   "source": [
    "np.median(x)"
   ]
  },
  {
   "attachments": {},
   "cell_type": "markdown",
   "metadata": {},
   "source": [
    "#### LIBRERIA PANDAS\n",
    "\n",
    "Librería especializada para leer, manipular y procesar archivos de datos"
   ]
  },
  {
   "cell_type": "code",
   "execution_count": 10,
   "metadata": {},
   "outputs": [],
   "source": [
    "import pandas as pd"
   ]
  },
  {
   "cell_type": "code",
   "execution_count": 11,
   "metadata": {},
   "outputs": [],
   "source": [
    "x = pd.Series(x)"
   ]
  },
  {
   "cell_type": "code",
   "execution_count": 12,
   "metadata": {},
   "outputs": [
    {
     "name": "stdout",
     "output_type": "stream",
     "text": [
      "0    -1\n",
      "1    -1\n",
      "2     3\n",
      "3    10\n",
      "4    14\n",
      "dtype: int32\n"
     ]
    },
    {
     "data": {
      "text/plain": [
       "pandas.core.series.Series"
      ]
     },
     "execution_count": 12,
     "metadata": {},
     "output_type": "execute_result"
    }
   ],
   "source": [
    "print(x)\n",
    "type(x)"
   ]
  },
  {
   "cell_type": "code",
   "execution_count": 13,
   "metadata": {},
   "outputs": [
    {
     "data": {
      "text/plain": [
       "5.0"
      ]
     },
     "execution_count": 13,
     "metadata": {},
     "output_type": "execute_result"
    }
   ],
   "source": [
    "np.mean(x)"
   ]
  },
  {
   "cell_type": "code",
   "execution_count": 14,
   "metadata": {},
   "outputs": [
    {
     "data": {
      "text/plain": [
       "3.0"
      ]
     },
     "execution_count": 14,
     "metadata": {},
     "output_type": "execute_result"
    }
   ],
   "source": [
    "np.median(x)"
   ]
  },
  {
   "cell_type": "code",
   "execution_count": 16,
   "metadata": {},
   "outputs": [
    {
     "data": {
      "text/plain": [
       "-1"
      ]
     },
     "execution_count": 16,
     "metadata": {},
     "output_type": "execute_result"
    }
   ],
   "source": [
    "x.mode()[0]"
   ]
  },
  {
   "attachments": {},
   "cell_type": "markdown",
   "metadata": {},
   "source": [
    "#### Leer un archivo de datos "
   ]
  },
  {
   "cell_type": "code",
   "execution_count": 17,
   "metadata": {},
   "outputs": [],
   "source": [
    "url = \"https://raw.githubusercontent.com/nicoavilan/Bases-de-datos/main/StarClass.csv\" \n",
    "df = pd.read_csv( url, index_col= 0)"
   ]
  },
  {
   "cell_type": "code",
   "execution_count": 18,
   "metadata": {},
   "outputs": [
    {
     "data": {
      "text/html": [
       "<div>\n",
       "<style scoped>\n",
       "    .dataframe tbody tr th:only-of-type {\n",
       "        vertical-align: middle;\n",
       "    }\n",
       "\n",
       "    .dataframe tbody tr th {\n",
       "        vertical-align: top;\n",
       "    }\n",
       "\n",
       "    .dataframe thead th {\n",
       "        text-align: right;\n",
       "    }\n",
       "</style>\n",
       "<table border=\"1\" class=\"dataframe\">\n",
       "  <thead>\n",
       "    <tr style=\"text-align: right;\">\n",
       "      <th></th>\n",
       "      <th>Vmag</th>\n",
       "      <th>Plx</th>\n",
       "      <th>e_Plx</th>\n",
       "      <th>B-V</th>\n",
       "      <th>SpType</th>\n",
       "      <th>Amag</th>\n",
       "      <th>TargetClass</th>\n",
       "    </tr>\n",
       "  </thead>\n",
       "  <tbody>\n",
       "    <tr>\n",
       "      <th>0</th>\n",
       "      <td>9.10</td>\n",
       "      <td>3.54</td>\n",
       "      <td>1.39</td>\n",
       "      <td>0.482</td>\n",
       "      <td>F5</td>\n",
       "      <td>16.845016</td>\n",
       "      <td>9</td>\n",
       "    </tr>\n",
       "    <tr>\n",
       "      <th>1</th>\n",
       "      <td>9.27</td>\n",
       "      <td>21.90</td>\n",
       "      <td>3.10</td>\n",
       "      <td>0.999</td>\n",
       "      <td>K3V</td>\n",
       "      <td>20.972221</td>\n",
       "      <td>0</td>\n",
       "    </tr>\n",
       "    <tr>\n",
       "      <th>2</th>\n",
       "      <td>6.61</td>\n",
       "      <td>2.81</td>\n",
       "      <td>0.63</td>\n",
       "      <td>-0.019</td>\n",
       "      <td>B9</td>\n",
       "      <td>13.853532</td>\n",
       "      <td>9</td>\n",
       "    </tr>\n",
       "    <tr>\n",
       "      <th>3</th>\n",
       "      <td>8.06</td>\n",
       "      <td>7.75</td>\n",
       "      <td>0.97</td>\n",
       "      <td>0.370</td>\n",
       "      <td>F0V</td>\n",
       "      <td>17.506509</td>\n",
       "      <td>0</td>\n",
       "    </tr>\n",
       "    <tr>\n",
       "      <th>4</th>\n",
       "      <td>8.55</td>\n",
       "      <td>2.87</td>\n",
       "      <td>1.11</td>\n",
       "      <td>0.902</td>\n",
       "      <td>G8III</td>\n",
       "      <td>15.839409</td>\n",
       "      <td>1</td>\n",
       "    </tr>\n",
       "  </tbody>\n",
       "</table>\n",
       "</div>"
      ],
      "text/plain": [
       "   Vmag    Plx  e_Plx    B-V SpType       Amag  TargetClass\n",
       "0  9.10   3.54   1.39  0.482     F5  16.845016            9\n",
       "1  9.27  21.90   3.10  0.999    K3V  20.972221            0\n",
       "2  6.61   2.81   0.63 -0.019     B9  13.853532            9\n",
       "3  8.06   7.75   0.97  0.370    F0V  17.506509            0\n",
       "4  8.55   2.87   1.11  0.902  G8III  15.839409            1"
      ]
     },
     "execution_count": 18,
     "metadata": {},
     "output_type": "execute_result"
    }
   ],
   "source": [
    "df.head()"
   ]
  },
  {
   "attachments": {},
   "cell_type": "markdown",
   "metadata": {},
   "source": [
    "#### Exploración de los datos"
   ]
  },
  {
   "cell_type": "code",
   "execution_count": 19,
   "metadata": {},
   "outputs": [
    {
     "name": "stdout",
     "output_type": "stream",
     "text": [
      "<class 'pandas.core.frame.DataFrame'>\n",
      "Index: 96707 entries, 0 to 96706\n",
      "Data columns (total 7 columns):\n",
      " #   Column       Non-Null Count  Dtype  \n",
      "---  ------       --------------  -----  \n",
      " 0   Vmag         96707 non-null  float64\n",
      " 1   Plx          96707 non-null  float64\n",
      " 2   e_Plx        96707 non-null  float64\n",
      " 3   B-V          96707 non-null  float64\n",
      " 4   SpType       96707 non-null  object \n",
      " 5   Amag         96707 non-null  float64\n",
      " 6   TargetClass  96707 non-null  int64  \n",
      "dtypes: float64(5), int64(1), object(1)\n",
      "memory usage: 5.9+ MB\n"
     ]
    }
   ],
   "source": [
    "df.info()"
   ]
  },
  {
   "cell_type": "code",
   "execution_count": 20,
   "metadata": {},
   "outputs": [
    {
     "data": {
      "text/plain": [
       "Index(['Vmag', 'Plx', 'e_Plx', 'B-V', 'SpType', 'Amag', 'TargetClass'], dtype='object')"
      ]
     },
     "execution_count": 20,
     "metadata": {},
     "output_type": "execute_result"
    }
   ],
   "source": [
    "df.columns # Ver nombres de las columnas"
   ]
  },
  {
   "cell_type": "code",
   "execution_count": 21,
   "metadata": {},
   "outputs": [
    {
     "data": {
      "text/html": [
       "<div>\n",
       "<style scoped>\n",
       "    .dataframe tbody tr th:only-of-type {\n",
       "        vertical-align: middle;\n",
       "    }\n",
       "\n",
       "    .dataframe tbody tr th {\n",
       "        vertical-align: top;\n",
       "    }\n",
       "\n",
       "    .dataframe thead th {\n",
       "        text-align: right;\n",
       "    }\n",
       "</style>\n",
       "<table border=\"1\" class=\"dataframe\">\n",
       "  <thead>\n",
       "    <tr style=\"text-align: right;\">\n",
       "      <th></th>\n",
       "      <th>Vmag</th>\n",
       "      <th>Plx</th>\n",
       "      <th>e_Plx</th>\n",
       "      <th>B-V</th>\n",
       "      <th>SpType</th>\n",
       "      <th>Amag</th>\n",
       "      <th>TargetClass</th>\n",
       "    </tr>\n",
       "  </thead>\n",
       "  <tbody>\n",
       "    <tr>\n",
       "      <th>96702</th>\n",
       "      <td>7.92</td>\n",
       "      <td>3.93</td>\n",
       "      <td>1.24</td>\n",
       "      <td>0.133</td>\n",
       "      <td>Am...</td>\n",
       "      <td>15.891963</td>\n",
       "      <td>9</td>\n",
       "    </tr>\n",
       "    <tr>\n",
       "      <th>96703</th>\n",
       "      <td>8.72</td>\n",
       "      <td>3.07</td>\n",
       "      <td>0.87</td>\n",
       "      <td>0.097</td>\n",
       "      <td>B3</td>\n",
       "      <td>16.155692</td>\n",
       "      <td>9</td>\n",
       "    </tr>\n",
       "    <tr>\n",
       "      <th>96704</th>\n",
       "      <td>8.08</td>\n",
       "      <td>1.07</td>\n",
       "      <td>0.68</td>\n",
       "      <td>1.094</td>\n",
       "      <td>G5</td>\n",
       "      <td>13.226919</td>\n",
       "      <td>9</td>\n",
       "    </tr>\n",
       "    <tr>\n",
       "      <th>96705</th>\n",
       "      <td>6.98</td>\n",
       "      <td>2.97</td>\n",
       "      <td>0.76</td>\n",
       "      <td>-0.143</td>\n",
       "      <td>B1.5V</td>\n",
       "      <td>14.343782</td>\n",
       "      <td>0</td>\n",
       "    </tr>\n",
       "    <tr>\n",
       "      <th>96706</th>\n",
       "      <td>8.51</td>\n",
       "      <td>-1.18</td>\n",
       "      <td>1.34</td>\n",
       "      <td>1.568</td>\n",
       "      <td>K5/M0III</td>\n",
       "      <td>13.869410</td>\n",
       "      <td>1</td>\n",
       "    </tr>\n",
       "  </tbody>\n",
       "</table>\n",
       "</div>"
      ],
      "text/plain": [
       "       Vmag   Plx  e_Plx    B-V    SpType       Amag  TargetClass\n",
       "96702  7.92  3.93   1.24  0.133     Am...  15.891963            9\n",
       "96703  8.72  3.07   0.87  0.097        B3  16.155692            9\n",
       "96704  8.08  1.07   0.68  1.094        G5  13.226919            9\n",
       "96705  6.98  2.97   0.76 -0.143     B1.5V  14.343782            0\n",
       "96706  8.51 -1.18   1.34  1.568  K5/M0III  13.869410            1"
      ]
     },
     "execution_count": 21,
     "metadata": {},
     "output_type": "execute_result"
    }
   ],
   "source": [
    "df.tail()"
   ]
  },
  {
   "cell_type": "code",
   "execution_count": 22,
   "metadata": {},
   "outputs": [
    {
     "data": {
      "text/html": [
       "<div>\n",
       "<style scoped>\n",
       "    .dataframe tbody tr th:only-of-type {\n",
       "        vertical-align: middle;\n",
       "    }\n",
       "\n",
       "    .dataframe tbody tr th {\n",
       "        vertical-align: top;\n",
       "    }\n",
       "\n",
       "    .dataframe thead th {\n",
       "        text-align: right;\n",
       "    }\n",
       "</style>\n",
       "<table border=\"1\" class=\"dataframe\">\n",
       "  <thead>\n",
       "    <tr style=\"text-align: right;\">\n",
       "      <th></th>\n",
       "      <th>Vmag</th>\n",
       "      <th>Plx</th>\n",
       "      <th>e_Plx</th>\n",
       "      <th>B-V</th>\n",
       "      <th>SpType</th>\n",
       "      <th>Amag</th>\n",
       "      <th>TargetClass</th>\n",
       "    </tr>\n",
       "  </thead>\n",
       "  <tbody>\n",
       "    <tr>\n",
       "      <th>12358</th>\n",
       "      <td>9.43</td>\n",
       "      <td>4.59</td>\n",
       "      <td>1.92</td>\n",
       "      <td>0.463</td>\n",
       "      <td>F5</td>\n",
       "      <td>17.739063</td>\n",
       "      <td>9</td>\n",
       "    </tr>\n",
       "  </tbody>\n",
       "</table>\n",
       "</div>"
      ],
      "text/plain": [
       "       Vmag   Plx  e_Plx    B-V SpType       Amag  TargetClass\n",
       "12358  9.43  4.59   1.92  0.463     F5  17.739063            9"
      ]
     },
     "execution_count": 22,
     "metadata": {},
     "output_type": "execute_result"
    }
   ],
   "source": [
    "df.loc[[12358]] # Ver una fila determinada en el formato de DataFrame"
   ]
  },
  {
   "cell_type": "code",
   "execution_count": 23,
   "metadata": {},
   "outputs": [
    {
     "data": {
      "text/html": [
       "<div>\n",
       "<style scoped>\n",
       "    .dataframe tbody tr th:only-of-type {\n",
       "        vertical-align: middle;\n",
       "    }\n",
       "\n",
       "    .dataframe tbody tr th {\n",
       "        vertical-align: top;\n",
       "    }\n",
       "\n",
       "    .dataframe thead th {\n",
       "        text-align: right;\n",
       "    }\n",
       "</style>\n",
       "<table border=\"1\" class=\"dataframe\">\n",
       "  <thead>\n",
       "    <tr style=\"text-align: right;\">\n",
       "      <th></th>\n",
       "      <th>Vmag</th>\n",
       "      <th>Plx</th>\n",
       "      <th>e_Plx</th>\n",
       "      <th>B-V</th>\n",
       "      <th>SpType</th>\n",
       "      <th>Amag</th>\n",
       "      <th>TargetClass</th>\n",
       "    </tr>\n",
       "  </thead>\n",
       "  <tbody>\n",
       "    <tr>\n",
       "      <th>12358</th>\n",
       "      <td>9.43</td>\n",
       "      <td>4.59</td>\n",
       "      <td>1.92</td>\n",
       "      <td>0.463</td>\n",
       "      <td>F5</td>\n",
       "      <td>17.739063</td>\n",
       "      <td>9</td>\n",
       "    </tr>\n",
       "    <tr>\n",
       "      <th>12364</th>\n",
       "      <td>11.65</td>\n",
       "      <td>5.51</td>\n",
       "      <td>2.03</td>\n",
       "      <td>0.717</td>\n",
       "      <td>G5</td>\n",
       "      <td>20.355758</td>\n",
       "      <td>9</td>\n",
       "    </tr>\n",
       "  </tbody>\n",
       "</table>\n",
       "</div>"
      ],
      "text/plain": [
       "        Vmag   Plx  e_Plx    B-V SpType       Amag  TargetClass\n",
       "12358   9.43  4.59   1.92  0.463     F5  17.739063            9\n",
       "12364  11.65  5.51   2.03  0.717     G5  20.355758            9"
      ]
     },
     "execution_count": 23,
     "metadata": {},
     "output_type": "execute_result"
    }
   ],
   "source": [
    "df.loc[[12358, 12364]] # Mostrar dos filas"
   ]
  },
  {
   "cell_type": "code",
   "execution_count": 24,
   "metadata": {},
   "outputs": [
    {
     "data": {
      "text/html": [
       "<div>\n",
       "<style scoped>\n",
       "    .dataframe tbody tr th:only-of-type {\n",
       "        vertical-align: middle;\n",
       "    }\n",
       "\n",
       "    .dataframe tbody tr th {\n",
       "        vertical-align: top;\n",
       "    }\n",
       "\n",
       "    .dataframe thead th {\n",
       "        text-align: right;\n",
       "    }\n",
       "</style>\n",
       "<table border=\"1\" class=\"dataframe\">\n",
       "  <thead>\n",
       "    <tr style=\"text-align: right;\">\n",
       "      <th></th>\n",
       "      <th>Vmag</th>\n",
       "      <th>Plx</th>\n",
       "      <th>e_Plx</th>\n",
       "      <th>B-V</th>\n",
       "      <th>SpType</th>\n",
       "      <th>Amag</th>\n",
       "      <th>TargetClass</th>\n",
       "    </tr>\n",
       "  </thead>\n",
       "  <tbody>\n",
       "    <tr>\n",
       "      <th>12358</th>\n",
       "      <td>9.43</td>\n",
       "      <td>4.59</td>\n",
       "      <td>1.92</td>\n",
       "      <td>0.463</td>\n",
       "      <td>F5</td>\n",
       "      <td>17.739063</td>\n",
       "      <td>9</td>\n",
       "    </tr>\n",
       "    <tr>\n",
       "      <th>12359</th>\n",
       "      <td>7.75</td>\n",
       "      <td>2.81</td>\n",
       "      <td>1.31</td>\n",
       "      <td>1.016</td>\n",
       "      <td>G5</td>\n",
       "      <td>14.993532</td>\n",
       "      <td>9</td>\n",
       "    </tr>\n",
       "    <tr>\n",
       "      <th>12360</th>\n",
       "      <td>5.78</td>\n",
       "      <td>6.76</td>\n",
       "      <td>0.90</td>\n",
       "      <td>-0.024</td>\n",
       "      <td>B9Vn</td>\n",
       "      <td>14.929733</td>\n",
       "      <td>0</td>\n",
       "    </tr>\n",
       "    <tr>\n",
       "      <th>12361</th>\n",
       "      <td>6.90</td>\n",
       "      <td>17.37</td>\n",
       "      <td>0.83</td>\n",
       "      <td>0.445</td>\n",
       "      <td>F5</td>\n",
       "      <td>18.098999</td>\n",
       "      <td>9</td>\n",
       "    </tr>\n",
       "    <tr>\n",
       "      <th>12362</th>\n",
       "      <td>8.72</td>\n",
       "      <td>4.36</td>\n",
       "      <td>0.87</td>\n",
       "      <td>0.279</td>\n",
       "      <td>A2</td>\n",
       "      <td>16.917432</td>\n",
       "      <td>9</td>\n",
       "    </tr>\n",
       "    <tr>\n",
       "      <th>12363</th>\n",
       "      <td>11.41</td>\n",
       "      <td>8.64</td>\n",
       "      <td>3.04</td>\n",
       "      <td>0.470</td>\n",
       "      <td>F7</td>\n",
       "      <td>21.092569</td>\n",
       "      <td>9</td>\n",
       "    </tr>\n",
       "    <tr>\n",
       "      <th>12364</th>\n",
       "      <td>11.65</td>\n",
       "      <td>5.51</td>\n",
       "      <td>2.03</td>\n",
       "      <td>0.717</td>\n",
       "      <td>G5</td>\n",
       "      <td>20.355758</td>\n",
       "      <td>9</td>\n",
       "    </tr>\n",
       "  </tbody>\n",
       "</table>\n",
       "</div>"
      ],
      "text/plain": [
       "        Vmag    Plx  e_Plx    B-V SpType       Amag  TargetClass\n",
       "12358   9.43   4.59   1.92  0.463     F5  17.739063            9\n",
       "12359   7.75   2.81   1.31  1.016     G5  14.993532            9\n",
       "12360   5.78   6.76   0.90 -0.024   B9Vn  14.929733            0\n",
       "12361   6.90  17.37   0.83  0.445     F5  18.098999            9\n",
       "12362   8.72   4.36   0.87  0.279     A2  16.917432            9\n",
       "12363  11.41   8.64   3.04  0.470     F7  21.092569            9\n",
       "12364  11.65   5.51   2.03  0.717     G5  20.355758            9"
      ]
     },
     "execution_count": 24,
     "metadata": {},
     "output_type": "execute_result"
    }
   ],
   "source": [
    "df.loc[12358: 12364] # Mostrar un intervalo de filas"
   ]
  },
  {
   "cell_type": "code",
   "execution_count": 25,
   "metadata": {},
   "outputs": [
    {
     "data": {
      "text/plain": [
       "0        9.10\n",
       "1        9.27\n",
       "2        6.61\n",
       "3        8.06\n",
       "4        8.55\n",
       "         ... \n",
       "96702    7.92\n",
       "96703    8.72\n",
       "96704    8.08\n",
       "96705    6.98\n",
       "96706    8.51\n",
       "Name: Vmag, Length: 96707, dtype: float64"
      ]
     },
     "execution_count": 25,
     "metadata": {},
     "output_type": "execute_result"
    }
   ],
   "source": [
    "df.Vmag # Ver una columna determinada"
   ]
  },
  {
   "cell_type": "code",
   "execution_count": 26,
   "metadata": {},
   "outputs": [
    {
     "data": {
      "text/html": [
       "<div>\n",
       "<style scoped>\n",
       "    .dataframe tbody tr th:only-of-type {\n",
       "        vertical-align: middle;\n",
       "    }\n",
       "\n",
       "    .dataframe tbody tr th {\n",
       "        vertical-align: top;\n",
       "    }\n",
       "\n",
       "    .dataframe thead th {\n",
       "        text-align: right;\n",
       "    }\n",
       "</style>\n",
       "<table border=\"1\" class=\"dataframe\">\n",
       "  <thead>\n",
       "    <tr style=\"text-align: right;\">\n",
       "      <th></th>\n",
       "      <th>Vmag</th>\n",
       "    </tr>\n",
       "  </thead>\n",
       "  <tbody>\n",
       "    <tr>\n",
       "      <th>0</th>\n",
       "      <td>9.10</td>\n",
       "    </tr>\n",
       "    <tr>\n",
       "      <th>1</th>\n",
       "      <td>9.27</td>\n",
       "    </tr>\n",
       "    <tr>\n",
       "      <th>2</th>\n",
       "      <td>6.61</td>\n",
       "    </tr>\n",
       "    <tr>\n",
       "      <th>3</th>\n",
       "      <td>8.06</td>\n",
       "    </tr>\n",
       "    <tr>\n",
       "      <th>4</th>\n",
       "      <td>8.55</td>\n",
       "    </tr>\n",
       "    <tr>\n",
       "      <th>...</th>\n",
       "      <td>...</td>\n",
       "    </tr>\n",
       "    <tr>\n",
       "      <th>96702</th>\n",
       "      <td>7.92</td>\n",
       "    </tr>\n",
       "    <tr>\n",
       "      <th>96703</th>\n",
       "      <td>8.72</td>\n",
       "    </tr>\n",
       "    <tr>\n",
       "      <th>96704</th>\n",
       "      <td>8.08</td>\n",
       "    </tr>\n",
       "    <tr>\n",
       "      <th>96705</th>\n",
       "      <td>6.98</td>\n",
       "    </tr>\n",
       "    <tr>\n",
       "      <th>96706</th>\n",
       "      <td>8.51</td>\n",
       "    </tr>\n",
       "  </tbody>\n",
       "</table>\n",
       "<p>96707 rows × 1 columns</p>\n",
       "</div>"
      ],
      "text/plain": [
       "       Vmag\n",
       "0      9.10\n",
       "1      9.27\n",
       "2      6.61\n",
       "3      8.06\n",
       "4      8.55\n",
       "...     ...\n",
       "96702  7.92\n",
       "96703  8.72\n",
       "96704  8.08\n",
       "96705  6.98\n",
       "96706  8.51\n",
       "\n",
       "[96707 rows x 1 columns]"
      ]
     },
     "execution_count": 26,
     "metadata": {},
     "output_type": "execute_result"
    }
   ],
   "source": [
    "df[[\"Vmag\"]] # Ver una fila determinada en el formato de DataFrame"
   ]
  },
  {
   "cell_type": "code",
   "execution_count": 28,
   "metadata": {},
   "outputs": [
    {
     "data": {
      "text/plain": [
       "9.43"
      ]
     },
     "execution_count": 28,
     "metadata": {},
     "output_type": "execute_result"
    }
   ],
   "source": [
    "df.loc[12358, \"Vmag\"] # Identificar un valor dando el número de fila y la columna"
   ]
  },
  {
   "attachments": {},
   "cell_type": "markdown",
   "metadata": {},
   "source": [
    "#### Medidas de tendencia central para Vmag"
   ]
  },
  {
   "cell_type": "code",
   "execution_count": 29,
   "metadata": {},
   "outputs": [
    {
     "data": {
      "text/plain": [
       "0    8.4\n",
       "Name: Vmag, dtype: float64"
      ]
     },
     "execution_count": 29,
     "metadata": {},
     "output_type": "execute_result"
    }
   ],
   "source": [
    "df.Vmag.mean()\n",
    "df.Vmag.median()\n",
    "df.Vmag.mode()"
   ]
  },
  {
   "cell_type": "code",
   "execution_count": 30,
   "metadata": {},
   "outputs": [
    {
     "name": "stdout",
     "output_type": "stream",
     "text": [
      "El promedio es 8.2917272793076, la mediana es 8.4 y la moda es 8.4\n"
     ]
    }
   ],
   "source": [
    "print(f\"El promedio es {df.Vmag.mean()}, la mediana es {df.Vmag.median()} y la moda es {df.Vmag.mode()[0]}\")"
   ]
  },
  {
   "attachments": {},
   "cell_type": "markdown",
   "metadata": {},
   "source": [
    "## DIAGRAMAS DE FRECUENCIA\n",
    "\n",
    "**Histograma:** Define rangos de valores y calcula cuántos valores hay en ese rango"
   ]
  },
  {
   "cell_type": "code",
   "execution_count": 31,
   "metadata": {},
   "outputs": [],
   "source": [
    "import matplotlib.pyplot as plt"
   ]
  },
  {
   "cell_type": "code",
   "execution_count": 32,
   "metadata": {},
   "outputs": [
    {
     "data": {
      "image/png": "[encoded data removed]",
      "text/plain": [
       "<Figure size 640x480 with 1 Axes>"
      ]
     },
     "metadata": {},
     "output_type": "display_data"
    }
   ],
   "source": [
    "cuentas, ejes, barras = plt.hist(df.Vmag, bins = 50, edgecolor= \"w\")\n",
    "plt.title(\"Histograma para Vmag\")\n",
    "plt.axvline(df.Vmag.mean(), color= \"red\", label= f\"Media ={df.Vmag.mean().round(2)}\")\n",
    "plt.axvline(df.Vmag.median(), color= \"green\", label=f\"Mediana = {df.Vmag.median().round(2)}\")\n",
    "plt.axvline(df.Vmag.mode()[0], color= \"purple\", label= f\"Moda = {df.Vmag.mode()[0].round(2)}\")\n",
    "plt.legend()\n",
    "plt.show()"
   ]
  },
  {
   "attachments": {},
   "cell_type": "markdown",
   "metadata": {},
   "source": [
    "En muchos casos resulta conveniente que el númer de bins sea la raiz cuadrada de la cantidad de datos\n",
    "\n",
    "$$ bins = \\sqrt{número datos} $$"
   ]
  },
  {
   "cell_type": "code",
   "execution_count": 33,
   "metadata": {},
   "outputs": [
    {
     "name": "stdout",
     "output_type": "stream",
     "text": [
      "[1.0000e+00 0.0000e+00 1.0000e+00 0.0000e+00 3.0000e+00 2.0000e+00\n",
      " 4.0000e+00 3.0000e+00 4.0000e+00 3.0000e+00 1.7000e+01 2.1000e+01\n",
      " 2.3000e+01 3.3000e+01 5.6000e+01 5.6000e+01 8.6000e+01 1.4000e+02\n",
      " 1.5000e+02 2.4000e+02 3.6600e+02 5.1900e+02 6.7900e+02 1.0080e+03\n",
      " 1.2850e+03 1.9350e+03 2.6370e+03 3.6510e+03 4.6220e+03 5.9240e+03\n",
      " 8.1600e+03 9.4430e+03 1.0646e+04 1.1048e+04 1.0584e+04 7.9100e+03\n",
      " 5.5140e+03 3.8010e+03 2.3630e+03 1.4700e+03 1.0600e+03 5.0900e+02\n",
      " 3.1800e+02 1.8100e+02 1.2600e+02 8.1000e+01 1.6000e+01 7.0000e+00\n",
      " 0.0000e+00 1.0000e+00]\n"
     ]
    }
   ],
   "source": [
    "print(cuentas)"
   ]
  },
  {
   "cell_type": "code",
   "execution_count": 34,
   "metadata": {},
   "outputs": [
    {
     "name": "stdout",
     "output_type": "stream",
     "text": [
      "[-1.44  -1.139 -0.838 -0.537 -0.236  0.065  0.366  0.667  0.968  1.269\n",
      "  1.57   1.871  2.172  2.473  2.774  3.075  3.376  3.677  3.978  4.279\n",
      "  4.58   4.881  5.182  5.483  5.784  6.085  6.386  6.687  6.988  7.289\n",
      "  7.59   7.891  8.192  8.493  8.794  9.095  9.396  9.697  9.998 10.299\n",
      " 10.6   10.901 11.202 11.503 11.804 12.105 12.406 12.707 13.008 13.309\n",
      " 13.61 ]\n"
     ]
    }
   ],
   "source": [
    "print(ejes)"
   ]
  },
  {
   "cell_type": "code",
   "execution_count": 35,
   "metadata": {},
   "outputs": [
    {
     "name": "stdout",
     "output_type": "stream",
     "text": [
      "<BarContainer object of 50 artists>\n"
     ]
    }
   ],
   "source": [
    "print(barras)"
   ]
  },
  {
   "cell_type": "code",
   "execution_count": 36,
   "metadata": {},
   "outputs": [
    {
     "data": {
      "text/plain": [
       "0         3.54\n",
       "1        21.90\n",
       "2         2.81\n",
       "3         7.75\n",
       "4         2.87\n",
       "         ...  \n",
       "96702     3.93\n",
       "96703     3.07\n",
       "96704     1.07\n",
       "96705     2.97\n",
       "96706    -1.18\n",
       "Name: Plx, Length: 96707, dtype: float64"
      ]
     },
     "execution_count": 36,
     "metadata": {},
     "output_type": "execute_result"
    }
   ],
   "source": [
    "df.Plx"
   ]
  },
  {
   "cell_type": "code",
   "execution_count": 37,
   "metadata": {},
   "outputs": [
    {
     "data": {
      "image/png": "[encoded data removed]",
      "text/plain": [
       "<Figure size 640x480 with 1 Axes>"
      ]
     },
     "metadata": {},
     "output_type": "display_data"
    }
   ],
   "source": [
    "plt.hist(df.Plx, bins = 100, edgecolor= \"white\", range = (-2,45))\n",
    "plt.title(\"Histograma para Plx\")\n",
    "plt.axvline(df.Plx.mean(), color= \"red\", label= f\"Media ={df.Plx.mean().round(2)}\")\n",
    "plt.axvline(df.Plx.median(), color= \"green\", label=f\"Mediana = {df.Plx.median().round(2)}\")\n",
    "plt.axvline(df.Plx.mode()[0], color= \"purple\", label= f\"Moda = {df.Plx.mode()[0].round(2)}\")\n",
    "plt.legend()\n",
    "plt.show()"
   ]
  },
  {
   "attachments": {},
   "cell_type": "markdown",
   "metadata": {},
   "source": [
    "# MEDIDAS DE DISPERSIÓN\n",
    "\n",
    "### CLASE 06/06/2023\n",
    "\n",
    "* Rango\n",
    "* Varianza\n",
    "* Desviación estándar"
   ]
  },
  {
   "attachments": {},
   "cell_type": "markdown",
   "metadata": {},
   "source": [
    "#### Rango"
   ]
  },
  {
   "cell_type": "code",
   "execution_count": 38,
   "metadata": {},
   "outputs": [
    {
     "data": {
      "text/plain": [
       "772.33"
      ]
     },
     "execution_count": 38,
     "metadata": {},
     "output_type": "execute_result"
    }
   ],
   "source": [
    "df.Plx.max()"
   ]
  },
  {
   "cell_type": "code",
   "execution_count": 39,
   "metadata": {},
   "outputs": [
    {
     "data": {
      "text/plain": [
       "-35.1"
      ]
     },
     "execution_count": 39,
     "metadata": {},
     "output_type": "execute_result"
    }
   ],
   "source": [
    "df.Plx.min()"
   ]
  },
  {
   "cell_type": "code",
   "execution_count": 41,
   "metadata": {},
   "outputs": [
    {
     "data": {
      "text/plain": [
       "807.4300000000001"
      ]
     },
     "execution_count": 41,
     "metadata": {},
     "output_type": "execute_result"
    }
   ],
   "source": [
    "rango = df.Plx.max() - df.Plx.min()\n",
    "rango"
   ]
  },
  {
   "attachments": {},
   "cell_type": "markdown",
   "metadata": {},
   "source": [
    "#### Varianza\n",
    "\n",
    "$$ Varianza(x) = \\frac{1}{N} \\sum_{n-1}^N (x_n - \\bar{x})^2 $$ "
   ]
  },
  {
   "cell_type": "code",
   "execution_count": 42,
   "metadata": {},
   "outputs": [
    {
     "data": {
      "text/plain": [
       "124.25180135595562"
      ]
     },
     "execution_count": 42,
     "metadata": {},
     "output_type": "execute_result"
    }
   ],
   "source": [
    "varianza = ((df.Plx - df.Plx.mean())**2).sum() / len(df)\n",
    "varianza"
   ]
  },
  {
   "cell_type": "code",
   "execution_count": 43,
   "metadata": {},
   "outputs": [
    {
     "data": {
      "text/plain": [
       "124.25308619662069"
      ]
     },
     "execution_count": 43,
     "metadata": {},
     "output_type": "execute_result"
    }
   ],
   "source": [
    "df.Plx.var() # Varianzas grandes datos muy dispersos, Varianza pequeña los datos no estàn muy dispersos"
   ]
  },
  {
   "attachments": {},
   "cell_type": "markdown",
   "metadata": {},
   "source": [
    "#### Desviación estándar\n",
    "\n",
    "$$ \\sigma(x) = \\sqrt{Var(x)} = \\sqrt{\\frac{1}{N} \\sum_{n-1}^N (x_n - \\bar{x})^2}$$ "
   ]
  },
  {
   "cell_type": "code",
   "execution_count": 44,
   "metadata": {},
   "outputs": [
    {
     "data": {
      "text/plain": [
       "11.14682920636876"
      ]
     },
     "execution_count": 44,
     "metadata": {},
     "output_type": "execute_result"
    }
   ],
   "source": [
    "np.sqrt(varianza)"
   ]
  },
  {
   "cell_type": "code",
   "execution_count": 45,
   "metadata": {},
   "outputs": [
    {
     "data": {
      "text/plain": [
       "11.146886838782418"
      ]
     },
     "execution_count": 45,
     "metadata": {},
     "output_type": "execute_result"
    }
   ],
   "source": [
    "df.Plx.std() # En promedio de cómo son las distancias de los datos respecto a la media"
   ]
  },
  {
   "attachments": {},
   "cell_type": "markdown",
   "metadata": {},
   "source": [
    "Si la medida es $ \\bar{x} $ y la desviación es $\\sigma$, la mayoría de los datos está entre:\n",
    "\n",
    "$$ \\bar{x} - \\sigma $$\n",
    "$$ \\bar{x} + \\sigma $$\n"
   ]
  },
  {
   "cell_type": "code",
   "execution_count": 46,
   "metadata": {},
   "outputs": [
    {
     "data": {
      "text/plain": [
       "-4.039113254657173"
      ]
     },
     "execution_count": 46,
     "metadata": {},
     "output_type": "execute_result"
    }
   ],
   "source": [
    "df.Plx.mean() - df.Plx.std()"
   ]
  },
  {
   "cell_type": "code",
   "execution_count": 47,
   "metadata": {},
   "outputs": [
    {
     "data": {
      "text/plain": [
       "18.254660422907662"
      ]
     },
     "execution_count": 47,
     "metadata": {},
     "output_type": "execute_result"
    }
   ],
   "source": [
    "df.Plx.mean() + df.Plx.std()"
   ]
  },
  {
   "cell_type": "code",
   "execution_count": 48,
   "metadata": {},
   "outputs": [
    {
     "data": {
      "image/png": "[encoded data removed]",
      "text/plain": [
       "<Figure size 640x480 with 1 Axes>"
      ]
     },
     "metadata": {},
     "output_type": "display_data"
    }
   ],
   "source": [
    "plt.hist(df.Plx, bins = 100, edgecolor= \"white\", range = (-4,18))\n",
    "plt.title(\"Histograma para Plx\")\n",
    "plt.axvline(df.Plx.mean(), color= \"red\", label= f\"Media ={df.Plx.mean().round(2)}\")\n",
    "plt.axvline(df.Plx.median(), color= \"green\", label=f\"Mediana = {df.Plx.median().round(2)}\")\n",
    "plt.axvline(df.Plx.mode()[0], color= \"purple\", label= f\"Moda = {df.Plx.mode()[0].round(2)}\")\n",
    "plt.legend()\n",
    "plt.show()"
   ]
  },
  {
   "attachments": {},
   "cell_type": "markdown",
   "metadata": {},
   "source": [
    "## MEDIDAS DE POSICIÓN\n",
    "\n",
    "Percentiles y quartiles"
   ]
  },
  {
   "cell_type": "code",
   "execution_count": 49,
   "metadata": {},
   "outputs": [
    {
     "data": {
      "image/png": "[encoded data removed]",
      "text/plain": [
       "<Figure size 640x480 with 1 Axes>"
      ]
     },
     "metadata": {},
     "output_type": "display_data"
    }
   ],
   "source": [
    "cuentas, ejes, barras = plt.hist(df.Vmag, bins = 300, edgecolor= \"w\")\n",
    "plt.title(\"Histograma para Vmag\")\n",
    "plt.axvline(df.Vmag.mean(), color= \"red\", label= f\"Media ={df.Vmag.mean().round(2)}\")\n",
    "plt.axvline(df.Vmag.median(), color= \"yellow\", label=f\"Mediana = {df.Vmag.median().round(2)}\")\n",
    "plt.axvline(df.Vmag.mode()[0], color= \"purple\", label= f\"Moda = {df.Vmag.mode()[0].round(2)}\")\n",
    "plt.axvline(df.Vmag.quantile(0.25), color = \"green\", label =f\"Q1 = {df.Vmag.quantile(0.25)}\")\n",
    "plt.axvline(df.Vmag.quantile(0.75), color = \"yellow\", label =f\"Q3 = {df.Vmag.quantile(0.75)}\")\n",
    "plt.legend()\n",
    "plt.show()"
   ]
  },
  {
   "cell_type": "code",
   "execution_count": 50,
   "metadata": {},
   "outputs": [
    {
     "data": {
      "image/png": "[encoded data removed]",
      "text/plain": [
       "<Figure size 700x200 with 1 Axes>"
      ]
     },
     "metadata": {},
     "output_type": "display_data"
    }
   ],
   "source": [
    "plt.figure(figsize= (7,2))\n",
    "plt.boxplot(df.Vmag, vert = False)\n",
    "plt.axvline(df.Vmag.quantile(0.25), color = \"green\", label =f\"Q1 = {df.Vmag.quantile(0.25)}\")\n",
    "plt.axvline(df.Vmag.quantile(0.75), color = \"yellow\", label =f\"Q3 = {df.Vmag.quantile(0.75)}\")\n",
    "plt.legend()\n",
    "plt.title(\"Boxpolt de Vmag\")\n",
    "plt.show()"
   ]
  },
  {
   "cell_type": "code",
   "execution_count": 51,
   "metadata": {},
   "outputs": [
    {
     "data": {
      "text/plain": [
       "8.4"
      ]
     },
     "execution_count": 51,
     "metadata": {},
     "output_type": "execute_result"
    }
   ],
   "source": [
    "df.Vmag.quantile() # Calcula la mediana"
   ]
  },
  {
   "attachments": {},
   "cell_type": "markdown",
   "metadata": {},
   "source": [
    "Uso de filtros en pandas"
   ]
  },
  {
   "cell_type": "code",
   "execution_count": 52,
   "metadata": {},
   "outputs": [
    {
     "data": {
      "text/plain": [
       "8.4"
      ]
     },
     "execution_count": 52,
     "metadata": {},
     "output_type": "execute_result"
    }
   ],
   "source": [
    "df.Vmag.median()"
   ]
  },
  {
   "cell_type": "code",
   "execution_count": 53,
   "metadata": {},
   "outputs": [
    {
     "data": {
      "text/plain": [
       "5        12.31\n",
       "16       11.03\n",
       "35       10.44\n",
       "39       10.61\n",
       "44       10.78\n",
       "         ...  \n",
       "96562    10.44\n",
       "96567    10.56\n",
       "96571    10.86\n",
       "96671    10.26\n",
       "96689    10.28\n",
       "Name: Vmag, Length: 6027, dtype: float64"
      ]
     },
     "execution_count": 53,
     "metadata": {},
     "output_type": "execute_result"
    }
   ],
   "source": [
    "df.Vmag [ df.Vmag > 10]"
   ]
  },
  {
   "cell_type": "code",
   "execution_count": 54,
   "metadata": {},
   "outputs": [
    {
     "data": {
      "text/plain": [
       "74       8.4\n",
       "587      8.4\n",
       "1084     8.4\n",
       "1138     8.4\n",
       "1219     8.4\n",
       "        ... \n",
       "94816    8.4\n",
       "95319    8.4\n",
       "95475    8.4\n",
       "95902    8.4\n",
       "96424    8.4\n",
       "Name: Vmag, Length: 426, dtype: float64"
      ]
     },
     "execution_count": 54,
     "metadata": {},
     "output_type": "execute_result"
    }
   ],
   "source": [
    "df.Vmag[df.Vmag == df.Vmag.median()]"
   ]
  },
  {
   "cell_type": "code",
   "execution_count": 56,
   "metadata": {},
   "outputs": [
    {
     "data": {
      "text/plain": [
       "4.0"
      ]
     },
     "execution_count": 56,
     "metadata": {},
     "output_type": "execute_result"
    }
   ],
   "source": [
    "S = pd.Series([1, 2, 3, 4, 5, 6, 7])\n",
    "S.median()"
   ]
  },
  {
   "cell_type": "code",
   "execution_count": 57,
   "metadata": {},
   "outputs": [
    {
     "data": {
      "text/plain": [
       "0    2\n",
       "1    4\n",
       "2    4\n",
       "3    4\n",
       "4    4\n",
       "5    7\n",
       "6    8\n",
       "dtype: int64"
      ]
     },
     "execution_count": 57,
     "metadata": {},
     "output_type": "execute_result"
    }
   ],
   "source": [
    "Z = pd.Series([2, 4, 4, 4, 4, 7, 8])\n",
    "Z"
   ]
  },
  {
   "cell_type": "code",
   "execution_count": 58,
   "metadata": {},
   "outputs": [
    {
     "data": {
      "text/plain": [
       "4.0"
      ]
     },
     "execution_count": 58,
     "metadata": {},
     "output_type": "execute_result"
    }
   ],
   "source": [
    "Z.median()"
   ]
  },
  {
   "cell_type": "code",
   "execution_count": 59,
   "metadata": {},
   "outputs": [
    {
     "data": {
      "text/plain": [
       "5    7\n",
       "6    8\n",
       "dtype: int64"
      ]
     },
     "execution_count": 59,
     "metadata": {},
     "output_type": "execute_result"
    }
   ],
   "source": [
    "Z [ Z > Z.median()]"
   ]
  },
  {
   "cell_type": "code",
   "execution_count": 60,
   "metadata": {},
   "outputs": [
    {
     "data": {
      "text/plain": [
       "2"
      ]
     },
     "execution_count": 60,
     "metadata": {},
     "output_type": "execute_result"
    }
   ],
   "source": [
    "len( Z [ Z > Z.median()])"
   ]
  },
  {
   "cell_type": "code",
   "execution_count": 62,
   "metadata": {},
   "outputs": [
    {
     "data": {
      "text/plain": [
       "0    2\n",
       "dtype: int64"
      ]
     },
     "execution_count": 62,
     "metadata": {},
     "output_type": "execute_result"
    }
   ],
   "source": [
    "Z [ Z < Z.median()]"
   ]
  },
  {
   "cell_type": "code",
   "execution_count": 63,
   "metadata": {},
   "outputs": [
    {
     "data": {
      "text/plain": [
       "1"
      ]
     },
     "execution_count": 63,
     "metadata": {},
     "output_type": "execute_result"
    }
   ],
   "source": [
    "len( Z [ Z < Z.median()])"
   ]
  },
  {
   "cell_type": "code",
   "execution_count": 64,
   "metadata": {},
   "outputs": [
    {
     "data": {
      "text/plain": [
       "1    4\n",
       "2    4\n",
       "3    4\n",
       "4    4\n",
       "dtype: int64"
      ]
     },
     "execution_count": 64,
     "metadata": {},
     "output_type": "execute_result"
    }
   ],
   "source": [
    "Z [ Z == Z.median()]"
   ]
  },
  {
   "cell_type": "code",
   "execution_count": 65,
   "metadata": {},
   "outputs": [
    {
     "data": {
      "text/plain": [
       "4"
      ]
     },
     "execution_count": 65,
     "metadata": {},
     "output_type": "execute_result"
    }
   ],
   "source": [
    "len(Z [ Z == Z.median()])"
   ]
  },
  {
   "cell_type": "code",
   "execution_count": 66,
   "metadata": {},
   "outputs": [
    {
     "data": {
      "text/plain": [
       "1.46"
      ]
     },
     "execution_count": 66,
     "metadata": {},
     "output_type": "execute_result"
    }
   ],
   "source": [
    "RIQ = df.Vmag.quantile(0.75) - df.Vmag.quantile(0.25)\n",
    "RIQ "
   ]
  },
  {
   "cell_type": "code",
   "execution_count": 67,
   "metadata": {},
   "outputs": [
    {
     "data": {
      "text/plain": [
       "3        8.06\n",
       "4        8.55\n",
       "7        9.05\n",
       "8        8.59\n",
       "9        8.59\n",
       "         ... \n",
       "96701    7.69\n",
       "96702    7.92\n",
       "96703    8.72\n",
       "96704    8.08\n",
       "96706    8.51\n",
       "Name: Vmag, Length: 48174, dtype: float64"
      ]
     },
     "execution_count": 67,
     "metadata": {},
     "output_type": "execute_result"
    }
   ],
   "source": [
    "df.Vmag [( df.Vmag.quantile(0.25) < df.Vmag) & (df.Vmag < df.Vmag.quantile(0.75))]"
   ]
  },
  {
   "cell_type": "code",
   "execution_count": 68,
   "metadata": {},
   "outputs": [
    {
     "data": {
      "text/plain": [
       "5.42"
      ]
     },
     "execution_count": 68,
     "metadata": {},
     "output_type": "execute_result"
    }
   ],
   "source": [
    "df.Vmag.quantile(0.25) - 1.5*RIQ"
   ]
  },
  {
   "cell_type": "code",
   "execution_count": 69,
   "metadata": {},
   "outputs": [
    {
     "data": {
      "text/plain": [
       "11.26"
      ]
     },
     "execution_count": 69,
     "metadata": {},
     "output_type": "execute_result"
    }
   ],
   "source": [
    "df.Vmag.quantile(0.75) + 1.5*RIQ"
   ]
  },
  {
   "cell_type": "code",
   "execution_count": 70,
   "metadata": {},
   "outputs": [
    {
     "data": {
      "text/plain": [
       "0        9.10\n",
       "1        9.27\n",
       "2        6.61\n",
       "3        8.06\n",
       "4        8.55\n",
       "         ... \n",
       "96702    7.92\n",
       "96703    8.72\n",
       "96704    8.08\n",
       "96705    6.98\n",
       "96706    8.51\n",
       "Name: Vmag, Length: 93794, dtype: float64"
      ]
     },
     "execution_count": 70,
     "metadata": {},
     "output_type": "execute_result"
    }
   ],
   "source": [
    "df.Vmag [( df.Vmag.quantile(0.25) - 1.5*RIQ < df.Vmag) & (df.Vmag < df.Vmag.quantile(0.75) + 1.5*RIQ)]"
   ]
  },
  {
   "cell_type": "code",
   "execution_count": 71,
   "metadata": {},
   "outputs": [
    {
     "data": {
      "text/plain": [
       "96.9878085350595"
      ]
     },
     "execution_count": 71,
     "metadata": {},
     "output_type": "execute_result"
    }
   ],
   "source": [
    "len(df.Vmag [( df.Vmag.quantile(0.25) - 1.5*RIQ < df.Vmag) & (df.Vmag < df.Vmag.quantile(0.75) + 1.5*RIQ)]) / len(df) * 100\n"
   ]
  },
  {
   "cell_type": "code",
   "execution_count": 72,
   "metadata": {},
   "outputs": [
    {
     "data": {
      "text/plain": [
       "2.9780677717228325"
      ]
     },
     "execution_count": 72,
     "metadata": {},
     "output_type": "execute_result"
    }
   ],
   "source": [
    "len(df.Vmag [( df.Vmag.quantile(0.25) - 1.5*RIQ > df.Vmag) | (df.Vmag > df.Vmag.quantile(0.75) + 1.5*RIQ)]) / len(df) * 100\n"
   ]
  },
  {
   "attachments": {},
   "cell_type": "markdown",
   "metadata": {},
   "source": [
    "#### CLASE MIÉRCOLES 07/06/2023\n",
    "\n",
    "**Ejercicio:**\n",
    "*Analizar estadísticamente los datos de la columna e_Plx. Calcular*\n",
    " \n",
    "* Medidas de tendencia central.\n",
    "* Medidas de dispersión.\n",
    "* Medidas de posición.\n",
    "* Hacer histograma.\n",
    "* Hacer gráfico de caja y bigote"
   ]
  },
  {
   "cell_type": "code",
   "execution_count": 73,
   "metadata": {},
   "outputs": [
    {
     "name": "stdout",
     "output_type": "stream",
     "text": [
      "Medidas de tendencia central\n",
      "Promedio = 1.264 \n",
      "Mediana = 1.08\n",
      "Moda = 0.91\n"
     ]
    }
   ],
   "source": [
    "print(\"Medidas de tendencia central\")\n",
    "print(f\"Promedio = {df.e_Plx.mean().round(3)} \\nMediana = {df.e_Plx.median()}\\nModa = {df.e_Plx.mode()[0]}\")\n"
   ]
  },
  {
   "cell_type": "code",
   "execution_count": 74,
   "metadata": {},
   "outputs": [
    {
     "name": "stdout",
     "output_type": "stream",
     "text": [
      "Medidas de dispersion\n",
      "Rango= 68.69\n",
      "Varianza = 1.337\n",
      "Desviación estándar= 1.156\n"
     ]
    }
   ],
   "source": [
    "print(\"Medidas de dispersion\")\n",
    "rango_e_Plx = df.e_Plx.max() - df.e_Plx.min()\n",
    "print(\"Rango=\", rango_e_Plx)\n",
    "print(\"Varianza =\", df.e_Plx.var().round(3))\n",
    "print(\"Desviación estándar=\",df.e_Plx.std().round(3))"
   ]
  },
  {
   "cell_type": "code",
   "execution_count": 75,
   "metadata": {},
   "outputs": [
    {
     "data": {
      "image/png": "[encoded data removed]",
      "text/plain": [
       "<Figure size 640x480 with 1 Axes>"
      ]
     },
     "metadata": {},
     "output_type": "display_data"
    }
   ],
   "source": [
    "cuentas, ejes, barras = plt.hist(df.e_Plx, bins = 100, edgecolor= \"w\", range = (0, 4))\n",
    "plt.title(\"Histograma para e_Plx\")\n",
    "plt.axvline(df.e_Plx.mean(), color= \"red\", label= f\"Media ={df.e_Plx.mean().round(2)}\")\n",
    "plt.axvline(df.e_Plx.median(), color= \"yellow\", label=f\"Mediana = {df.e_Plx.median().round(2)}\")\n",
    "plt.axvline(df.e_Plx.mode()[0], color= \"purple\", label= f\"Moda = {df.e_Plx.mode()[0].round(2)}\")\n",
    "plt.axvline(df.e_Plx.quantile(0.25), color = \"green\", label =f\"Q1 = {df.e_Plx.quantile(0.25)}\")\n",
    "plt.axvline(df.e_Plx.quantile(0.75), color = \"orange\", label =f\"Q3 = {df.e_Plx.quantile(0.75)}\")\n",
    "plt.legend()\n",
    "plt.show()"
   ]
  },
  {
   "cell_type": "code",
   "execution_count": 76,
   "metadata": {},
   "outputs": [
    {
     "data": {
      "text/plain": [
       "0.10773735384984273"
      ]
     },
     "execution_count": 76,
     "metadata": {},
     "output_type": "execute_result"
    }
   ],
   "source": [
    "df.e_Plx.mean() - df.e_Plx.std()"
   ]
  },
  {
   "cell_type": "code",
   "execution_count": 77,
   "metadata": {},
   "outputs": [
    {
     "data": {
      "text/plain": [
       "2.4205772459205974"
      ]
     },
     "execution_count": 77,
     "metadata": {},
     "output_type": "execute_result"
    }
   ],
   "source": [
    "df.e_Plx.mean() + df.e_Plx.std()"
   ]
  },
  {
   "cell_type": "code",
   "execution_count": 78,
   "metadata": {},
   "outputs": [
    {
     "data": {
      "image/png": "[encoded data removed]",
      "text/plain": [
       "<Figure size 700x200 with 1 Axes>"
      ]
     },
     "metadata": {},
     "output_type": "display_data"
    }
   ],
   "source": [
    "plt.figure(figsize= (7,2))\n",
    "plt.boxplot(df.e_Plx, vert = False)\n",
    "plt.axvline(df.e_Plx.quantile(0.25), color = \"green\", label =f\"Q1 = {df.e_Plx.quantile(0.25)}\")\n",
    "plt.axvline(df.e_Plx.quantile(0.75), color = \"yellow\", label =f\"Q3 = {df.e_Plx.quantile(0.75)}\")\n",
    "plt.legend()\n",
    "plt.title(\"Boxplot de e_Plx\")\n",
    "plt.xlim(0,4)\n",
    "plt.show()"
   ]
  },
  {
   "cell_type": "code",
   "execution_count": 79,
   "metadata": {},
   "outputs": [
    {
     "name": "stdout",
     "output_type": "stream",
     "text": [
      "Primer quartil= 0.87\n",
      "Segundo quartil= 1.36\n",
      "Rango Interquartilico= 0.49\n"
     ]
    }
   ],
   "source": [
    "RIQ = df.e_Plx.quantile(0.75) - df.e_Plx.quantile(0.25)\n",
    "print(\"Primer quartil=\",df.e_Plx.quantile(0.25))\n",
    "print(\"Segundo quartil=\",df.e_Plx.quantile(0.75))\n",
    "print(\"Rango Interquartilico=\",RIQ.round(2))"
   ]
  },
  {
   "cell_type": "code",
   "execution_count": 80,
   "metadata": {},
   "outputs": [
    {
     "data": {
      "text/plain": [
       "Index(['Vmag', 'Plx', 'e_Plx', 'B-V', 'SpType', 'Amag', 'TargetClass'], dtype='object')"
      ]
     },
     "execution_count": 80,
     "metadata": {},
     "output_type": "execute_result"
    }
   ],
   "source": [
    "df.columns"
   ]
  },
  {
   "cell_type": "code",
   "execution_count": null,
   "metadata": {},
   "outputs": [],
   "source": []
  }
 ],
 "metadata": {
  "kernelspec": {
   "display_name": "Python 3",
   "language": "python",
   "name": "python3"
  },
  "language_info": {
   "codemirror_mode": {
    "name": "ipython",
    "version": 3
   },
   "file_extension": ".py",
   "mimetype": "text/x-python",
   "name": "python",
   "nbconvert_exporter": "python",
   "pygments_lexer": "ipython3",
   "version": "3.11.4"
  },
  "orig_nbformat": 4
 },
 "nbformat": 4,
 "nbformat_minor": 2
}
