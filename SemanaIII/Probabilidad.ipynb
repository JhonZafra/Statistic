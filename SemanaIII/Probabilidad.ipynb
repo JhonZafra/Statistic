{
 "cells": [
  {
   "attachments": {},
   "cell_type": "markdown",
   "metadata": {},
   "source": [
    "# PROBABILIDADES\n",
    "\n",
    "* La probabilidad es una medida numérica de la posibilidad de que un evento ocurra.\n",
    "* La probabilidad toma valores entre 0 y 1.\n",
    "* Si un evento tiene probabilidad 0 significa que no ocurrirá.\n",
    "* Si un evento tiene probabilidad 1 significa que si ocurrirá.\n",
    "* Siempre se habla de la probabilidad de eventos que podrían ocurrir en un tiempo futuro. Nunca en el pasado\n"
   ]
  },
  {
   "cell_type": "code",
   "execution_count": 2,
   "metadata": {},
   "outputs": [],
   "source": [
    "import numpy as np\n",
    "import pandas as pd\n",
    "import seaborn as sns\n",
    "import matplotlib.pyplot as plt\n",
    "from itertools import product"
   ]
  },
  {
   "attachments": {},
   "cell_type": "markdown",
   "metadata": {},
   "source": [
    "#### Uso de paréntesis, corchetes cuadrados y llaves en Python"
   ]
  },
  {
   "cell_type": "code",
   "execution_count": 8,
   "metadata": {},
   "outputs": [
    {
     "name": "stdout",
     "output_type": "stream",
     "text": [
      "(0, 1)\n",
      "<class 'tuple'>\n"
     ]
    }
   ],
   "source": [
    "x = (0, 1)\n",
    "print(x) # las tuplas son inmutables, una vez definidos no puedo cambiar los valores.\n",
    "print(type(x))"
   ]
  },
  {
   "cell_type": "code",
   "execution_count": 9,
   "metadata": {},
   "outputs": [
    {
     "name": "stdout",
     "output_type": "stream",
     "text": [
      "<class 'list'>\n"
     ]
    }
   ],
   "source": [
    "y = [0, 1] # Las listas son mutables.\n",
    "print(type(y))"
   ]
  },
  {
   "cell_type": "code",
   "execution_count": 10,
   "metadata": {},
   "outputs": [
    {
     "name": "stdout",
     "output_type": "stream",
     "text": [
      "[1, 1]\n"
     ]
    }
   ],
   "source": [
    "y[0] = 1\n",
    "print(y)"
   ]
  },
  {
   "cell_type": "code",
   "execution_count": 13,
   "metadata": {},
   "outputs": [
    {
     "name": "stdout",
     "output_type": "stream",
     "text": [
      "{0, 1}\n",
      "<class 'set'>\n"
     ]
    }
   ],
   "source": [
    "z = {0, 1} # las llaves generan un conjunto\n",
    "print(type(z))"
   ]
  },
  {
   "cell_type": "code",
   "execution_count": 15,
   "metadata": {},
   "outputs": [
    {
     "ename": "TypeError",
     "evalue": "'set' object is not subscriptable",
     "output_type": "error",
     "traceback": [
      "\u001b[1;31m---------------------------------------------------------------------------\u001b[0m",
      "\u001b[1;31mTypeError\u001b[0m                                 Traceback (most recent call last)",
      "Cell \u001b[1;32mIn[15], line 1\u001b[0m\n\u001b[1;32m----> 1\u001b[0m z[\u001b[39m0\u001b[39;49m] \u001b[39m# los elementos de los conjuntos no son etiquetables\u001b[39;00m\n\u001b[0;32m      2\u001b[0m \u001b[39mprint\u001b[39m(z)\n",
      "\u001b[1;31mTypeError\u001b[0m: 'set' object is not subscriptable"
     ]
    }
   ],
   "source": [
    "z[0] # los elementos de los conjuntos no son etiquetables\n",
    "print(z)"
   ]
  },
  {
   "attachments": {},
   "cell_type": "markdown",
   "metadata": {},
   "source": [
    "**Espacio muestral**: El conjunto de posibles resultados de un experimento.\n",
    "\n",
    "*Ejemplos*\n",
    "* Lanzamiento de una moneda: El espacio muestral son los resultados {cara, sello}.\n",
    "* Lanzamiento de un dado: El espacio muestral son los números {1, 2, 3, 4, 5, 6}\n",
    "\n",
    "La probabilidad de todo el espacio muestral es 1. Esto es la suma de eventos induviduales disyuntos."
   ]
  },
  {
   "cell_type": "code",
   "execution_count": 17,
   "metadata": {},
   "outputs": [
    {
     "name": "stdout",
     "output_type": "stream",
     "text": [
      "{'sello', 'cara'}\n"
     ]
    }
   ],
   "source": [
    "Ω = {'cara', 'sello'}\n",
    "print(Ω)"
   ]
  },
  {
   "cell_type": "code",
   "execution_count": 18,
   "metadata": {},
   "outputs": [],
   "source": [
    "Ω = set([1, 2, 3, 4, 5, 6])"
   ]
  },
  {
   "cell_type": "code",
   "execution_count": 19,
   "metadata": {},
   "outputs": [
    {
     "name": "stdout",
     "output_type": "stream",
     "text": [
      "{1, 2, 3, 4, 5, 6}\n"
     ]
    }
   ],
   "source": [
    "print(Ω)"
   ]
  },
  {
   "cell_type": "code",
   "execution_count": 20,
   "metadata": {},
   "outputs": [
    {
     "data": {
      "text/plain": [
       "set"
      ]
     },
     "execution_count": 20,
     "metadata": {},
     "output_type": "execute_result"
    }
   ],
   "source": [
    "type(Ω)"
   ]
  },
  {
   "attachments": {},
   "cell_type": "markdown",
   "metadata": {},
   "source": [
    "Espacio muestal del lanzamiento de dos dados"
   ]
  },
  {
   "cell_type": "code",
   "execution_count": 23,
   "metadata": {},
   "outputs": [
    {
     "data": {
      "text/plain": [
       "[(1, 1),\n",
       " (1, 2),\n",
       " (1, 3),\n",
       " (1, 4),\n",
       " (1, 5),\n",
       " (1, 6),\n",
       " (2, 1),\n",
       " (2, 2),\n",
       " (2, 3),\n",
       " (2, 4),\n",
       " (2, 5),\n",
       " (2, 6),\n",
       " (3, 1),\n",
       " (3, 2),\n",
       " (3, 3),\n",
       " (3, 4),\n",
       " (3, 5),\n",
       " (3, 6),\n",
       " (4, 1),\n",
       " (4, 2),\n",
       " (4, 3),\n",
       " (4, 4),\n",
       " (4, 5),\n",
       " (4, 6),\n",
       " (5, 1),\n",
       " (5, 2),\n",
       " (5, 3),\n",
       " (5, 4),\n",
       " (5, 5),\n",
       " (5, 6),\n",
       " (6, 1),\n",
       " (6, 2),\n",
       " (6, 3),\n",
       " (6, 4),\n",
       " (6, 5),\n",
       " (6, 6)]"
      ]
     },
     "execution_count": 23,
     "metadata": {},
     "output_type": "execute_result"
    }
   ],
   "source": [
    "list(product([1, 2, 3, 4, 5, 6], repeat = 2))"
   ]
  },
  {
   "cell_type": "code",
   "execution_count": 27,
   "metadata": {},
   "outputs": [
    {
     "name": "stdout",
     "output_type": "stream",
     "text": [
      "{(3, 4), (4, 3), (3, 1), (5, 4), (4, 6), (5, 1), (2, 2), (1, 6), (2, 5), (1, 3), (6, 2), (6, 5), (4, 2), (4, 5), (3, 3), (5, 6), (3, 6), (5, 3), (2, 4), (1, 2), (2, 1), (1, 5), (6, 1), (6, 4), (3, 2), (4, 1), (3, 5), (5, 2), (4, 4), (5, 5), (1, 1), (1, 4), (2, 3), (2, 6), (6, 6), (6, 3)}\n"
     ]
    }
   ],
   "source": [
    "Ω = set(product([1, 2, 3, 4, 5, 6], repeat = 2))\n",
    "print(Ω)"
   ]
  },
  {
   "attachments": {},
   "cell_type": "markdown",
   "metadata": {},
   "source": [
    "Otras formas de hacerlo"
   ]
  },
  {
   "cell_type": "code",
   "execution_count": 28,
   "metadata": {},
   "outputs": [
    {
     "name": "stdout",
     "output_type": "stream",
     "text": [
      "1\n",
      "2\n",
      "3\n",
      "4\n",
      "5\n",
      "6\n"
     ]
    }
   ],
   "source": [
    "for n in range(1, 7):\n",
    "    print(n)"
   ]
  },
  {
   "cell_type": "code",
   "execution_count": 29,
   "metadata": {},
   "outputs": [
    {
     "data": {
      "text/plain": [
       "[1, 2, 3, 4, 5, 6]"
      ]
     },
     "execution_count": 29,
     "metadata": {},
     "output_type": "execute_result"
    }
   ],
   "source": [
    "[n for n in range(1,7)]"
   ]
  },
  {
   "cell_type": "code",
   "execution_count": 32,
   "metadata": {},
   "outputs": [
    {
     "name": "stdout",
     "output_type": "stream",
     "text": [
      "{(3, 4), (4, 3), (3, 1), (5, 4), (4, 6), (5, 1), (2, 2), (1, 6), (2, 5), (1, 3), (6, 2), (6, 5), (4, 2), (4, 5), (3, 3), (5, 6), (3, 6), (5, 3), (2, 4), (1, 2), (2, 1), (1, 5), (6, 1), (6, 4), (3, 2), (4, 1), (3, 5), (5, 2), (4, 4), (5, 5), (1, 1), (1, 4), (2, 3), (2, 6), (6, 6), (6, 3)}\n",
      "36\n"
     ]
    }
   ],
   "source": [
    "con = {(n,m) for n in range(1,7) for m in range(1,7)}\n",
    "print(con)\n",
    "print(len(con))"
   ]
  },
  {
   "cell_type": "code",
   "execution_count": 33,
   "metadata": {},
   "outputs": [
    {
     "data": {
      "text/plain": [
       "36"
      ]
     },
     "execution_count": 33,
     "metadata": {},
     "output_type": "execute_result"
    }
   ],
   "source": [
    "len(Ω)"
   ]
  },
  {
   "attachments": {},
   "cell_type": "markdown",
   "metadata": {},
   "source": [
    "### Funciones en Python\n",
    "\n",
    "Ejemplo de función matemática\n",
    "$$ f(x) = 3x^2 $$"
   ]
  },
  {
   "cell_type": "code",
   "execution_count": 116,
   "metadata": {},
   "outputs": [],
   "source": [
    "def f(x): # Sintaxis en python:\n",
    "          # def nombre_funcion(argumento):\n",
    "          #      return Tarea\n",
    "    return 3*x**2"
   ]
  },
  {
   "cell_type": "code",
   "execution_count": 117,
   "metadata": {},
   "outputs": [
    {
     "data": {
      "text/plain": [
       "75"
      ]
     },
     "execution_count": 117,
     "metadata": {},
     "output_type": "execute_result"
    }
   ],
   "source": [
    "f(5)"
   ]
  },
  {
   "cell_type": "code",
   "execution_count": 118,
   "metadata": {},
   "outputs": [],
   "source": [
    "def saludo(nombre):\n",
    "    return print('Hola ' + nombre)"
   ]
  },
  {
   "cell_type": "code",
   "execution_count": 119,
   "metadata": {},
   "outputs": [
    {
     "name": "stdout",
     "output_type": "stream",
     "text": [
      "Hola Nicolas\n"
     ]
    }
   ],
   "source": [
    "saludo('Nicolas')"
   ]
  },
  {
   "attachments": {},
   "cell_type": "markdown",
   "metadata": {},
   "source": [
    "Experimento: Lanzo dos dados y sumo los resultados. \n",
    "\n",
    "Espacio miestral: {2, 3, 4, 5, 6, 7, 8, 9, 10, 11, 12}"
   ]
  },
  {
   "cell_type": "code",
   "execution_count": 176,
   "metadata": {},
   "outputs": [],
   "source": [
    "def S(k):\n",
    "    Sk = [(n,m) for n in range(1, 7) for m in range(1, 7) if n + m == k]\n",
    "    return Sk"
   ]
  },
  {
   "cell_type": "code",
   "execution_count": 177,
   "metadata": {},
   "outputs": [
    {
     "name": "stdout",
     "output_type": "stream",
     "text": [
      "[(1, 1)]\n",
      "[(1, 2), (2, 1)]\n",
      "[(1, 3), (2, 2), (3, 1)]\n",
      "[(1, 4), (2, 3), (3, 2), (4, 1)]\n",
      "[(1, 5), (2, 4), (3, 3), (4, 2), (5, 1)]\n",
      "[(1, 6), (2, 5), (3, 4), (4, 3), (5, 2), (6, 1)]\n",
      "[(2, 6), (3, 5), (4, 4), (5, 3), (6, 2)]\n",
      "[(3, 6), (4, 5), (5, 4), (6, 3)]\n",
      "[(4, 6), (5, 5), (6, 4)]\n",
      "[(5, 6), (6, 5)]\n",
      "[(6, 6)]\n"
     ]
    }
   ],
   "source": [
    "for i in range(2,13):\n",
    "    print((S(i)))"
   ]
  },
  {
   "cell_type": "code",
   "execution_count": 178,
   "metadata": {},
   "outputs": [
    {
     "name": "stdout",
     "output_type": "stream",
     "text": [
      "|S(2)| = 1\n",
      "|S(3)| = 2\n",
      "|S(4)| = 3\n",
      "|S(5)| = 4\n",
      "|S(6)| = 5\n",
      "|S(7)| = 6\n",
      "|S(8)| = 5\n",
      "|S(9)| = 4\n",
      "|S(10)| = 3\n",
      "|S(11)| = 2\n",
      "|S(12)| = 1\n"
     ]
    }
   ],
   "source": [
    "for n in range (2,13):\n",
    "    print(f\"|S({n})| = {len(S(n))}\")"
   ]
  },
  {
   "cell_type": "code",
   "execution_count": 179,
   "metadata": {},
   "outputs": [
    {
     "name": "stdout",
     "output_type": "stream",
     "text": [
      "36\n"
     ]
    }
   ],
   "source": [
    "sum = 0\n",
    "\n",
    "for n in range(2, 13):\n",
    "    sum = sum + len(S(n))\n",
    "print(sum)"
   ]
  },
  {
   "attachments": {},
   "cell_type": "markdown",
   "metadata": {},
   "source": [
    "### Probabilidad \n",
    "\n",
    "$$ P(A) = \\frac{\\text{El número de posibles ocurrencias de A}}{\\text{Total posibles resultados}}$$\n",
    "\n",
    "$$ P(S(9)) = \\frac{|S(9)|}{|\\Omega|} = \\frac{4}{36} = 0.111\\bar{1} $$"
   ]
  },
  {
   "cell_type": "code",
   "execution_count": 180,
   "metadata": {},
   "outputs": [
    {
     "data": {
      "text/plain": [
       "[(3, 6), (4, 5), (5, 4), (6, 3)]"
      ]
     },
     "execution_count": 180,
     "metadata": {},
     "output_type": "execute_result"
    }
   ],
   "source": [
    "S(9)"
   ]
  },
  {
   "cell_type": "code",
   "execution_count": 125,
   "metadata": {},
   "outputs": [
    {
     "data": {
      "text/plain": [
       "4"
      ]
     },
     "execution_count": 125,
     "metadata": {},
     "output_type": "execute_result"
    }
   ],
   "source": [
    "len(S(9))"
   ]
  },
  {
   "cell_type": "code",
   "execution_count": 126,
   "metadata": {},
   "outputs": [
    {
     "data": {
      "text/plain": [
       "36"
      ]
     },
     "execution_count": 126,
     "metadata": {},
     "output_type": "execute_result"
    }
   ],
   "source": [
    "len(Ω)"
   ]
  },
  {
   "cell_type": "code",
   "execution_count": 127,
   "metadata": {},
   "outputs": [
    {
     "data": {
      "text/plain": [
       "0.1111111111111111"
      ]
     },
     "execution_count": 127,
     "metadata": {},
     "output_type": "execute_result"
    }
   ],
   "source": [
    "len(S(9)) / len(Ω)"
   ]
  },
  {
   "cell_type": "code",
   "execution_count": 128,
   "metadata": {},
   "outputs": [],
   "source": [
    "from fractions import Fraction"
   ]
  },
  {
   "cell_type": "code",
   "execution_count": 129,
   "metadata": {},
   "outputs": [
    {
     "name": "stdout",
     "output_type": "stream",
     "text": [
      "9/4\n"
     ]
    }
   ],
   "source": [
    "x = Fraction(9,4)\n",
    "print(x)"
   ]
  },
  {
   "cell_type": "code",
   "execution_count": 130,
   "metadata": {},
   "outputs": [
    {
     "name": "stdout",
     "output_type": "stream",
     "text": [
      "1/9\n"
     ]
    }
   ],
   "source": [
    "x = Fraction(len(S(9)),len(Ω))\n",
    "print(x)"
   ]
  },
  {
   "attachments": {},
   "cell_type": "markdown",
   "metadata": {},
   "source": [
    "Calculo de la probabilidad de cada resultado"
   ]
  },
  {
   "cell_type": "code",
   "execution_count": 131,
   "metadata": {},
   "outputs": [
    {
     "name": "stdout",
     "output_type": "stream",
     "text": [
      "P(2) = 1/36\n",
      "P(3) = 1/18\n",
      "P(4) = 1/12\n",
      "P(5) = 1/9\n",
      "P(6) = 5/36\n",
      "P(7) = 1/6\n",
      "P(8) = 5/36\n",
      "P(9) = 1/9\n",
      "P(10) = 1/12\n",
      "P(11) = 1/18\n",
      "P(12) = 1/36\n"
     ]
    }
   ],
   "source": [
    "for n in range (2,13):\n",
    "    print(f\"P({n}) = {Fraction(len(S(n)),len(Ω))}\")"
   ]
  },
  {
   "cell_type": "code",
   "execution_count": 132,
   "metadata": {},
   "outputs": [
    {
     "name": "stdout",
     "output_type": "stream",
     "text": [
      "P(2) = 0.027777777777777776\n",
      "P(3) = 0.05555555555555555\n",
      "P(4) = 0.08333333333333333\n",
      "P(5) = 0.1111111111111111\n",
      "P(6) = 0.1388888888888889\n",
      "P(7) = 0.16666666666666666\n",
      "P(8) = 0.1388888888888889\n",
      "P(9) = 0.1111111111111111\n",
      "P(10) = 0.08333333333333333\n",
      "P(11) = 0.05555555555555555\n",
      "P(12) = 0.027777777777777776\n"
     ]
    }
   ],
   "source": [
    "for n in range (2,13):\n",
    "    print(f\"P({n}) = {len(S(n)) / len(Ω)}\")"
   ]
  },
  {
   "attachments": {},
   "cell_type": "markdown",
   "metadata": {},
   "source": [
    "Definir la función de probabilidad"
   ]
  },
  {
   "cell_type": "code",
   "execution_count": 133,
   "metadata": {},
   "outputs": [],
   "source": [
    "def P(n):\n",
    "    return len(S(n))/len(Ω)"
   ]
  },
  {
   "cell_type": "code",
   "execution_count": 134,
   "metadata": {},
   "outputs": [
    {
     "data": {
      "text/plain": [
       "0.027777777777777776"
      ]
     },
     "execution_count": 134,
     "metadata": {},
     "output_type": "execute_result"
    }
   ],
   "source": [
    "P(2)"
   ]
  },
  {
   "cell_type": "code",
   "execution_count": 135,
   "metadata": {},
   "outputs": [
    {
     "data": {
      "text/plain": [
       "array([0.02777778, 0.05555556, 0.08333333, 0.11111111, 0.13888889,\n",
       "       0.16666667, 0.13888889, 0.11111111, 0.08333333, 0.05555556,\n",
       "       0.02777778])"
      ]
     },
     "execution_count": 135,
     "metadata": {},
     "output_type": "execute_result"
    }
   ],
   "source": [
    "probabilidades = np.array([P(n) for n in range (2,13)])\n",
    "probabilidades"
   ]
  },
  {
   "cell_type": "code",
   "execution_count": 136,
   "metadata": {},
   "outputs": [
    {
     "data": {
      "text/plain": [
       "1.0"
      ]
     },
     "execution_count": 136,
     "metadata": {},
     "output_type": "execute_result"
    }
   ],
   "source": [
    "probabilidades.sum()"
   ]
  },
  {
   "attachments": {},
   "cell_type": "markdown",
   "metadata": {},
   "source": [
    "### **Diccionarios en PYTHON**\n",
    "\n",
    "Un diccionario es una estructura de datos que tiene sus elementos emparejados {key:values}."
   ]
  },
  {
   "cell_type": "code",
   "execution_count": 137,
   "metadata": {},
   "outputs": [
    {
     "name": "stdout",
     "output_type": "stream",
     "text": [
      "{'manzana': 'rojo', 'mandarina': 'naranja', 'pera': 'verde'}\n"
     ]
    }
   ],
   "source": [
    "d = {'manzana':'rojo', 'mandarina':'naranja', 'pera':'verde'}\n",
    "print(d)"
   ]
  },
  {
   "cell_type": "code",
   "execution_count": 138,
   "metadata": {},
   "outputs": [
    {
     "data": {
      "text/plain": [
       "dict"
      ]
     },
     "execution_count": 138,
     "metadata": {},
     "output_type": "execute_result"
    }
   ],
   "source": [
    "type(d)"
   ]
  },
  {
   "cell_type": "code",
   "execution_count": 139,
   "metadata": {},
   "outputs": [
    {
     "data": {
      "text/plain": [
       "dict_keys(['manzana', 'mandarina', 'pera'])"
      ]
     },
     "execution_count": 139,
     "metadata": {},
     "output_type": "execute_result"
    }
   ],
   "source": [
    "d.keys()"
   ]
  },
  {
   "cell_type": "code",
   "execution_count": 140,
   "metadata": {},
   "outputs": [
    {
     "data": {
      "text/plain": [
       "dict_values(['rojo', 'naranja', 'verde'])"
      ]
     },
     "execution_count": 140,
     "metadata": {},
     "output_type": "execute_result"
    }
   ],
   "source": [
    "d.values()"
   ]
  },
  {
   "cell_type": "code",
   "execution_count": 141,
   "metadata": {},
   "outputs": [
    {
     "data": {
      "text/plain": [
       "dict_items([('manzana', 'rojo'), ('mandarina', 'naranja'), ('pera', 'verde')])"
      ]
     },
     "execution_count": 141,
     "metadata": {},
     "output_type": "execute_result"
    }
   ],
   "source": [
    "d.items()"
   ]
  },
  {
   "attachments": {},
   "cell_type": "markdown",
   "metadata": {},
   "source": [
    "Creación de un diccionario incrementando datos"
   ]
  },
  {
   "cell_type": "code",
   "execution_count": 142,
   "metadata": {},
   "outputs": [],
   "source": [
    "persona = {}"
   ]
  },
  {
   "cell_type": "code",
   "execution_count": 143,
   "metadata": {},
   "outputs": [
    {
     "data": {
      "text/plain": [
       "{'nombre': 'Santiago', 'apellido': 'Miranda'}"
      ]
     },
     "execution_count": 143,
     "metadata": {},
     "output_type": "execute_result"
    }
   ],
   "source": [
    "persona['nombre'] = 'Santiago'\n",
    "persona['apellido'] = 'Miranda'\n",
    "persona"
   ]
  },
  {
   "cell_type": "code",
   "execution_count": 144,
   "metadata": {},
   "outputs": [
    {
     "data": {
      "text/plain": [
       "{'nombre': 'Santiago',\n",
       " 'apellido': 'Miranda',\n",
       " 'amigos': {'amigo1': 'César', 'amigo2': 'Edwin', 'amigo3': 'Carolina'}}"
      ]
     },
     "execution_count": 144,
     "metadata": {},
     "output_type": "execute_result"
    }
   ],
   "source": [
    "persona['amigos'] = {'amigo1': 'César', 'amigo2': 'Edwin', 'amigo3': 'Carolina'}\n",
    "persona"
   ]
  },
  {
   "cell_type": "code",
   "execution_count": 145,
   "metadata": {},
   "outputs": [
    {
     "data": {
      "text/plain": [
       "{'amigo1': 'César', 'amigo2': 'Edwin', 'amigo3': 'Carolina'}"
      ]
     },
     "execution_count": 145,
     "metadata": {},
     "output_type": "execute_result"
    }
   ],
   "source": [
    "persona['amigos']"
   ]
  },
  {
   "cell_type": "code",
   "execution_count": 146,
   "metadata": {},
   "outputs": [
    {
     "data": {
      "text/plain": [
       "'Carolina'"
      ]
     },
     "execution_count": 146,
     "metadata": {},
     "output_type": "execute_result"
    }
   ],
   "source": [
    "persona['amigos']['amigo3']\n"
   ]
  },
  {
   "attachments": {},
   "cell_type": "markdown",
   "metadata": {},
   "source": [
    "#### Probabilidades de eventos\n",
    "\n",
    "$$ P(A) = \\frac{\\text{El número de posibles ocurrencias de A}}{\\text{Total posibles resultados}}$$"
   ]
  },
  {
   "cell_type": "code",
   "execution_count": 184,
   "metadata": {},
   "outputs": [],
   "source": [
    "def prob(A):\n",
    "    return print(Fraction(len(S(A)),len(Ω)))"
   ]
  },
  {
   "cell_type": "code",
   "execution_count": 188,
   "metadata": {},
   "outputs": [
    {
     "name": "stdout",
     "output_type": "stream",
     "text": [
      "1/9\n"
     ]
    }
   ],
   "source": [
    "print(Fraction(len(S(9)),len(Ω)))"
   ]
  },
  {
   "cell_type": "code",
   "execution_count": 190,
   "metadata": {},
   "outputs": [
    {
     "data": {
      "text/plain": [
       "[(3, 6), (4, 5), (5, 4), (6, 3)]"
      ]
     },
     "execution_count": 190,
     "metadata": {},
     "output_type": "execute_result"
    }
   ],
   "source": [
    "S(9)"
   ]
  },
  {
   "cell_type": "code",
   "execution_count": 192,
   "metadata": {},
   "outputs": [
    {
     "name": "stdout",
     "output_type": "stream",
     "text": [
      "1/9\n"
     ]
    }
   ],
   "source": [
    "prob(9)"
   ]
  },
  {
   "cell_type": "code",
   "execution_count": 111,
   "metadata": {},
   "outputs": [
    {
     "name": "stdout",
     "output_type": "stream",
     "text": [
      "{(3, 4), (4, 3), (3, 1), (5, 4), (4, 6), (5, 1), (2, 2), (1, 6), (2, 5), (1, 3), (6, 2), (6, 5), (4, 2), (4, 5), (3, 3), (5, 6), (3, 6), (5, 3), (2, 4), (1, 2), (2, 1), (1, 5), (6, 1), (6, 4), (3, 2), (4, 1), (3, 5), (5, 2), (4, 4), (5, 5), (1, 1), (1, 4), (2, 3), (2, 6), (6, 6), (6, 3)}\n"
     ]
    }
   ],
   "source": [
    "print(Ω)"
   ]
  },
  {
   "attachments": {},
   "cell_type": "markdown",
   "metadata": {},
   "source": [
    "Hago un diccionario con el resultado de cada tirada"
   ]
  },
  {
   "cell_type": "code",
   "execution_count": 152,
   "metadata": {},
   "outputs": [
    {
     "data": {
      "text/plain": [
       "dict_values([7, 7, 4, 9, 10, 6, 4, 7, 7, 4, 8, 11, 6, 9, 6, 11, 9, 8, 6, 3, 3, 6, 7, 10, 5, 5, 8, 7, 8, 10, 2, 5, 5, 8, 12, 9])"
      ]
     },
     "execution_count": 152,
     "metadata": {},
     "output_type": "execute_result"
    }
   ],
   "source": [
    "S = {(i,j): i + j for i,j in Ω}\n",
    "S.values()"
   ]
  },
  {
   "attachments": {},
   "cell_type": "markdown",
   "metadata": {},
   "source": [
    "Quiero hacer una lista de los resultados que tienen el mismo valor en la suma"
   ]
  },
  {
   "cell_type": "code",
   "execution_count": 153,
   "metadata": {},
   "outputs": [
    {
     "data": {
      "text/plain": [
       "dict_items([((3, 4), 7), ((4, 3), 7), ((3, 1), 4), ((5, 4), 9), ((4, 6), 10), ((5, 1), 6), ((2, 2), 4), ((1, 6), 7), ((2, 5), 7), ((1, 3), 4), ((6, 2), 8), ((6, 5), 11), ((4, 2), 6), ((4, 5), 9), ((3, 3), 6), ((5, 6), 11), ((3, 6), 9), ((5, 3), 8), ((2, 4), 6), ((1, 2), 3), ((2, 1), 3), ((1, 5), 6), ((6, 1), 7), ((6, 4), 10), ((3, 2), 5), ((4, 1), 5), ((3, 5), 8), ((5, 2), 7), ((4, 4), 8), ((5, 5), 10), ((1, 1), 2), ((1, 4), 5), ((2, 3), 5), ((2, 6), 8), ((6, 6), 12), ((6, 3), 9)])"
      ]
     },
     "execution_count": 153,
     "metadata": {},
     "output_type": "execute_result"
    }
   ],
   "source": [
    "S.items()"
   ]
  },
  {
   "cell_type": "code",
   "execution_count": 155,
   "metadata": {},
   "outputs": [],
   "source": [
    "from collections import defaultdict # Generar diccionarios a través de características de un conjunto"
   ]
  },
  {
   "cell_type": "code",
   "execution_count": 156,
   "metadata": {},
   "outputs": [],
   "source": [
    "dS = defaultdict(set)"
   ]
  },
  {
   "cell_type": "code",
   "execution_count": 158,
   "metadata": {},
   "outputs": [],
   "source": [
    "for i,j in S.items():\n",
    "    dS[j].add(i)"
   ]
  },
  {
   "cell_type": "code",
   "execution_count": 159,
   "metadata": {},
   "outputs": [
    {
     "data": {
      "text/plain": [
       "defaultdict(set,\n",
       "            {7: {(1, 6), (2, 5), (3, 4), (4, 3), (5, 2), (6, 1)},\n",
       "             4: {(1, 3), (2, 2), (3, 1)},\n",
       "             9: {(3, 6), (4, 5), (5, 4), (6, 3)},\n",
       "             10: {(4, 6), (5, 5), (6, 4)},\n",
       "             6: {(1, 5), (2, 4), (3, 3), (4, 2), (5, 1)},\n",
       "             8: {(2, 6), (3, 5), (4, 4), (5, 3), (6, 2)},\n",
       "             11: {(5, 6), (6, 5)},\n",
       "             3: {(1, 2), (2, 1)},\n",
       "             5: {(1, 4), (2, 3), (3, 2), (4, 1)},\n",
       "             2: {(1, 1)},\n",
       "             12: {(6, 6)}})"
      ]
     },
     "execution_count": 159,
     "metadata": {},
     "output_type": "execute_result"
    }
   ],
   "source": [
    "dS"
   ]
  },
  {
   "cell_type": "code",
   "execution_count": 173,
   "metadata": {},
   "outputs": [],
   "source": [
    "ProbdS = {i : Fraction(len(A), len(Ω)) for i, A in dS.items()}"
   ]
  },
  {
   "cell_type": "code",
   "execution_count": 174,
   "metadata": {},
   "outputs": [
    {
     "data": {
      "text/plain": [
       "{7: Fraction(1, 6),\n",
       " 4: Fraction(1, 12),\n",
       " 9: Fraction(1, 9),\n",
       " 10: Fraction(1, 12),\n",
       " 6: Fraction(5, 36),\n",
       " 8: Fraction(5, 36),\n",
       " 11: Fraction(1, 18),\n",
       " 3: Fraction(1, 18),\n",
       " 5: Fraction(1, 9),\n",
       " 2: Fraction(1, 36),\n",
       " 12: Fraction(1, 36)}"
      ]
     },
     "execution_count": 174,
     "metadata": {},
     "output_type": "execute_result"
    }
   ],
   "source": [
    "ProbdS"
   ]
  },
  {
   "cell_type": "code",
   "execution_count": 171,
   "metadata": {},
   "outputs": [
    {
     "name": "stdout",
     "output_type": "stream",
     "text": [
      "1/18\n"
     ]
    }
   ],
   "source": [
    "print(ProbdS[11])"
   ]
  },
  {
   "cell_type": "code",
   "execution_count": null,
   "metadata": {},
   "outputs": [],
   "source": []
  }
 ],
 "metadata": {
  "kernelspec": {
   "display_name": "Python 3",
   "language": "python",
   "name": "python3"
  },
  "language_info": {
   "codemirror_mode": {
    "name": "ipython",
    "version": 3
   },
   "file_extension": ".py",
   "mimetype": "text/x-python",
   "name": "python",
   "nbconvert_exporter": "python",
   "pygments_lexer": "ipython3",
   "version": "3.11.4"
  },
  "orig_nbformat": 4
 },
 "nbformat": 4,
 "nbformat_minor": 2
}
