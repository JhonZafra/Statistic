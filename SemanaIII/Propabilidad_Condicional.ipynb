{
 "cells": [
  {
   "attachments": {},
   "cell_type": "markdown",
   "metadata": {},
   "source": [
    "## Probabilidad Condicional\n",
    "\n",
    "$ P(E|F) $ es la probabilidad de que ocurra el envento $E$ dado que sabemos que ocurrió el evento $P$\n",
    "\n",
    "$$ P(E|F) = \\frac {P(E \\cap F)}{P(F)}$$"
   ]
  },
  {
   "cell_type": "code",
   "execution_count": 32,
   "metadata": {},
   "outputs": [],
   "source": [
    "import numpy as np\n",
    "import pandas as pd\n",
    "import matplotlib.pyplot as plt\n",
    "from itertools import product\n",
    "from fractions import Fraction"
   ]
  },
  {
   "cell_type": "code",
   "execution_count": 13,
   "metadata": {},
   "outputs": [],
   "source": [
    "def ProbC (E, F):\n",
    "    return print(Fraction(len(E & F), len(F) ))"
   ]
  },
  {
   "cell_type": "code",
   "execution_count": 14,
   "metadata": {},
   "outputs": [
    {
     "data": {
      "text/plain": [
       "{('C', 'C', 'C')}"
      ]
     },
     "execution_count": 14,
     "metadata": {},
     "output_type": "execute_result"
    }
   ],
   "source": [
    "Ω = set(product([\"C\", \"S\"], repeat= 3))\n",
    "C_1 = {x for x in Ω if x[0] == \"C\"}\n",
    "C_2 = {x for x in Ω if x[1] == \"C\"}\n",
    "C_3  = {x for x in Ω if x[2] == \"C\"}\n",
    "E = { x for x in Ω if x.count(\"C\") == 3}\n",
    "E"
   ]
  },
  {
   "cell_type": "code",
   "execution_count": 15,
   "metadata": {},
   "outputs": [
    {
     "data": {
      "text/plain": [
       "{('C', 'C', 'C'), ('C', 'C', 'S')}"
      ]
     },
     "execution_count": 15,
     "metadata": {},
     "output_type": "execute_result"
    }
   ],
   "source": [
    "F = C_1.intersection(C_2)\n",
    "F"
   ]
  },
  {
   "cell_type": "code",
   "execution_count": 16,
   "metadata": {},
   "outputs": [
    {
     "data": {
      "text/plain": [
       "{('C', 'C', 'C')}"
      ]
     },
     "execution_count": 16,
     "metadata": {},
     "output_type": "execute_result"
    }
   ],
   "source": [
    "E.intersection(F)"
   ]
  },
  {
   "cell_type": "code",
   "execution_count": 17,
   "metadata": {},
   "outputs": [
    {
     "name": "stdout",
     "output_type": "stream",
     "text": [
      "1/2\n"
     ]
    }
   ],
   "source": [
    "ProbC(E,F)"
   ]
  },
  {
   "attachments": {},
   "cell_type": "markdown",
   "metadata": {},
   "source": [
    "¿Cuál es la probabilidad de obtener 3 caras dado que el primer lanzamiento fue cara?"
   ]
  },
  {
   "cell_type": "code",
   "execution_count": 18,
   "metadata": {},
   "outputs": [
    {
     "name": "stdout",
     "output_type": "stream",
     "text": [
      "1/4\n"
     ]
    }
   ],
   "source": [
    "ProbC(E, C_1)"
   ]
  },
  {
   "attachments": {},
   "cell_type": "markdown",
   "metadata": {},
   "source": [
    "### Experimentos con números **pseudo-aleatorios**\n",
    "\n",
    "Simulación del lanzamiento de un dado"
   ]
  },
  {
   "cell_type": "code",
   "execution_count": 30,
   "metadata": {},
   "outputs": [
    {
     "data": {
      "text/plain": [
       "array([1, 1, 4, 1, 3, 5, 3, 6, 3, 3, 3, 2, 1, 1, 5, 4, 5, 3, 1, 4])"
      ]
     },
     "execution_count": 30,
     "metadata": {},
     "output_type": "execute_result"
    }
   ],
   "source": [
    "np.random.seed(100) # Plantar la semilla: El número a partir del cual se generan los demás\n",
    "np.random.choice([1, 2, 3, 4, 5, 6], 20)"
   ]
  },
  {
   "attachments": {},
   "cell_type": "markdown",
   "metadata": {},
   "source": [
    "Verificar probabilidades\n",
    "\n",
    "$$ P(5) = \\frac {1} {6}$$"
   ]
  },
  {
   "cell_type": "code",
   "execution_count": 40,
   "metadata": {},
   "outputs": [
    {
     "data": {
      "text/plain": [
       "array([1, 5, 1, ..., 1, 4, 3])"
      ]
     },
     "execution_count": 40,
     "metadata": {},
     "output_type": "execute_result"
    }
   ],
   "source": [
    "N = 5000\n",
    "d = np.random.choice([1, 2, 3, 4, 5, 6],N)\n",
    "d"
   ]
  },
  {
   "cell_type": "code",
   "execution_count": 52,
   "metadata": {},
   "outputs": [
    {
     "data": {
      "image/png": "[encoded data removed]",
      "text/plain": [
       "<Figure size 500x300 with 1 Axes>"
      ]
     },
     "metadata": {},
     "output_type": "display_data"
    }
   ],
   "source": [
    "N = 1000000\n",
    "d = np.random.choice([1, 2, 3, 4, 5, 6],N)\n",
    "plt.figure(figsize=(5,3))\n",
    "plt.hist(d, bins = 6, edgecolor= \"white\", range=(1,7))\n",
    "plt.axhline(N/6, color=\"red\", linestyle=\"--\")\n",
    "plt.show()"
   ]
  },
  {
   "attachments": {},
   "cell_type": "markdown",
   "metadata": {},
   "source": [
    "Lanzamiento de 2 dados"
   ]
  },
  {
   "cell_type": "code",
   "execution_count": 61,
   "metadata": {},
   "outputs": [
    {
     "data": {
      "image/png": "[encoded data removed]",
      "text/plain": [
       "<Figure size 500x300 with 1 Axes>"
      ]
     },
     "metadata": {},
     "output_type": "display_data"
    }
   ],
   "source": [
    "N = 1000000\n",
    "d1 = np.random.choice([1, 2, 3, 4, 5, 6],N)\n",
    "d2 = np.random.choice([1, 2, 3, 4, 5, 6],N)\n",
    "plt.figure(figsize=(5,3))\n",
    "plt.hist(d1 + d2, bins = 11, edgecolor= \"white\", range=(2,13))\n",
    "plt.xticks(np.arange(2,13) + 0.5, np.arange(2,13))\n",
    "plt.show()"
   ]
  },
  {
   "cell_type": "code",
   "execution_count": null,
   "metadata": {},
   "outputs": [],
   "source": []
  }
 ],
 "metadata": {
  "kernelspec": {
   "display_name": "Python 3",
   "language": "python",
   "name": "python3"
  },
  "language_info": {
   "codemirror_mode": {
    "name": "ipython",
    "version": 3
   },
   "file_extension": ".py",
   "mimetype": "text/x-python",
   "name": "python",
   "nbconvert_exporter": "python",
   "pygments_lexer": "ipython3",
   "version": "3.11.4"
  },
  "orig_nbformat": 4
 },
 "nbformat": 4,
 "nbformat_minor": 2
}
