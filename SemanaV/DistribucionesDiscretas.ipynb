{
 "cells": [
  {
   "attachments": {},
   "cell_type": "markdown",
   "metadata": {},
   "source": [
    "## DISTRIBUCIONES DISCRETAS DE PROBABILIDAD\n",
    "#### Clase 27/06/2023"
   ]
  },
  {
   "attachments": {},
   "cell_type": "markdown",
   "metadata": {},
   "source": [
    "Resultados de un dado"
   ]
  },
  {
   "cell_type": "code",
   "execution_count": 2,
   "metadata": {},
   "outputs": [],
   "source": [
    "import numpy as np\n",
    "import matplotlib.pyplot as plt\n",
    "import pandas as pd"
   ]
  },
  {
   "cell_type": "code",
   "execution_count": 3,
   "metadata": {},
   "outputs": [
    {
     "name": "stdout",
     "output_type": "stream",
     "text": [
      "[1 2 3 4 5 6]\n"
     ]
    }
   ],
   "source": [
    "x = np.arange(1, 7)\n",
    "print(x)"
   ]
  },
  {
   "cell_type": "code",
   "execution_count": 4,
   "metadata": {},
   "outputs": [
    {
     "data": {
      "text/plain": [
       "array([0.16666667, 0.16666667, 0.16666667, 0.16666667, 0.16666667,\n",
       "       0.16666667])"
      ]
     },
     "execution_count": 4,
     "metadata": {},
     "output_type": "execute_result"
    }
   ],
   "source": [
    "P = np.full(6, 1/6) # full(cuántas veces lo repito, el número que repito)\n",
    "P"
   ]
  },
  {
   "cell_type": "code",
   "execution_count": 5,
   "metadata": {},
   "outputs": [
    {
     "data": {
      "text/plain": [
       "0.9999999999999999"
      ]
     },
     "execution_count": 5,
     "metadata": {},
     "output_type": "execute_result"
    }
   ],
   "source": [
    "P.sum()"
   ]
  },
  {
   "attachments": {},
   "cell_type": "markdown",
   "metadata": {},
   "source": [
    "### **Valor Esperado**\n",
    "\n",
    "$$ \\mu = E[X] = \\sum_{n=1}^N {x_n}{p_n}  $$"
   ]
  },
  {
   "cell_type": "code",
   "execution_count": 6,
   "metadata": {},
   "outputs": [
    {
     "name": "stdout",
     "output_type": "stream",
     "text": [
      "0.16666666666666666\n",
      "0.3333333333333333\n",
      "0.5\n",
      "0.6666666666666666\n",
      "0.8333333333333333\n",
      "1.0\n"
     ]
    }
   ],
   "source": [
    "for n in range(6):\n",
    "    print(x[n] * P[n])"
   ]
  },
  {
   "cell_type": "code",
   "execution_count": 7,
   "metadata": {},
   "outputs": [
    {
     "name": "stdout",
     "output_type": "stream",
     "text": [
      "3.5\n"
     ]
    }
   ],
   "source": [
    "# Suma realizada paso a paso\n",
    "sum= 0\n",
    "for n in range(6):\n",
    "    sum = sum + (x[n] * P[n])\n",
    "print(sum)"
   ]
  },
  {
   "cell_type": "code",
   "execution_count": 8,
   "metadata": {},
   "outputs": [
    {
     "data": {
      "text/plain": [
       "3.5"
      ]
     },
     "execution_count": 8,
     "metadata": {},
     "output_type": "execute_result"
    }
   ],
   "source": [
    "(x*P).sum() # Siempre y cuando x y P fueran arreglos de numpy"
   ]
  },
  {
   "cell_type": "code",
   "execution_count": 9,
   "metadata": {},
   "outputs": [],
   "source": [
    "def esperanza(x, P):\n",
    "    x = np.array(x)\n",
    "    P = np.array(P)\n",
    "    return (x*P).sum()"
   ]
  },
  {
   "cell_type": "code",
   "execution_count": 10,
   "metadata": {},
   "outputs": [],
   "source": [
    "μ = esperanza(x, P)"
   ]
  },
  {
   "attachments": {},
   "cell_type": "markdown",
   "metadata": {},
   "source": [
    "### **Varianza**\n",
    "\n",
    "$$ Var(X) = \\sum_{n=1}^N (x_n - \\mu)^2 p_n  $$"
   ]
  },
  {
   "cell_type": "code",
   "execution_count": 11,
   "metadata": {},
   "outputs": [
    {
     "data": {
      "text/plain": [
       "array([1, 2, 3, 4, 5, 6])"
      ]
     },
     "execution_count": 11,
     "metadata": {},
     "output_type": "execute_result"
    }
   ],
   "source": [
    "x"
   ]
  },
  {
   "cell_type": "code",
   "execution_count": 12,
   "metadata": {},
   "outputs": [
    {
     "name": "stdout",
     "output_type": "stream",
     "text": [
      "6.25 0.16666666666666666\n",
      "2.25 0.16666666666666666\n",
      "0.25 0.16666666666666666\n",
      "0.25 0.16666666666666666\n",
      "2.25 0.16666666666666666\n",
      "6.25 0.16666666666666666\n"
     ]
    }
   ],
   "source": [
    "for n in range(len(x)):\n",
    "    print((x[n]- μ)**2, P[n])"
   ]
  },
  {
   "cell_type": "code",
   "execution_count": 13,
   "metadata": {},
   "outputs": [
    {
     "name": "stdout",
     "output_type": "stream",
     "text": [
      "Varianza = 2.9166666666666665\n"
     ]
    }
   ],
   "source": [
    "sum2 = 0\n",
    "for n in range(len(x)):\n",
    "    sum2 = sum2 + (x[n]- μ)**2 * P[n]\n",
    "print(f'Varianza = {sum2}')"
   ]
  },
  {
   "cell_type": "code",
   "execution_count": 14,
   "metadata": {},
   "outputs": [
    {
     "data": {
      "text/plain": [
       "2.9166666666666665"
      ]
     },
     "execution_count": 14,
     "metadata": {},
     "output_type": "execute_result"
    }
   ],
   "source": [
    "((x - μ)**2 * P).sum() "
   ]
  },
  {
   "cell_type": "code",
   "execution_count": 15,
   "metadata": {},
   "outputs": [],
   "source": [
    "def varianza(x, P):\n",
    "    x = np.array(x)\n",
    "    P = np.array(P)\n",
    "    μ = esperanza(x, P)\n",
    "    return ((x - μ)**2 * P).sum().round(2)"
   ]
  },
  {
   "attachments": {},
   "cell_type": "markdown",
   "metadata": {},
   "source": [
    "### Desviación estándar\n",
    "\n",
    "$$ \\sigma(x,P) = \\sqrt{Var(x)} $$"
   ]
  },
  {
   "cell_type": "code",
   "execution_count": 16,
   "metadata": {},
   "outputs": [
    {
     "data": {
      "text/plain": [
       "1.7088007490635062"
      ]
     },
     "execution_count": 16,
     "metadata": {},
     "output_type": "execute_result"
    }
   ],
   "source": [
    "σ =np.sqrt(varianza(x, P))\n",
    "σ"
   ]
  },
  {
   "cell_type": "code",
   "execution_count": 17,
   "metadata": {},
   "outputs": [
    {
     "data": {
      "image/png": "[encoded data removed]",
      "text/plain": [
       "<Figure size 640x480 with 1 Axes>"
      ]
     },
     "metadata": {},
     "output_type": "display_data"
    }
   ],
   "source": [
    "plt.bar(x, P)\n",
    "plt.axvline(esperanza(x, P), color = 'red', label = 'Valor\\nEsperado')\n",
    "plt.axvline(μ + σ, color = 'orange', label = '$\\mu + \\sigma$')\n",
    "plt.axvline(μ - σ, color = 'yellow', label = '$\\mu - \\sigma$')\n",
    "plt.legend()\n",
    "plt.show()"
   ]
  },
  {
   "attachments": {},
   "cell_type": "markdown",
   "metadata": {},
   "source": [
    "Lanzamiento de dos dados"
   ]
  },
  {
   "cell_type": "code",
   "execution_count": 18,
   "metadata": {},
   "outputs": [
    {
     "data": {
      "text/plain": [
       "array([ 2,  3,  4,  5,  6,  7,  8,  9, 10, 11, 12])"
      ]
     },
     "execution_count": 18,
     "metadata": {},
     "output_type": "execute_result"
    }
   ],
   "source": [
    "x = np.arange(2, 13) #Posibles resultados del lanzamiento de dos dados\n",
    "x"
   ]
  },
  {
   "cell_type": "code",
   "execution_count": 19,
   "metadata": {},
   "outputs": [
    {
     "data": {
      "text/plain": [
       "array([0.02777778, 0.05555556, 0.08333333, 0.11111111, 0.13888889,\n",
       "       0.16666667, 0.13888889, 0.11111111, 0.08333333, 0.05555556,\n",
       "       0.02777778])"
      ]
     },
     "execution_count": 19,
     "metadata": {},
     "output_type": "execute_result"
    }
   ],
   "source": [
    "P = np.array([1/36, 1/18, 1/12, 1/9, 5/36, 1/6, 5/36, 1/9, 1/12, 1/18, 1/36]) # Probabilidades de obtener cada resultado\n",
    "P"
   ]
  },
  {
   "cell_type": "code",
   "execution_count": 20,
   "metadata": {},
   "outputs": [
    {
     "name": "stdout",
     "output_type": "stream",
     "text": [
      "Valor esperado = 7.0\n"
     ]
    }
   ],
   "source": [
    "μ = esperanza(x, P)\n",
    "print(f'Valor esperado = {round(μ,2)}')"
   ]
  },
  {
   "cell_type": "code",
   "execution_count": 21,
   "metadata": {},
   "outputs": [
    {
     "data": {
      "text/plain": [
       "2.415"
      ]
     },
     "execution_count": 21,
     "metadata": {},
     "output_type": "execute_result"
    }
   ],
   "source": [
    "varianza(x, P)\n",
    "σ = np.sqrt(varianza(x, P)).round(3)\n",
    "σ"
   ]
  },
  {
   "cell_type": "code",
   "execution_count": 22,
   "metadata": {},
   "outputs": [
    {
     "data": {
      "image/png": "[encoded data removed]",
      "text/plain": [
       "<Figure size 640x480 with 1 Axes>"
      ]
     },
     "metadata": {},
     "output_type": "display_data"
    }
   ],
   "source": [
    "plt.bar(x, P)\n",
    "plt.axvline(esperanza(x, P), color = 'red', label = 'Valor\\nEsperado')\n",
    "plt.axvline(μ + σ, color = 'orange', label = f'$\\mu + \\sigma$ = {(μ + σ).round(2)}')\n",
    "plt.axvline(μ - σ, color = 'yellow', label = f'$\\mu - \\sigma$ = {(μ + σ).round(2)}')\n",
    "plt.xticks(np.arange(2, 13))\n",
    "plt.legend()\n",
    "plt.show()"
   ]
  },
  {
   "attachments": {},
   "cell_type": "markdown",
   "metadata": {},
   "source": [
    "*Ejemplo final*: \n",
    "Un dado con un único resultado"
   ]
  },
  {
   "cell_type": "code",
   "execution_count": 23,
   "metadata": {},
   "outputs": [
    {
     "data": {
      "text/plain": [
       "array([1, 2, 3, 4, 5, 6])"
      ]
     },
     "execution_count": 23,
     "metadata": {},
     "output_type": "execute_result"
    }
   ],
   "source": [
    "x = np.arange(1, 7)\n",
    "x"
   ]
  },
  {
   "cell_type": "code",
   "execution_count": 24,
   "metadata": {},
   "outputs": [
    {
     "data": {
      "text/plain": [
       "array([0, 0, 0, 1, 0, 0])"
      ]
     },
     "execution_count": 24,
     "metadata": {},
     "output_type": "execute_result"
    }
   ],
   "source": [
    "P = np.array([0, 0, 0, 1, 0, 0])\n",
    "P"
   ]
  },
  {
   "cell_type": "code",
   "execution_count": 25,
   "metadata": {},
   "outputs": [
    {
     "data": {
      "image/png": "[encoded data removed]",
      "text/plain": [
       "<Figure size 640x480 with 1 Axes>"
      ]
     },
     "metadata": {},
     "output_type": "display_data"
    }
   ],
   "source": [
    "plt.bar(x, P)\n",
    "plt.show()"
   ]
  },
  {
   "cell_type": "code",
   "execution_count": 26,
   "metadata": {},
   "outputs": [],
   "source": [
    "μ = esperanza(x, P)"
   ]
  },
  {
   "cell_type": "code",
   "execution_count": 27,
   "metadata": {},
   "outputs": [
    {
     "data": {
      "text/plain": [
       "0"
      ]
     },
     "execution_count": 27,
     "metadata": {},
     "output_type": "execute_result"
    }
   ],
   "source": [
    "varianza(x, P)"
   ]
  },
  {
   "attachments": {},
   "cell_type": "markdown",
   "metadata": {},
   "source": [
    "#### **Datos de cancer**"
   ]
  },
  {
   "cell_type": "code",
   "execution_count": 28,
   "metadata": {},
   "outputs": [
    {
     "data": {
      "text/html": [
       "<div>\n",
       "<style scoped>\n",
       "    .dataframe tbody tr th:only-of-type {\n",
       "        vertical-align: middle;\n",
       "    }\n",
       "\n",
       "    .dataframe tbody tr th {\n",
       "        vertical-align: top;\n",
       "    }\n",
       "\n",
       "    .dataframe thead th {\n",
       "        text-align: right;\n",
       "    }\n",
       "</style>\n",
       "<table border=\"1\" class=\"dataframe\">\n",
       "  <thead>\n",
       "    <tr style=\"text-align: right;\">\n",
       "      <th></th>\n",
       "      <th>ID</th>\n",
       "      <th>Tipo</th>\n",
       "      <th>Radio</th>\n",
       "      <th>Textura</th>\n",
       "      <th>Perimetro</th>\n",
       "      <th>Area</th>\n",
       "      <th>Suavidad</th>\n",
       "      <th>Compacidad</th>\n",
       "      <th>Concavidad</th>\n",
       "      <th>Puntos_Conca</th>\n",
       "      <th>...</th>\n",
       "      <th>Radio_WM</th>\n",
       "      <th>Textura_WM</th>\n",
       "      <th>Perimetro_WM</th>\n",
       "      <th>Area_WM</th>\n",
       "      <th>Suavidad_WM</th>\n",
       "      <th>Compacidad_WM</th>\n",
       "      <th>Concavidad_WM</th>\n",
       "      <th>Puntos_Conca_WM</th>\n",
       "      <th>Simetria_WM</th>\n",
       "      <th>Fractal_WM</th>\n",
       "    </tr>\n",
       "  </thead>\n",
       "  <tbody>\n",
       "    <tr>\n",
       "      <th>0</th>\n",
       "      <td>842302</td>\n",
       "      <td>M</td>\n",
       "      <td>1799</td>\n",
       "      <td>1038</td>\n",
       "      <td>1228</td>\n",
       "      <td>1001</td>\n",
       "      <td>1184</td>\n",
       "      <td>2776</td>\n",
       "      <td>3001</td>\n",
       "      <td>1471</td>\n",
       "      <td>...</td>\n",
       "      <td>2538</td>\n",
       "      <td>1733</td>\n",
       "      <td>1846</td>\n",
       "      <td>2019</td>\n",
       "      <td>1622</td>\n",
       "      <td>6656</td>\n",
       "      <td>7119</td>\n",
       "      <td>2654</td>\n",
       "      <td>4601</td>\n",
       "      <td>1189</td>\n",
       "    </tr>\n",
       "    <tr>\n",
       "      <th>1</th>\n",
       "      <td>842517</td>\n",
       "      <td>M</td>\n",
       "      <td>2057</td>\n",
       "      <td>1777</td>\n",
       "      <td>1329</td>\n",
       "      <td>1326</td>\n",
       "      <td>8474</td>\n",
       "      <td>7864</td>\n",
       "      <td>869</td>\n",
       "      <td>7017</td>\n",
       "      <td>...</td>\n",
       "      <td>2499</td>\n",
       "      <td>2341</td>\n",
       "      <td>1588</td>\n",
       "      <td>1956</td>\n",
       "      <td>1238</td>\n",
       "      <td>1866</td>\n",
       "      <td>2416</td>\n",
       "      <td>186</td>\n",
       "      <td>275</td>\n",
       "      <td>8902</td>\n",
       "    </tr>\n",
       "    <tr>\n",
       "      <th>2</th>\n",
       "      <td>84300903</td>\n",
       "      <td>M</td>\n",
       "      <td>1969</td>\n",
       "      <td>2125</td>\n",
       "      <td>130</td>\n",
       "      <td>1203</td>\n",
       "      <td>1096</td>\n",
       "      <td>1599</td>\n",
       "      <td>1974</td>\n",
       "      <td>1279</td>\n",
       "      <td>...</td>\n",
       "      <td>2357</td>\n",
       "      <td>2553</td>\n",
       "      <td>1525</td>\n",
       "      <td>1709</td>\n",
       "      <td>1444</td>\n",
       "      <td>4245</td>\n",
       "      <td>4504</td>\n",
       "      <td>243</td>\n",
       "      <td>3613</td>\n",
       "      <td>8758</td>\n",
       "    </tr>\n",
       "    <tr>\n",
       "      <th>3</th>\n",
       "      <td>84348301</td>\n",
       "      <td>M</td>\n",
       "      <td>1142</td>\n",
       "      <td>2038</td>\n",
       "      <td>7758</td>\n",
       "      <td>3861</td>\n",
       "      <td>1425</td>\n",
       "      <td>2839</td>\n",
       "      <td>2414</td>\n",
       "      <td>1052</td>\n",
       "      <td>...</td>\n",
       "      <td>1491</td>\n",
       "      <td>265</td>\n",
       "      <td>9887</td>\n",
       "      <td>5677</td>\n",
       "      <td>2098</td>\n",
       "      <td>8663</td>\n",
       "      <td>6869</td>\n",
       "      <td>2575</td>\n",
       "      <td>6638</td>\n",
       "      <td>173</td>\n",
       "    </tr>\n",
       "    <tr>\n",
       "      <th>4</th>\n",
       "      <td>84358402</td>\n",
       "      <td>M</td>\n",
       "      <td>2029</td>\n",
       "      <td>1434</td>\n",
       "      <td>1351</td>\n",
       "      <td>1297</td>\n",
       "      <td>1003</td>\n",
       "      <td>1328</td>\n",
       "      <td>198</td>\n",
       "      <td>1043</td>\n",
       "      <td>...</td>\n",
       "      <td>2254</td>\n",
       "      <td>1667</td>\n",
       "      <td>1522</td>\n",
       "      <td>1575</td>\n",
       "      <td>1374</td>\n",
       "      <td>205</td>\n",
       "      <td>4</td>\n",
       "      <td>1625</td>\n",
       "      <td>2364</td>\n",
       "      <td>7678</td>\n",
       "    </tr>\n",
       "  </tbody>\n",
       "</table>\n",
       "<p>5 rows × 32 columns</p>\n",
       "</div>"
      ],
      "text/plain": [
       "         ID Tipo  Radio  Textura  Perimetro  Area  Suavidad  Compacidad  \\\n",
       "0    842302    M   1799     1038       1228  1001      1184        2776   \n",
       "1    842517    M   2057     1777       1329  1326      8474        7864   \n",
       "2  84300903    M   1969     2125        130  1203      1096        1599   \n",
       "3  84348301    M   1142     2038       7758  3861      1425        2839   \n",
       "4  84358402    M   2029     1434       1351  1297      1003        1328   \n",
       "\n",
       "   Concavidad  Puntos_Conca  ...  Radio_WM  Textura_WM  Perimetro_WM  Area_WM  \\\n",
       "0        3001          1471  ...      2538        1733          1846     2019   \n",
       "1         869          7017  ...      2499        2341          1588     1956   \n",
       "2        1974          1279  ...      2357        2553          1525     1709   \n",
       "3        2414          1052  ...      1491         265          9887     5677   \n",
       "4         198          1043  ...      2254        1667          1522     1575   \n",
       "\n",
       "   Suavidad_WM  Compacidad_WM  Concavidad_WM  Puntos_Conca_WM  Simetria_WM  \\\n",
       "0         1622           6656           7119             2654         4601   \n",
       "1         1238           1866           2416              186          275   \n",
       "2         1444           4245           4504              243         3613   \n",
       "3         2098           8663           6869             2575         6638   \n",
       "4         1374            205              4             1625         2364   \n",
       "\n",
       "   Fractal_WM  \n",
       "0        1189  \n",
       "1        8902  \n",
       "2        8758  \n",
       "3         173  \n",
       "4        7678  \n",
       "\n",
       "[5 rows x 32 columns]"
      ]
     },
     "execution_count": 28,
     "metadata": {},
     "output_type": "execute_result"
    }
   ],
   "source": [
    "url = 'https://raw.githubusercontent.com/nicoavilan/Bases-de-datos/main/cancer2.csv'\n",
    "df = pd.read_csv(url)\n",
    "df.head()"
   ]
  },
  {
   "cell_type": "code",
   "execution_count": 29,
   "metadata": {},
   "outputs": [
    {
     "data": {
      "text/plain": [
       "array([1799, 2057, 1969, 1142, 2029, 1245, 1825, 1371,   13, 1246, 1602,\n",
       "       1578, 1917, 1585, 1373, 1454, 1468, 1613, 1354, 1308, 9504, 1534,\n",
       "       2116, 1665, 1714, 1458, 1861,  153, 1757, 1863, 1184, 1702, 1927,\n",
       "       1613, 1674, 1425, 1303, 1499, 1348, 1344, 1095, 1907, 1328, 1317,\n",
       "       8196, 1317, 1205, 1349, 1364, 1194, 1822,  151, 1152, 1921, 1471,\n",
       "       8618, 1017, 8598, 1425, 9173, 1268, 1478, 9465, 1131, 9029, 1278,\n",
       "       1894,  172,  138, 1231, 1607, 1353, 1805, 2018, 1286, 1145, 1334,\n",
       "       2522,  191,   12, 1846, 1448, 1902, 1236, 1464, 1462, 1537, 1327,\n",
       "       1345, 1506, 1218, 9787,  116, 1442, 1361, 6981, 1218, 9876, 1049,\n",
       "       1164, 1236, 2227, 1134, 9777, 1263, 1426, 1051, 8726, 1193,  895,\n",
       "       1487, 1578, 1866, 2425,  145, 1337, 1385, 1361,   19,  151, 1979,\n",
       "       1219, 1546, 1616, 1571, 1277, 1171, 1143, 1495, 1128, 1611, 1143,\n",
       "        129, 1075,  119,  118, 1495, 1444, 1374,   13, 8219, 9731, 1115,\n",
       "       1315, 1225, 1768, 1684,  109, 1175, 1919, 1959, 1234, 2327, 1497,\n",
       "        108, 1678, 1747, 1497, 1232, 1343, 1108, 9904, 1301, 1281, 2722,\n",
       "       2109,  157, 1141, 1528, 1008, 1831, 1171, 1181,  123, 1422, 1277,\n",
       "       1234, 1486, 1291, 1377, 1918, 1445, 1223, 1754, 2329, 1381, 1247,\n",
       "       1512, 9876, 1701, 1311, 1527, 2058, 1184, 2811, 1742, 1419, 1386,\n",
       "       1189,  102,  198, 1953, 1365, 1356, 1018, 1575, 1327, 1434, 1044,\n",
       "         15, 1262, 1283, 1705, 1132, 1122, 2051, 9567, 1403, 2321, 2048,\n",
       "       1364, 1242,  113, 1375, 1048,  132, 1289, 1065, 1152, 2094,  115,\n",
       "        173, 1945, 1396, 1955, 1532, 1566, 1735, 1729, 1561, 1719, 2073,\n",
       "        106, 1359, 1287, 1071, 1429, 1129, 2175, 1793, 1189, 1133, 1881,\n",
       "       1359, 1385, 1916, 1174,  194, 1624, 1258, 1194, 1289, 1126, 1137,\n",
       "       1441, 1496, 1295, 1185, 1272, 1091, 1176, 1426, 1051, 1953, 1246,\n",
       "       1049, 1146,  132,    9,  135, 1305,  117, 1461, 1276, 1218, 1822,\n",
       "       9042, 1243, 1025, 2016, 1286, 2034,  122, 1267, 1411, 1203, 1627,\n",
       "       1626, 1298, 1122, 1125,  123, 1706, 1299, 1877, 1005, 2351, 1442,\n",
       "       1106, 1968, 1171, 1026, 1206, 1476, 1147, 1195, 1166, 1575, 2573,\n",
       "       1508, 1114, 1256, 1305, 1387, 8878, 9436, 1254,  165,  134, 2044,\n",
       "        202, 1221, 2171, 1635, 1519, 2137, 2064, 1369, 1617, 1057, 1346,\n",
       "       1366, 1108, 1127, 1104, 1205, 1328, 1221, 1388, 1127, 1955, 1026,\n",
       "       2161,  121, 1406, 1351,  128,  118, 1791, 1193, 1296, 1294, 1234,\n",
       "       1094, 1614, 1285, 1799, 1227, 1136, 1104, 9397, 1499, 1513, 1189,\n",
       "       9405,  155,  127, 1116, 1157, 1469, 1161, 1366, 9742, 1003, 1048,\n",
       "        108, 1113, 1272,  149,  124, 1882, 1486, 1398, 1287, 1404, 1402,\n",
       "       1097, 1057, 1803, 1199, 1775,  148,  211, 1187, 1959,   12, 1453,\n",
       "       1262, 1338, 1163, 1321, 9755, 2742,  144,  116, 1317, 1324,  176,\n",
       "       1162, 9667, 1204, 1492, 1088, 1283,  142,  139, 1149, 1625, 1573,\n",
       "       1245, 1464, 1944, 1168, 1225, 1785, 1801, 1316, 1487, 1247, 1849,\n",
       "       2059, 1504, 1382, 9676, 1222, 1106,  163, 1546, 1481,  134, 1458,\n",
       "       1134, 1831, 1989, 1288, 1275, 9295, 2463, 1126, 1371, 9847, 1346,\n",
       "       1234, 1207, 1175, 1167, 1427, 1169, 7691, 1154, 1447, 1474, 1321,\n",
       "       1387, 1362, 1032, 1026, 9683, 9333, 1288, 1029, 1016, 1459, 1151,\n",
       "       1405, 1522, 2092, 2156, 2013,  166,  206], dtype=int64)"
      ]
     },
     "execution_count": 29,
     "metadata": {},
     "output_type": "execute_result"
    }
   ],
   "source": [
    "z = df.Radio.values\n",
    "z"
   ]
  },
  {
   "cell_type": "code",
   "execution_count": 30,
   "metadata": {},
   "outputs": [
    {
     "data": {
      "text/plain": [
       "1231"
      ]
     },
     "execution_count": 30,
     "metadata": {},
     "output_type": "execute_result"
    }
   ],
   "source": [
    "np.random.choice(z) # Eligiendo números aleatorios del listado z"
   ]
  },
  {
   "cell_type": "code",
   "execution_count": 31,
   "metadata": {},
   "outputs": [
    {
     "data": {
      "image/png": "[encoded data removed]",
      "text/plain": [
       "<Figure size 640x480 with 1 Axes>"
      ]
     },
     "metadata": {},
     "output_type": "display_data"
    }
   ],
   "source": [
    "plt.hist(df.Radio, bins= 60)\n",
    "plt.show()"
   ]
  },
  {
   "cell_type": "code",
   "execution_count": 32,
   "metadata": {},
   "outputs": [
    {
     "name": "stdout",
     "output_type": "stream",
     "text": [
      "Gana = 91.6026 \n",
      "Pierde = 8.3974\n"
     ]
    },
    {
     "data": {
      "image/png": "[encoded data removed]",
      "text/plain": [
       "<Figure size 500x400 with 1 Axes>"
      ]
     },
     "metadata": {},
     "output_type": "display_data"
    }
   ],
   "source": [
    "N = 10**6\n",
    "gana = 0 # Tener como resultado [5, 6, 7, 8, 9]\n",
    "pierde = 0 # Tener como resultado [2, 3, 4, 10, 11, 12]\n",
    "\n",
    "for n in range(N):\n",
    "    d1 = np.random.randint(1, 7)\n",
    "    d2 = np.random.randint(1, 7)\n",
    "    if (d1 +d2 > 4 & d1 + d2 < 10):\n",
    "        gana += 1\n",
    "    else:\n",
    "        pierde += 1\n",
    "\n",
    "print(f'Gana = {100*gana/N} \\nPierde = {100*pierde/N}')\n",
    "\n",
    "plt.figure(figsize= (5,4))\n",
    "plt.bar(['Gana', 'Pierde'], [gana, pierde])\n",
    "plt.show()"
   ]
  },
  {
   "attachments": {},
   "cell_type": "markdown",
   "metadata": {},
   "source": [
    "### Generador de números aleatorios con *numpy.random*\n",
    "\n",
    "**np.random.rand()**\n",
    "Números con decimales uniformemente distribuidos entre 0 y 1"
   ]
  },
  {
   "cell_type": "code",
   "execution_count": 33,
   "metadata": {},
   "outputs": [
    {
     "data": {
      "text/plain": [
       "0.6964691855978616"
      ]
     },
     "execution_count": 33,
     "metadata": {},
     "output_type": "execute_result"
    }
   ],
   "source": [
    "np.random.seed(123)\n",
    "np.random.rand()"
   ]
  },
  {
   "cell_type": "code",
   "execution_count": 34,
   "metadata": {},
   "outputs": [
    {
     "data": {
      "image/png": "[encoded data removed]",
      "text/plain": [
       "<Figure size 640x480 with 1 Axes>"
      ]
     },
     "metadata": {},
     "output_type": "display_data"
    }
   ],
   "source": [
    "N = 10**6\n",
    "x = np.random.rand(N)\n",
    "plt.hist(x, edgecolor= 'white')\n",
    "plt.show()"
   ]
  },
  {
   "attachments": {},
   "cell_type": "markdown",
   "metadata": {},
   "source": [
    "Para generar números aleatorios entre a y b siendo  $ a<b$ puedo generar un aleatorio $r$ entre 0 y 1 para luego hacer la siguiente operación \n",
    "\n",
    "$$ a<= a + (b-a)r <= b $$"
   ]
  },
  {
   "cell_type": "code",
   "execution_count": 35,
   "metadata": {},
   "outputs": [
    {
     "data": {
      "text/plain": [
       "0.38228680057150033"
      ]
     },
     "execution_count": 35,
     "metadata": {},
     "output_type": "execute_result"
    }
   ],
   "source": [
    "a = -2\n",
    "b = 3.1\n",
    "\n",
    "r = np.random.rand()\n",
    "\n",
    "a + (b-a)*r "
   ]
  },
  {
   "cell_type": "code",
   "execution_count": 36,
   "metadata": {},
   "outputs": [
    {
     "data": {
      "image/png": "[encoded data removed]",
      "text/plain": [
       "<Figure size 640x480 with 1 Axes>"
      ]
     },
     "metadata": {},
     "output_type": "display_data"
    }
   ],
   "source": [
    "N = 10**6\n",
    "a = -9\n",
    "b = 9\n",
    "r = np.random.rand(N)\n",
    "x = a + (b-a)*r \n",
    "plt.hist(x, edgecolor= 'white')\n",
    "plt.show()"
   ]
  },
  {
   "attachments": {},
   "cell_type": "markdown",
   "metadata": {},
   "source": [
    "**np.random.randint()**\n",
    "Genera números aleatorios enteros en un rango dado"
   ]
  },
  {
   "cell_type": "code",
   "execution_count": 37,
   "metadata": {},
   "outputs": [
    {
     "data": {
      "image/png": "[encoded data removed]",
      "text/plain": [
       "<Figure size 640x480 with 1 Axes>"
      ]
     },
     "metadata": {},
     "output_type": "display_data"
    }
   ],
   "source": [
    "a = -4\n",
    "b = 7\n",
    "x = np.random.randint(a, b, N)\n",
    "plt.hist(x, edgecolor= 'white', bins= 11, range= (-4, 7))\n",
    "plt.show()"
   ]
  },
  {
   "attachments": {},
   "cell_type": "markdown",
   "metadata": {},
   "source": [
    "### Distribución normal estándas\n",
    "\n",
    "$$ \\mu = 0, \\quad \\sigma = 1 $$"
   ]
  },
  {
   "cell_type": "code",
   "execution_count": 38,
   "metadata": {},
   "outputs": [
    {
     "data": {
      "image/png": "[encoded data removed]",
      "text/plain": [
       "<Figure size 640x480 with 1 Axes>"
      ]
     },
     "metadata": {},
     "output_type": "display_data"
    }
   ],
   "source": [
    "N = 10**6\n",
    "x = np.random.randn(N)\n",
    "plt.hist(x, edgecolor= 'white', bins= 100)\n",
    "plt.show()"
   ]
  },
  {
   "cell_type": "code",
   "execution_count": 39,
   "metadata": {},
   "outputs": [
    {
     "data": {
      "text/plain": [
       "0.0004980355171655117"
      ]
     },
     "execution_count": 39,
     "metadata": {},
     "output_type": "execute_result"
    }
   ],
   "source": [
    "x.mean()"
   ]
  },
  {
   "cell_type": "code",
   "execution_count": 40,
   "metadata": {},
   "outputs": [
    {
     "data": {
      "text/plain": [
       "0.9999200857347235"
      ]
     },
     "execution_count": 40,
     "metadata": {},
     "output_type": "execute_result"
    }
   ],
   "source": [
    "x.std()"
   ]
  },
  {
   "attachments": {},
   "cell_type": "markdown",
   "metadata": {},
   "source": [
    "Distribución normal con media $\\mu$ y $\\sigma$\n",
    "\n",
    "Si los números $z$ tienen una distribución normal estándas, entonces los números\n",
    "\n",
    "$$ x = (z+\\mu) \\sigma $$\n",
    "\n",
    "tienen media $\\mu$ y desviación $\\sigma$"
   ]
  },
  {
   "cell_type": "code",
   "execution_count": 41,
   "metadata": {},
   "outputs": [
    {
     "data": {
      "image/png": "[encoded data removed]",
      "text/plain": [
       "<Figure size 640x480 with 1 Axes>"
      ]
     },
     "metadata": {},
     "output_type": "display_data"
    }
   ],
   "source": [
    "N = 10**6\n",
    "z = np.random.randn(N)\n",
    "\n",
    "μ = -1\n",
    "σ = 3\n",
    "\n",
    "x =  (z + μ)*σ\n",
    "plt.hist(z, edgecolor= 'white', bins= 100, alpha = 0.5, label= 'z')\n",
    "plt.hist(x, edgecolor= 'white', bins= 100, alpha = 0.5, label= 'x')\n",
    "plt.legend()\n",
    "plt.show()"
   ]
  },
  {
   "cell_type": "code",
   "execution_count": 42,
   "metadata": {},
   "outputs": [],
   "source": [
    "def factorial(n):\n",
    "    x = 1\n",
    "    if n > 1:\n",
    "        for k in range(2, n+1):\n",
    "            x *= k\n",
    "    return x"
   ]
  },
  {
   "cell_type": "code",
   "execution_count": 43,
   "metadata": {},
   "outputs": [
    {
     "data": {
      "text/plain": [
       "120"
      ]
     },
     "execution_count": 43,
     "metadata": {},
     "output_type": "execute_result"
    }
   ],
   "source": [
    "factorial(5)"
   ]
  },
  {
   "cell_type": "code",
   "execution_count": 44,
   "metadata": {},
   "outputs": [],
   "source": [
    "def CB(n, k):\n",
    "    if n >= k:\n",
    "        return factorial(n)/(factorial(k)* factorial(n-k)) "
   ]
  },
  {
   "cell_type": "code",
   "execution_count": 45,
   "metadata": {},
   "outputs": [
    {
     "data": {
      "text/plain": [
       "15.0"
      ]
     },
     "execution_count": 45,
     "metadata": {},
     "output_type": "execute_result"
    }
   ],
   "source": [
    "CB(6, 2)"
   ]
  },
  {
   "attachments": {},
   "cell_type": "markdown",
   "metadata": {},
   "source": [
    "Lanzamiento de una moneda 30 veces. Calculo la probabilidad para la cantidad de caras que puedo obtener"
   ]
  },
  {
   "attachments": {},
   "cell_type": "markdown",
   "metadata": {},
   "source": [
    "$$ P(k,x) = \\begin{pmatrix} n \\\\ k\\end{pmatrix}p^{k} (1-p)^{n-k} $$ \n"
   ]
  },
  {
   "cell_type": "code",
   "execution_count": 46,
   "metadata": {},
   "outputs": [
    {
     "data": {
      "text/plain": [
       "array([ 0,  1,  2,  3,  4,  5,  6,  7,  8,  9, 10, 11, 12, 13, 14, 15, 16,\n",
       "       17, 18, 19, 20, 21, 22, 23, 24, 25, 26, 27, 28, 29, 30])"
      ]
     },
     "execution_count": 46,
     "metadata": {},
     "output_type": "execute_result"
    }
   ],
   "source": [
    "x = np.arange(0, 31)\n",
    "x"
   ]
  },
  {
   "cell_type": "code",
   "execution_count": 47,
   "metadata": {},
   "outputs": [
    {
     "name": "stdout",
     "output_type": "stream",
     "text": [
      "[9.313225746154785e-10, 2.7939677238464355e-08, 4.0512531995773315e-07, 3.7811696529388428e-06, 2.552289515733719e-05, 0.00013271905481815338, 0.0005529960617423058, 0.0018959864974021912, 0.0054509611800313, 0.013324571773409843, 0.02798160072416067, 0.05087563768029213, 0.08055309299379587, 0.11153505183756351, 0.13543542008846998, 0.14446444809436798, 0.13543542008846998, 0.11153505183756351, 0.08055309299379587, 0.05087563768029213, 0.02798160072416067, 0.013324571773409843, 0.0054509611800313, 0.0018959864974021912, 0.0005529960617423058, 0.00013271905481815338, 2.552289515733719e-05, 3.7811696529388428e-06, 4.0512531995773315e-07, 2.7939677238464355e-08, 9.313225746154785e-10]\n"
     ]
    }
   ],
   "source": [
    "P = []\n",
    "n = 30\n",
    "p = 0.5\n",
    "for k in x:\n",
    "    P.append(CB(n, k) * (p**k)*(1-p)**(n-k))\n",
    "print(P)"
   ]
  },
  {
   "cell_type": "code",
   "execution_count": 48,
   "metadata": {},
   "outputs": [
    {
     "data": {
      "text/plain": [
       "1.0"
      ]
     },
     "execution_count": 48,
     "metadata": {},
     "output_type": "execute_result"
    }
   ],
   "source": [
    "P = np.array(P)\n",
    "P.sum()"
   ]
  },
  {
   "cell_type": "code",
   "execution_count": 49,
   "metadata": {},
   "outputs": [
    {
     "data": {
      "image/png": "[encoded data removed]",
      "text/plain": [
       "<Figure size 640x480 with 1 Axes>"
      ]
     },
     "metadata": {},
     "output_type": "display_data"
    }
   ],
   "source": [
    "plt.bar(x, P)\n",
    "plt.show()"
   ]
  },
  {
   "cell_type": "code",
   "execution_count": 50,
   "metadata": {},
   "outputs": [
    {
     "data": {
      "text/plain": [
       "15.0"
      ]
     },
     "execution_count": 50,
     "metadata": {},
     "output_type": "execute_result"
    }
   ],
   "source": [
    "μ = esperanza(x, P)\n",
    "μ"
   ]
  },
  {
   "cell_type": "code",
   "execution_count": 51,
   "metadata": {},
   "outputs": [
    {
     "data": {
      "text/plain": [
       "7.5"
      ]
     },
     "execution_count": 51,
     "metadata": {},
     "output_type": "execute_result"
    }
   ],
   "source": [
    "varianza(x, P)"
   ]
  },
  {
   "cell_type": "code",
   "execution_count": 52,
   "metadata": {},
   "outputs": [
    {
     "data": {
      "text/plain": [
       "2.739"
      ]
     },
     "execution_count": 52,
     "metadata": {},
     "output_type": "execute_result"
    }
   ],
   "source": [
    "σ = np.sqrt(varianza(x, P)).round(3)\n",
    "σ"
   ]
  },
  {
   "cell_type": "code",
   "execution_count": 53,
   "metadata": {},
   "outputs": [
    {
     "data": {
      "image/png": "[encoded data removed]",
      "text/plain": [
       "<Figure size 640x480 with 1 Axes>"
      ]
     },
     "metadata": {},
     "output_type": "display_data"
    }
   ],
   "source": [
    "plt.bar(x, P)\n",
    "plt.axvline(esperanza(x, P), color = 'red', label = 'Valor\\nEsperado')\n",
    "plt.title('Probabilidad de éxitos en 30 lanzamientos', size = 14, weight = 'bold')\n",
    "plt.xlabel('Número de éxitos')\n",
    "plt.ylabel('Probabilidad')\n",
    "plt.axvline(μ + σ, color = 'orange', label = f'$\\mu + \\sigma$ = {(μ + σ).round(2)}')\n",
    "plt.axvline(μ - σ, color = 'yellow', label = f'$\\mu - \\sigma$ = {(μ + σ).round(2)}')\n",
    "plt.legend()\n",
    "plt.show()"
   ]
  },
  {
   "attachments": {},
   "cell_type": "markdown",
   "metadata": {},
   "source": [
    "Cambio de pregunta\n",
    "\n",
    "Realizando un experimento con dos posibles resultados (éxito/fracaso). Si realizo múltiples intentos ¿Cuál es la probabilidad de tener el primer éxito en el intento $x$?"
   ]
  },
  {
   "cell_type": "code",
   "execution_count": 54,
   "metadata": {},
   "outputs": [
    {
     "data": {
      "text/plain": [
       "'S'"
      ]
     },
     "execution_count": 54,
     "metadata": {},
     "output_type": "execute_result"
    }
   ],
   "source": [
    "np.random.choice(['C', 'S'])"
   ]
  },
  {
   "cell_type": "code",
   "execution_count": 55,
   "metadata": {},
   "outputs": [
    {
     "name": "stdout",
     "output_type": "stream",
     "text": [
      "1\n"
     ]
    }
   ],
   "source": [
    "resultado = ''\n",
    "contador = 0\n",
    "\n",
    "while resultado != 'C':\n",
    "    contador += 1\n",
    "    resultado = np.random.choice(['C', 'S'])\n",
    "print(contador)"
   ]
  },
  {
   "cell_type": "code",
   "execution_count": 56,
   "metadata": {},
   "outputs": [
    {
     "name": "stdout",
     "output_type": "stream",
     "text": [
      "[1, 2, 4, 3, 2, 1, 2, 1, 2, 1, 2, 2, 1, 1, 4, 1, 3, 2, 1, 1, 2, 2, 1, 2, 2, 1, 4, 2, 2, 1, 2, 3, 2, 1, 1, 1, 2, 1, 1, 1, 2, 3, 1, 1, 1, 2, 3, 1, 1, 1, 1, 1, 2, 3, 2, 1, 1, 1, 1, 2, 1, 2, 2, 1, 1, 2, 2, 1, 1, 1, 2, 2, 1, 1, 1, 4, 2, 1, 2, 2, 2, 1, 5, 1, 1, 7, 2, 2, 2, 1, 2, 1, 3, 4, 7, 1, 1, 2, 1, 4, 2, 1, 3, 4, 3, 1, 2, 4, 2, 1, 3, 2, 1, 4, 2, 1, 3, 2, 2, 1, 2, 3, 1, 3, 1, 1, 2, 1, 2, 1, 4, 1, 1, 4, 1, 2, 2, 3, 1, 5, 1, 1, 5, 1, 2, 1, 2, 1, 1, 2, 2, 5, 2, 1, 1, 1, 1, 2, 1, 1, 1, 1, 1, 1, 2, 2, 1, 1, 2, 3, 1, 1, 1, 1, 1, 1, 1, 1, 1, 2, 1, 1, 1, 1, 1, 3, 2, 3, 1, 1, 4, 1, 2, 6, 3, 2, 1, 1, 1, 3, 1, 1, 2, 2, 1, 1, 2, 1, 1, 1, 3, 2, 1, 1, 2, 1, 2, 1, 1, 3, 1, 3, 1, 3, 1, 1, 1, 2, 1, 1, 2, 3, 4, 3, 2, 2, 2, 3, 2, 1, 1, 8, 1, 1, 4, 2, 1, 1, 1, 1, 7, 1, 1, 4, 1, 2, 1, 1, 2, 1, 1, 3, 2, 1, 6, 2, 1, 2, 2, 5, 1, 6, 1, 1, 2, 1, 2, 2, 1, 1, 2, 5, 2, 2, 2, 4, 1, 1, 4, 2, 2, 3, 1, 1, 2, 3, 1, 1, 2, 6, 2, 2, 1, 4, 2, 1, 1, 4, 1, 5, 1, 5, 4, 2, 1, 2, 1, 6, 2, 1, 2, 1, 1, 5, 2, 1, 2, 1, 1, 1, 1, 4, 4, 2, 5, 2, 1, 3, 1, 1, 1, 3, 1, 2, 3, 3, 4, 2, 2, 2, 1, 2, 2, 1, 1, 2, 2, 1, 1, 1, 2, 3, 1, 1, 1, 2, 1, 1, 1, 2, 3, 1, 1, 1, 2, 1, 7, 2, 1, 2, 1, 2, 4, 1, 3, 1, 2, 3, 1, 2, 1, 1, 2, 1, 1, 1, 1, 3, 5, 2, 2, 2, 1, 1, 1, 3, 2, 1, 2, 1, 1, 1, 2, 2, 1, 2, 2, 1, 1, 6, 1, 2, 2, 4, 1, 1, 1, 1, 1, 1, 2, 1, 3, 3, 2, 1, 1, 1, 3, 2, 2, 3, 1, 1, 7, 2, 1, 5, 2, 1, 4, 1, 3, 3, 1, 2, 3, 1, 2, 1, 2, 3, 1, 4, 4, 1, 2, 3, 2, 1, 1, 2, 4, 1, 1, 2, 1, 3, 3, 3, 1, 1, 5, 2, 2, 1, 2, 5, 4, 1, 2, 3, 1, 2, 2, 2, 2, 1, 1, 1, 1, 2, 2, 3, 1, 2, 1, 2, 4, 1, 1, 1, 1, 3, 1, 2, 1, 1, 4, 2, 1, 2, 1, 1, 1, 2, 3, 1, 3, 3, 3, 1, 1, 3, 3, 1, 1, 2, 2, 1, 3, 3, 1, 1, 5, 1, 1, 1, 2, 1, 2, 1, 3, 4, 3, 1, 1, 4, 2, 1, 2, 1, 1, 2, 1, 2, 1, 1, 1, 1, 2, 4, 1, 2, 1, 1, 2, 2, 2, 3, 1, 1, 1, 1, 2, 2, 1, 1, 4, 3, 9, 7, 7, 3, 1, 2, 1, 1, 1, 1, 8, 3, 1, 1, 1, 1, 3, 1, 2, 8, 2, 1, 2, 1, 4, 3, 2, 6, 1, 1, 1, 1, 1, 5, 1, 1, 2, 4, 1, 2, 1, 2, 4, 1, 1, 3, 2, 4, 1, 1, 1, 1, 2, 6, 4, 1, 1, 1, 1, 1, 1, 2, 3, 5, 1, 3, 3, 2, 3, 3, 2, 2, 1, 2, 1, 4, 1, 1, 2, 1, 5, 2, 1, 1, 3, 1, 1, 1, 2, 1, 1, 4, 3, 3, 3, 1, 1, 2, 1, 2, 2, 1, 2, 1, 1, 5, 1, 1, 1, 6, 1, 1, 4, 2, 1, 2, 1, 1, 2, 1, 2, 2, 1, 1, 4, 3, 1, 3, 1, 2, 2, 1, 3, 2, 2, 1, 1, 2, 1, 1, 1, 1, 1, 1, 1, 1, 1, 2, 2, 2, 2, 1, 1, 2, 1, 2, 2, 2, 2, 2, 1, 2, 5, 2, 2, 3, 3, 1, 1, 2, 2, 1, 1, 2, 1, 2, 1, 1, 1, 3, 1, 1, 4, 2, 1, 1, 1, 1, 1, 1, 2, 4, 4, 3, 1, 1, 1, 1, 1, 3, 1, 2, 3, 5, 1, 2, 1, 1, 2, 1, 2, 1, 2, 1, 2, 1, 1, 1, 1, 1, 3, 6, 3, 2, 1, 1, 2, 1, 1, 3, 1, 2, 3, 1, 2, 3, 5, 1, 2, 1, 3, 4, 2, 1, 1, 1, 2, 3, 2, 1, 1, 2, 1, 1, 1, 3, 1, 1, 3, 3, 1, 1, 1, 2, 1, 1, 1, 3, 3, 1, 2, 1, 1, 1, 1, 4, 1, 5, 2, 1, 1, 1, 4, 1, 2, 1, 2, 1, 4, 5, 1, 1, 1, 4, 1, 1, 1, 1, 1, 2, 1, 1, 3, 3, 1, 1, 3, 1, 1, 2, 1, 1, 2, 3, 2, 1, 1, 5, 1, 2, 2, 1, 1, 1, 1, 1, 5, 1, 2, 2, 1, 1, 2, 4, 2, 3, 1, 2, 3, 1, 4, 2, 2, 3, 1, 1, 1, 1, 1, 1, 1, 1, 1, 1, 1, 1, 6, 2, 2, 1, 1, 2, 2, 1, 1, 2, 3, 1, 2, 1, 1, 2, 1, 1, 3, 1, 1, 1, 1, 1, 5, 2, 4, 2, 1, 2, 3, 2, 1, 2, 2, 1, 4, 1, 1, 1, 1, 5, 1, 1, 2, 1, 1, 1, 1, 1, 2, 2, 2, 1]\n"
     ]
    },
    {
     "data": {
      "image/png": "[encoded data removed]",
      "text/plain": [
       "<Figure size 640x480 with 1 Axes>"
      ]
     },
     "metadata": {},
     "output_type": "display_data"
    }
   ],
   "source": [
    "intentos = 10**3\n",
    "cuentas = []\n",
    "\n",
    "for n in range(intentos):    \n",
    "    resultado = ''\n",
    "    contador = 0\n",
    "    while resultado != 'C':\n",
    "        contador += 1\n",
    "        resultado = np.random.choice(['C', 'S'])\n",
    "        if resultado == 'C':\n",
    "            cuentas.append(contador)\n",
    "            break\n",
    "\n",
    "print(cuentas)\n",
    "plt.hist(cuentas, edgecolor= 'white')\n",
    "plt.show()"
   ]
  },
  {
   "cell_type": "code",
   "execution_count": 57,
   "metadata": {},
   "outputs": [
    {
     "data": {
      "text/plain": [
       "array([0.16666667, 0.13888889, 0.11574074, 0.09645062, 0.08037551,\n",
       "       0.0669796 ])"
      ]
     },
     "execution_count": 57,
     "metadata": {},
     "output_type": "execute_result"
    }
   ],
   "source": [
    "x = np.arange(1, 7)\n",
    "p = 1/6\n",
    "P = p*(1-p)**(x-1)\n",
    "P"
   ]
  },
  {
   "cell_type": "code",
   "execution_count": 58,
   "metadata": {},
   "outputs": [
    {
     "data": {
      "image/png": "[encoded data removed]",
      "text/plain": [
       "<Figure size 400x300 with 1 Axes>"
      ]
     },
     "metadata": {},
     "output_type": "display_data"
    }
   ],
   "source": [
    "intentos = 10**5\n",
    "cuentas = []\n",
    "for n in range (intentos):\n",
    "    resultado = ''\n",
    "    contador = 0\n",
    "    while resultado != 4:\n",
    "        contador = 1\n",
    "        resultado = np.random.choice([1, 2, 3, 4, 5, 6])\n",
    "        if resultado == 4:\n",
    "            cuentas.append(contador)\n",
    "            break\n",
    "\n",
    "plt.figure(figsize=(4,3))\n",
    "plt.hist(cuentas, bins= 70, edgecolor= 'w', range= (1,71))\n",
    "plt.show()"
   ]
  },
  {
   "cell_type": "code",
   "execution_count": null,
   "metadata": {},
   "outputs": [],
   "source": []
  }
 ],
 "metadata": {
  "kernelspec": {
   "display_name": "Python 3",
   "language": "python",
   "name": "python3"
  },
  "language_info": {
   "codemirror_mode": {
    "name": "ipython",
    "version": 3
   },
   "file_extension": ".py",
   "mimetype": "text/x-python",
   "name": "python",
   "nbconvert_exporter": "python",
   "pygments_lexer": "ipython3",
   "version": "3.11.4"
  },
  "orig_nbformat": 4
 },
 "nbformat": 4,
 "nbformat_minor": 2
}
