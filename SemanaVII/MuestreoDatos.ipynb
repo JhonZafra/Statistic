{
 "cells": [
  {
   "attachments": {},
   "cell_type": "markdown",
   "metadata": {},
   "source": [
    "## Muestreo Estadístico\n",
    "\n",
    "Ejercicio de muestreo:"
   ]
  },
  {
   "cell_type": "code",
   "execution_count": 3,
   "metadata": {},
   "outputs": [],
   "source": [
    "import pandas as pd\n",
    "import numpy as np\n",
    "import matplotlib.pyplot as plt\n",
    "import seaborn as sns"
   ]
  },
  {
   "cell_type": "code",
   "execution_count": 4,
   "metadata": {},
   "outputs": [
    {
     "data": {
      "text/html": [
       "<div>\n",
       "<style scoped>\n",
       "    .dataframe tbody tr th:only-of-type {\n",
       "        vertical-align: middle;\n",
       "    }\n",
       "\n",
       "    .dataframe tbody tr th {\n",
       "        vertical-align: top;\n",
       "    }\n",
       "\n",
       "    .dataframe thead th {\n",
       "        text-align: right;\n",
       "    }\n",
       "</style>\n",
       "<table border=\"1\" class=\"dataframe\">\n",
       "  <thead>\n",
       "    <tr style=\"text-align: right;\">\n",
       "      <th></th>\n",
       "      <th>Vmag</th>\n",
       "      <th>Plx</th>\n",
       "      <th>e_Plx</th>\n",
       "      <th>B-V</th>\n",
       "      <th>SpType</th>\n",
       "      <th>Amag</th>\n",
       "      <th>TargetClass</th>\n",
       "    </tr>\n",
       "  </thead>\n",
       "  <tbody>\n",
       "    <tr>\n",
       "      <th>0</th>\n",
       "      <td>9.10</td>\n",
       "      <td>3.54</td>\n",
       "      <td>1.39</td>\n",
       "      <td>0.482</td>\n",
       "      <td>F5</td>\n",
       "      <td>16.845016</td>\n",
       "      <td>9</td>\n",
       "    </tr>\n",
       "    <tr>\n",
       "      <th>1</th>\n",
       "      <td>9.27</td>\n",
       "      <td>21.90</td>\n",
       "      <td>3.10</td>\n",
       "      <td>0.999</td>\n",
       "      <td>K3V</td>\n",
       "      <td>20.972221</td>\n",
       "      <td>0</td>\n",
       "    </tr>\n",
       "    <tr>\n",
       "      <th>2</th>\n",
       "      <td>6.61</td>\n",
       "      <td>2.81</td>\n",
       "      <td>0.63</td>\n",
       "      <td>-0.019</td>\n",
       "      <td>B9</td>\n",
       "      <td>13.853532</td>\n",
       "      <td>9</td>\n",
       "    </tr>\n",
       "    <tr>\n",
       "      <th>3</th>\n",
       "      <td>8.06</td>\n",
       "      <td>7.75</td>\n",
       "      <td>0.97</td>\n",
       "      <td>0.370</td>\n",
       "      <td>F0V</td>\n",
       "      <td>17.506509</td>\n",
       "      <td>0</td>\n",
       "    </tr>\n",
       "    <tr>\n",
       "      <th>4</th>\n",
       "      <td>8.55</td>\n",
       "      <td>2.87</td>\n",
       "      <td>1.11</td>\n",
       "      <td>0.902</td>\n",
       "      <td>G8III</td>\n",
       "      <td>15.839409</td>\n",
       "      <td>1</td>\n",
       "    </tr>\n",
       "  </tbody>\n",
       "</table>\n",
       "</div>"
      ],
      "text/plain": [
       "   Vmag    Plx  e_Plx    B-V SpType       Amag  TargetClass\n",
       "0  9.10   3.54   1.39  0.482     F5  16.845016            9\n",
       "1  9.27  21.90   3.10  0.999    K3V  20.972221            0\n",
       "2  6.61   2.81   0.63 -0.019     B9  13.853532            9\n",
       "3  8.06   7.75   0.97  0.370    F0V  17.506509            0\n",
       "4  8.55   2.87   1.11  0.902  G8III  15.839409            1"
      ]
     },
     "execution_count": 4,
     "metadata": {},
     "output_type": "execute_result"
    }
   ],
   "source": [
    "url = 'https://raw.githubusercontent.com/nicoavilan/Bases-de-datos/main/StarClass.csv'\n",
    "df = pd.read_csv(url, index_col= 0)\n",
    "df.head()"
   ]
  },
  {
   "cell_type": "code",
   "execution_count": 5,
   "metadata": {},
   "outputs": [
    {
     "name": "stdout",
     "output_type": "stream",
     "text": [
      "<class 'pandas.core.frame.DataFrame'>\n",
      "Index: 96707 entries, 0 to 96706\n",
      "Data columns (total 7 columns):\n",
      " #   Column       Non-Null Count  Dtype  \n",
      "---  ------       --------------  -----  \n",
      " 0   Vmag         96707 non-null  float64\n",
      " 1   Plx          96707 non-null  float64\n",
      " 2   e_Plx        96707 non-null  float64\n",
      " 3   B-V          96707 non-null  float64\n",
      " 4   SpType       96707 non-null  object \n",
      " 5   Amag         96707 non-null  float64\n",
      " 6   TargetClass  96707 non-null  int64  \n",
      "dtypes: float64(5), int64(1), object(1)\n",
      "memory usage: 5.9+ MB\n"
     ]
    }
   ],
   "source": [
    "df.info()"
   ]
  },
  {
   "cell_type": "code",
   "execution_count": 6,
   "metadata": {},
   "outputs": [
    {
     "data": {
      "text/plain": [
       "array([9, 0, 1], dtype=int64)"
      ]
     },
     "execution_count": 6,
     "metadata": {},
     "output_type": "execute_result"
    }
   ],
   "source": [
    "df.TargetClass.unique()"
   ]
  },
  {
   "cell_type": "code",
   "execution_count": 7,
   "metadata": {},
   "outputs": [
    {
     "data": {
      "text/plain": [
       "TargetClass\n",
       "9    49210\n",
       "1    26622\n",
       "0    20875\n",
       "Name: count, dtype: int64"
      ]
     },
     "execution_count": 7,
     "metadata": {},
     "output_type": "execute_result"
    }
   ],
   "source": [
    "df.TargetClass.value_counts()"
   ]
  },
  {
   "attachments": {},
   "cell_type": "markdown",
   "metadata": {},
   "source": [
    "Clasificación | TargetClass\n",
    "--------------| -----------\n",
    "Estrellas gigantes | 1\n",
    "Estrellas enanas | 0\n",
    "Otros tipos | 9"
   ]
  },
  {
   "cell_type": "code",
   "execution_count": 8,
   "metadata": {},
   "outputs": [
    {
     "data": {
      "text/html": [
       "<div>\n",
       "<style scoped>\n",
       "    .dataframe tbody tr th:only-of-type {\n",
       "        vertical-align: middle;\n",
       "    }\n",
       "\n",
       "    .dataframe tbody tr th {\n",
       "        vertical-align: top;\n",
       "    }\n",
       "\n",
       "    .dataframe thead th {\n",
       "        text-align: right;\n",
       "    }\n",
       "</style>\n",
       "<table border=\"1\" class=\"dataframe\">\n",
       "  <thead>\n",
       "    <tr style=\"text-align: right;\">\n",
       "      <th></th>\n",
       "      <th>Vmag</th>\n",
       "      <th>Plx</th>\n",
       "      <th>e_Plx</th>\n",
       "      <th>B-V</th>\n",
       "      <th>SpType</th>\n",
       "      <th>Amag</th>\n",
       "      <th>TargetClass</th>\n",
       "    </tr>\n",
       "  </thead>\n",
       "  <tbody>\n",
       "    <tr>\n",
       "      <th>1</th>\n",
       "      <td>9.27</td>\n",
       "      <td>21.90</td>\n",
       "      <td>3.10</td>\n",
       "      <td>0.999</td>\n",
       "      <td>K3V</td>\n",
       "      <td>20.972221</td>\n",
       "      <td>0</td>\n",
       "    </tr>\n",
       "    <tr>\n",
       "      <th>3</th>\n",
       "      <td>8.06</td>\n",
       "      <td>7.75</td>\n",
       "      <td>0.97</td>\n",
       "      <td>0.370</td>\n",
       "      <td>F0V</td>\n",
       "      <td>17.506509</td>\n",
       "      <td>0</td>\n",
       "    </tr>\n",
       "    <tr>\n",
       "      <th>4</th>\n",
       "      <td>8.55</td>\n",
       "      <td>2.87</td>\n",
       "      <td>1.11</td>\n",
       "      <td>0.902</td>\n",
       "      <td>G8III</td>\n",
       "      <td>15.839409</td>\n",
       "      <td>1</td>\n",
       "    </tr>\n",
       "    <tr>\n",
       "      <th>5</th>\n",
       "      <td>12.31</td>\n",
       "      <td>18.80</td>\n",
       "      <td>4.99</td>\n",
       "      <td>1.336</td>\n",
       "      <td>M0V:</td>\n",
       "      <td>23.680789</td>\n",
       "      <td>0</td>\n",
       "    </tr>\n",
       "    <tr>\n",
       "      <th>9</th>\n",
       "      <td>8.59</td>\n",
       "      <td>10.76</td>\n",
       "      <td>1.10</td>\n",
       "      <td>0.489</td>\n",
       "      <td>F6V</td>\n",
       "      <td>18.749061</td>\n",
       "      <td>0</td>\n",
       "    </tr>\n",
       "    <tr>\n",
       "      <th>...</th>\n",
       "      <td>...</td>\n",
       "      <td>...</td>\n",
       "      <td>...</td>\n",
       "      <td>...</td>\n",
       "      <td>...</td>\n",
       "      <td>...</td>\n",
       "      <td>...</td>\n",
       "    </tr>\n",
       "    <tr>\n",
       "      <th>96696</th>\n",
       "      <td>8.79</td>\n",
       "      <td>0.89</td>\n",
       "      <td>1.28</td>\n",
       "      <td>1.194</td>\n",
       "      <td>K1III</td>\n",
       "      <td>13.536950</td>\n",
       "      <td>1</td>\n",
       "    </tr>\n",
       "    <tr>\n",
       "      <th>96698</th>\n",
       "      <td>8.00</td>\n",
       "      <td>0.41</td>\n",
       "      <td>0.92</td>\n",
       "      <td>0.854</td>\n",
       "      <td>F6Iab</td>\n",
       "      <td>11.063919</td>\n",
       "      <td>1</td>\n",
       "    </tr>\n",
       "    <tr>\n",
       "      <th>96701</th>\n",
       "      <td>7.69</td>\n",
       "      <td>6.60</td>\n",
       "      <td>0.92</td>\n",
       "      <td>1.110</td>\n",
       "      <td>K2III</td>\n",
       "      <td>16.787720</td>\n",
       "      <td>1</td>\n",
       "    </tr>\n",
       "    <tr>\n",
       "      <th>96705</th>\n",
       "      <td>6.98</td>\n",
       "      <td>2.97</td>\n",
       "      <td>0.76</td>\n",
       "      <td>-0.143</td>\n",
       "      <td>B1.5V</td>\n",
       "      <td>14.343782</td>\n",
       "      <td>0</td>\n",
       "    </tr>\n",
       "    <tr>\n",
       "      <th>96706</th>\n",
       "      <td>8.51</td>\n",
       "      <td>-1.18</td>\n",
       "      <td>1.34</td>\n",
       "      <td>1.568</td>\n",
       "      <td>K5/M0III</td>\n",
       "      <td>13.869410</td>\n",
       "      <td>1</td>\n",
       "    </tr>\n",
       "  </tbody>\n",
       "</table>\n",
       "<p>47497 rows × 7 columns</p>\n",
       "</div>"
      ],
      "text/plain": [
       "        Vmag    Plx  e_Plx    B-V    SpType       Amag  TargetClass\n",
       "1       9.27  21.90   3.10  0.999       K3V  20.972221            0\n",
       "3       8.06   7.75   0.97  0.370       F0V  17.506509            0\n",
       "4       8.55   2.87   1.11  0.902     G8III  15.839409            1\n",
       "5      12.31  18.80   4.99  1.336      M0V:  23.680789            0\n",
       "9       8.59  10.76   1.10  0.489       F6V  18.749061            0\n",
       "...      ...    ...    ...    ...       ...        ...          ...\n",
       "96696   8.79   0.89   1.28  1.194     K1III  13.536950            1\n",
       "96698   8.00   0.41   0.92  0.854     F6Iab  11.063919            1\n",
       "96701   7.69   6.60   0.92  1.110     K2III  16.787720            1\n",
       "96705   6.98   2.97   0.76 -0.143     B1.5V  14.343782            0\n",
       "96706   8.51  -1.18   1.34  1.568  K5/M0III  13.869410            1\n",
       "\n",
       "[47497 rows x 7 columns]"
      ]
     },
     "execution_count": 8,
     "metadata": {},
     "output_type": "execute_result"
    }
   ],
   "source": [
    "df0 = df[ df.TargetClass != 9]\n",
    "df0"
   ]
  },
  {
   "cell_type": "code",
   "execution_count": 9,
   "metadata": {},
   "outputs": [
    {
     "data": {
      "text/plain": [
       "TargetClass\n",
       "1    26622\n",
       "0    20875\n",
       "Name: count, dtype: int64"
      ]
     },
     "execution_count": 9,
     "metadata": {},
     "output_type": "execute_result"
    }
   ],
   "source": [
    "df0.TargetClass.value_counts()"
   ]
  },
  {
   "cell_type": "code",
   "execution_count": 10,
   "metadata": {},
   "outputs": [
    {
     "data": {
      "image/png": "[encoded data removed]",
      "text/plain": [
       "<Figure size 600x400 with 1 Axes>"
      ]
     },
     "metadata": {},
     "output_type": "display_data"
    }
   ],
   "source": [
    "plt.figure(figsize= (6,4))\n",
    "sns.countplot(x = df0.TargetClass)\n",
    "plt.show()"
   ]
  },
  {
   "attachments": {},
   "cell_type": "markdown",
   "metadata": {},
   "source": [
    "La muesta es válida cuando sus variables tiene las mismas características que la totalidad de la población, es decir, balancear los datos"
   ]
  },
  {
   "cell_type": "markdown",
   "metadata": {},
   "source": [
    "Clase 12/07/2023"
   ]
  },
  {
   "cell_type": "code",
   "execution_count": 11,
   "metadata": {},
   "outputs": [
    {
     "data": {
      "text/plain": [
       "-1.44"
      ]
     },
     "execution_count": 11,
     "metadata": {},
     "output_type": "execute_result"
    }
   ],
   "source": [
    "df.Vmag.min()"
   ]
  },
  {
   "cell_type": "code",
   "execution_count": 12,
   "metadata": {},
   "outputs": [
    {
     "data": {
      "text/plain": [
       "13.61"
      ]
     },
     "execution_count": 12,
     "metadata": {},
     "output_type": "execute_result"
    }
   ],
   "source": [
    "df.Vmag.max()"
   ]
  },
  {
   "cell_type": "code",
   "execution_count": 17,
   "metadata": {},
   "outputs": [],
   "source": [
    "filtro2 = df.Vmag > 10"
   ]
  },
  {
   "cell_type": "code",
   "execution_count": 15,
   "metadata": {},
   "outputs": [],
   "source": [
    "df[ df.Vmag > 10]"
   ]
  },
  {
   "cell_type": "code",
   "execution_count": 18,
   "metadata": {},
   "outputs": [
    {
     "data": {
      "text/html": [
       "<div>\n",
       "<style scoped>\n",
       "    .dataframe tbody tr th:only-of-type {\n",
       "        vertical-align: middle;\n",
       "    }\n",
       "\n",
       "    .dataframe tbody tr th {\n",
       "        vertical-align: top;\n",
       "    }\n",
       "\n",
       "    .dataframe thead th {\n",
       "        text-align: right;\n",
       "    }\n",
       "</style>\n",
       "<table border=\"1\" class=\"dataframe\">\n",
       "  <thead>\n",
       "    <tr style=\"text-align: right;\">\n",
       "      <th></th>\n",
       "      <th>Vmag</th>\n",
       "      <th>Plx</th>\n",
       "      <th>e_Plx</th>\n",
       "      <th>B-V</th>\n",
       "      <th>SpType</th>\n",
       "      <th>Amag</th>\n",
       "      <th>TargetClass</th>\n",
       "    </tr>\n",
       "  </thead>\n",
       "  <tbody>\n",
       "    <tr>\n",
       "      <th>5</th>\n",
       "      <td>12.31</td>\n",
       "      <td>18.80</td>\n",
       "      <td>4.99</td>\n",
       "      <td>1.336</td>\n",
       "      <td>M0V:</td>\n",
       "      <td>23.680789</td>\n",
       "      <td>0</td>\n",
       "    </tr>\n",
       "    <tr>\n",
       "      <th>16</th>\n",
       "      <td>11.03</td>\n",
       "      <td>19.93</td>\n",
       "      <td>2.36</td>\n",
       "      <td>1.567</td>\n",
       "      <td>K5</td>\n",
       "      <td>22.527536</td>\n",
       "      <td>9</td>\n",
       "    </tr>\n",
       "    <tr>\n",
       "      <th>35</th>\n",
       "      <td>10.44</td>\n",
       "      <td>3.74</td>\n",
       "      <td>2.72</td>\n",
       "      <td>0.391</td>\n",
       "      <td>F0V</td>\n",
       "      <td>18.304358</td>\n",
       "      <td>0</td>\n",
       "    </tr>\n",
       "    <tr>\n",
       "      <th>39</th>\n",
       "      <td>10.61</td>\n",
       "      <td>-3.40</td>\n",
       "      <td>4.25</td>\n",
       "      <td>0.570</td>\n",
       "      <td>B...</td>\n",
       "      <td>18.267395</td>\n",
       "      <td>9</td>\n",
       "    </tr>\n",
       "    <tr>\n",
       "      <th>44</th>\n",
       "      <td>10.78</td>\n",
       "      <td>24.45</td>\n",
       "      <td>1.97</td>\n",
       "      <td>1.150</td>\n",
       "      <td>K3V</td>\n",
       "      <td>22.721394</td>\n",
       "      <td>0</td>\n",
       "    </tr>\n",
       "    <tr>\n",
       "      <th>...</th>\n",
       "      <td>...</td>\n",
       "      <td>...</td>\n",
       "      <td>...</td>\n",
       "      <td>...</td>\n",
       "      <td>...</td>\n",
       "      <td>...</td>\n",
       "      <td>...</td>\n",
       "    </tr>\n",
       "    <tr>\n",
       "      <th>96562</th>\n",
       "      <td>10.44</td>\n",
       "      <td>-1.11</td>\n",
       "      <td>2.10</td>\n",
       "      <td>1.496</td>\n",
       "      <td>K7</td>\n",
       "      <td>15.666615</td>\n",
       "      <td>9</td>\n",
       "    </tr>\n",
       "    <tr>\n",
       "      <th>96567</th>\n",
       "      <td>10.56</td>\n",
       "      <td>5.63</td>\n",
       "      <td>2.07</td>\n",
       "      <td>0.480</td>\n",
       "      <td>F0V</td>\n",
       "      <td>19.312542</td>\n",
       "      <td>0</td>\n",
       "    </tr>\n",
       "    <tr>\n",
       "      <th>96571</th>\n",
       "      <td>10.86</td>\n",
       "      <td>2.74</td>\n",
       "      <td>2.29</td>\n",
       "      <td>0.876</td>\n",
       "      <td>M1</td>\n",
       "      <td>18.048753</td>\n",
       "      <td>9</td>\n",
       "    </tr>\n",
       "    <tr>\n",
       "      <th>96671</th>\n",
       "      <td>10.26</td>\n",
       "      <td>2.45</td>\n",
       "      <td>1.74</td>\n",
       "      <td>0.923</td>\n",
       "      <td>G5</td>\n",
       "      <td>17.205830</td>\n",
       "      <td>9</td>\n",
       "    </tr>\n",
       "    <tr>\n",
       "      <th>96689</th>\n",
       "      <td>10.28</td>\n",
       "      <td>4.40</td>\n",
       "      <td>2.11</td>\n",
       "      <td>1.130</td>\n",
       "      <td>K</td>\n",
       "      <td>18.497263</td>\n",
       "      <td>9</td>\n",
       "    </tr>\n",
       "  </tbody>\n",
       "</table>\n",
       "<p>6027 rows × 7 columns</p>\n",
       "</div>"
      ],
      "text/plain": [
       "        Vmag    Plx  e_Plx    B-V SpType       Amag  TargetClass\n",
       "5      12.31  18.80   4.99  1.336   M0V:  23.680789            0\n",
       "16     11.03  19.93   2.36  1.567     K5  22.527536            9\n",
       "35     10.44   3.74   2.72  0.391    F0V  18.304358            0\n",
       "39     10.61  -3.40   4.25  0.570   B...  18.267395            9\n",
       "44     10.78  24.45   1.97  1.150    K3V  22.721394            0\n",
       "...      ...    ...    ...    ...    ...        ...          ...\n",
       "96562  10.44  -1.11   2.10  1.496     K7  15.666615            9\n",
       "96567  10.56   5.63   2.07  0.480    F0V  19.312542            0\n",
       "96571  10.86   2.74   2.29  0.876     M1  18.048753            9\n",
       "96671  10.26   2.45   1.74  0.923     G5  17.205830            9\n",
       "96689  10.28   4.40   2.11  1.130      K  18.497263            9\n",
       "\n",
       "[6027 rows x 7 columns]"
      ]
     },
     "execution_count": 18,
     "metadata": {},
     "output_type": "execute_result"
    }
   ],
   "source": [
    "df [ filtro2 ]"
   ]
  },
  {
   "cell_type": "code",
   "execution_count": 19,
   "metadata": {},
   "outputs": [
    {
     "data": {
      "text/plain": [
       "0        False\n",
       "1        False\n",
       "2        False\n",
       "3        False\n",
       "4        False\n",
       "         ...  \n",
       "96702    False\n",
       "96703    False\n",
       "96704    False\n",
       "96705    False\n",
       "96706    False\n",
       "Name: Vmag, Length: 96707, dtype: bool"
      ]
     },
     "execution_count": 19,
     "metadata": {},
     "output_type": "execute_result"
    }
   ],
   "source": [
    "filtro2"
   ]
  },
  {
   "cell_type": "code",
   "execution_count": 20,
   "metadata": {},
   "outputs": [],
   "source": [
    "filtro1 = df.TargetClass == 1"
   ]
  },
  {
   "cell_type": "markdown",
   "metadata": {},
   "source": [
    "Tres operaciones lògicas con los filtros\n",
    "\n",
    "1. Negación\n",
    "2. Union (o -> |)\n",
    "3. Intersección (y -> &)"
   ]
  },
  {
   "cell_type": "code",
   "execution_count": 21,
   "metadata": {},
   "outputs": [
    {
     "data": {
      "text/plain": [
       "0        False\n",
       "1        False\n",
       "2        False\n",
       "3        False\n",
       "4         True\n",
       "         ...  \n",
       "96702    False\n",
       "96703    False\n",
       "96704    False\n",
       "96705    False\n",
       "96706     True\n",
       "Name: TargetClass, Length: 96707, dtype: bool"
      ]
     },
     "execution_count": 21,
     "metadata": {},
     "output_type": "execute_result"
    }
   ],
   "source": [
    "filtro1"
   ]
  },
  {
   "cell_type": "code",
   "execution_count": 22,
   "metadata": {},
   "outputs": [
    {
     "data": {
      "text/plain": [
       "0         True\n",
       "1         True\n",
       "2         True\n",
       "3         True\n",
       "4        False\n",
       "         ...  \n",
       "96702     True\n",
       "96703     True\n",
       "96704     True\n",
       "96705     True\n",
       "96706    False\n",
       "Name: TargetClass, Length: 96707, dtype: bool"
      ]
     },
     "execution_count": 22,
     "metadata": {},
     "output_type": "execute_result"
    }
   ],
   "source": [
    "~ filtro1 #Negación del filtro 1"
   ]
  },
  {
   "cell_type": "code",
   "execution_count": 23,
   "metadata": {},
   "outputs": [
    {
     "data": {
      "text/html": [
       "<div>\n",
       "<style scoped>\n",
       "    .dataframe tbody tr th:only-of-type {\n",
       "        vertical-align: middle;\n",
       "    }\n",
       "\n",
       "    .dataframe tbody tr th {\n",
       "        vertical-align: top;\n",
       "    }\n",
       "\n",
       "    .dataframe thead th {\n",
       "        text-align: right;\n",
       "    }\n",
       "</style>\n",
       "<table border=\"1\" class=\"dataframe\">\n",
       "  <thead>\n",
       "    <tr style=\"text-align: right;\">\n",
       "      <th></th>\n",
       "      <th>Vmag</th>\n",
       "      <th>Plx</th>\n",
       "      <th>e_Plx</th>\n",
       "      <th>B-V</th>\n",
       "      <th>SpType</th>\n",
       "      <th>Amag</th>\n",
       "      <th>TargetClass</th>\n",
       "    </tr>\n",
       "  </thead>\n",
       "  <tbody>\n",
       "    <tr>\n",
       "      <th>4</th>\n",
       "      <td>8.55</td>\n",
       "      <td>2.87</td>\n",
       "      <td>1.11</td>\n",
       "      <td>0.902</td>\n",
       "      <td>G8III</td>\n",
       "      <td>15.839409</td>\n",
       "      <td>1</td>\n",
       "    </tr>\n",
       "    <tr>\n",
       "      <th>11</th>\n",
       "      <td>8.43</td>\n",
       "      <td>4.06</td>\n",
       "      <td>1.16</td>\n",
       "      <td>1.484</td>\n",
       "      <td>K4III</td>\n",
       "      <td>16.472630</td>\n",
       "      <td>1</td>\n",
       "    </tr>\n",
       "    <tr>\n",
       "      <th>12</th>\n",
       "      <td>8.80</td>\n",
       "      <td>3.49</td>\n",
       "      <td>1.48</td>\n",
       "      <td>1.128</td>\n",
       "      <td>K0III</td>\n",
       "      <td>16.514127</td>\n",
       "      <td>1</td>\n",
       "    </tr>\n",
       "    <tr>\n",
       "      <th>20</th>\n",
       "      <td>8.69</td>\n",
       "      <td>4.47</td>\n",
       "      <td>1.15</td>\n",
       "      <td>0.962</td>\n",
       "      <td>G8/K0III/IV</td>\n",
       "      <td>16.941538</td>\n",
       "      <td>1</td>\n",
       "    </tr>\n",
       "    <tr>\n",
       "      <th>23</th>\n",
       "      <td>6.28</td>\n",
       "      <td>13.74</td>\n",
       "      <td>0.98</td>\n",
       "      <td>0.763</td>\n",
       "      <td>G3IV</td>\n",
       "      <td>16.969934</td>\n",
       "      <td>1</td>\n",
       "    </tr>\n",
       "    <tr>\n",
       "      <th>...</th>\n",
       "      <td>...</td>\n",
       "      <td>...</td>\n",
       "      <td>...</td>\n",
       "      <td>...</td>\n",
       "      <td>...</td>\n",
       "      <td>...</td>\n",
       "      <td>...</td>\n",
       "    </tr>\n",
       "    <tr>\n",
       "      <th>96691</th>\n",
       "      <td>8.05</td>\n",
       "      <td>6.24</td>\n",
       "      <td>1.17</td>\n",
       "      <td>1.157</td>\n",
       "      <td>K2III</td>\n",
       "      <td>17.025923</td>\n",
       "      <td>1</td>\n",
       "    </tr>\n",
       "    <tr>\n",
       "      <th>96696</th>\n",
       "      <td>8.79</td>\n",
       "      <td>0.89</td>\n",
       "      <td>1.28</td>\n",
       "      <td>1.194</td>\n",
       "      <td>K1III</td>\n",
       "      <td>13.536950</td>\n",
       "      <td>1</td>\n",
       "    </tr>\n",
       "    <tr>\n",
       "      <th>96698</th>\n",
       "      <td>8.00</td>\n",
       "      <td>0.41</td>\n",
       "      <td>0.92</td>\n",
       "      <td>0.854</td>\n",
       "      <td>F6Iab</td>\n",
       "      <td>11.063919</td>\n",
       "      <td>1</td>\n",
       "    </tr>\n",
       "    <tr>\n",
       "      <th>96701</th>\n",
       "      <td>7.69</td>\n",
       "      <td>6.60</td>\n",
       "      <td>0.92</td>\n",
       "      <td>1.110</td>\n",
       "      <td>K2III</td>\n",
       "      <td>16.787720</td>\n",
       "      <td>1</td>\n",
       "    </tr>\n",
       "    <tr>\n",
       "      <th>96706</th>\n",
       "      <td>8.51</td>\n",
       "      <td>-1.18</td>\n",
       "      <td>1.34</td>\n",
       "      <td>1.568</td>\n",
       "      <td>K5/M0III</td>\n",
       "      <td>13.869410</td>\n",
       "      <td>1</td>\n",
       "    </tr>\n",
       "  </tbody>\n",
       "</table>\n",
       "<p>26622 rows × 7 columns</p>\n",
       "</div>"
      ],
      "text/plain": [
       "       Vmag    Plx  e_Plx    B-V       SpType       Amag  TargetClass\n",
       "4      8.55   2.87   1.11  0.902        G8III  15.839409            1\n",
       "11     8.43   4.06   1.16  1.484        K4III  16.472630            1\n",
       "12     8.80   3.49   1.48  1.128        K0III  16.514127            1\n",
       "20     8.69   4.47   1.15  0.962  G8/K0III/IV  16.941538            1\n",
       "23     6.28  13.74   0.98  0.763         G3IV  16.969934            1\n",
       "...     ...    ...    ...    ...          ...        ...          ...\n",
       "96691  8.05   6.24   1.17  1.157        K2III  17.025923            1\n",
       "96696  8.79   0.89   1.28  1.194        K1III  13.536950            1\n",
       "96698  8.00   0.41   0.92  0.854        F6Iab  11.063919            1\n",
       "96701  7.69   6.60   0.92  1.110        K2III  16.787720            1\n",
       "96706  8.51  -1.18   1.34  1.568     K5/M0III  13.869410            1\n",
       "\n",
       "[26622 rows x 7 columns]"
      ]
     },
     "execution_count": 23,
     "metadata": {},
     "output_type": "execute_result"
    }
   ],
   "source": [
    "df[ filtro1 ] "
   ]
  },
  {
   "cell_type": "code",
   "execution_count": 24,
   "metadata": {},
   "outputs": [
    {
     "data": {
      "text/html": [
       "<div>\n",
       "<style scoped>\n",
       "    .dataframe tbody tr th:only-of-type {\n",
       "        vertical-align: middle;\n",
       "    }\n",
       "\n",
       "    .dataframe tbody tr th {\n",
       "        vertical-align: top;\n",
       "    }\n",
       "\n",
       "    .dataframe thead th {\n",
       "        text-align: right;\n",
       "    }\n",
       "</style>\n",
       "<table border=\"1\" class=\"dataframe\">\n",
       "  <thead>\n",
       "    <tr style=\"text-align: right;\">\n",
       "      <th></th>\n",
       "      <th>Vmag</th>\n",
       "      <th>Plx</th>\n",
       "      <th>e_Plx</th>\n",
       "      <th>B-V</th>\n",
       "      <th>SpType</th>\n",
       "      <th>Amag</th>\n",
       "      <th>TargetClass</th>\n",
       "    </tr>\n",
       "  </thead>\n",
       "  <tbody>\n",
       "    <tr>\n",
       "      <th>0</th>\n",
       "      <td>9.10</td>\n",
       "      <td>3.54</td>\n",
       "      <td>1.39</td>\n",
       "      <td>0.482</td>\n",
       "      <td>F5</td>\n",
       "      <td>16.845016</td>\n",
       "      <td>9</td>\n",
       "    </tr>\n",
       "    <tr>\n",
       "      <th>1</th>\n",
       "      <td>9.27</td>\n",
       "      <td>21.90</td>\n",
       "      <td>3.10</td>\n",
       "      <td>0.999</td>\n",
       "      <td>K3V</td>\n",
       "      <td>20.972221</td>\n",
       "      <td>0</td>\n",
       "    </tr>\n",
       "    <tr>\n",
       "      <th>2</th>\n",
       "      <td>6.61</td>\n",
       "      <td>2.81</td>\n",
       "      <td>0.63</td>\n",
       "      <td>-0.019</td>\n",
       "      <td>B9</td>\n",
       "      <td>13.853532</td>\n",
       "      <td>9</td>\n",
       "    </tr>\n",
       "    <tr>\n",
       "      <th>3</th>\n",
       "      <td>8.06</td>\n",
       "      <td>7.75</td>\n",
       "      <td>0.97</td>\n",
       "      <td>0.370</td>\n",
       "      <td>F0V</td>\n",
       "      <td>17.506509</td>\n",
       "      <td>0</td>\n",
       "    </tr>\n",
       "    <tr>\n",
       "      <th>5</th>\n",
       "      <td>12.31</td>\n",
       "      <td>18.80</td>\n",
       "      <td>4.99</td>\n",
       "      <td>1.336</td>\n",
       "      <td>M0V:</td>\n",
       "      <td>23.680789</td>\n",
       "      <td>0</td>\n",
       "    </tr>\n",
       "    <tr>\n",
       "      <th>...</th>\n",
       "      <td>...</td>\n",
       "      <td>...</td>\n",
       "      <td>...</td>\n",
       "      <td>...</td>\n",
       "      <td>...</td>\n",
       "      <td>...</td>\n",
       "      <td>...</td>\n",
       "    </tr>\n",
       "    <tr>\n",
       "      <th>96700</th>\n",
       "      <td>7.95</td>\n",
       "      <td>2.04</td>\n",
       "      <td>1.25</td>\n",
       "      <td>0.348</td>\n",
       "      <td>A5</td>\n",
       "      <td>14.498151</td>\n",
       "      <td>9</td>\n",
       "    </tr>\n",
       "    <tr>\n",
       "      <th>96702</th>\n",
       "      <td>7.92</td>\n",
       "      <td>3.93</td>\n",
       "      <td>1.24</td>\n",
       "      <td>0.133</td>\n",
       "      <td>Am...</td>\n",
       "      <td>15.891963</td>\n",
       "      <td>9</td>\n",
       "    </tr>\n",
       "    <tr>\n",
       "      <th>96703</th>\n",
       "      <td>8.72</td>\n",
       "      <td>3.07</td>\n",
       "      <td>0.87</td>\n",
       "      <td>0.097</td>\n",
       "      <td>B3</td>\n",
       "      <td>16.155692</td>\n",
       "      <td>9</td>\n",
       "    </tr>\n",
       "    <tr>\n",
       "      <th>96704</th>\n",
       "      <td>8.08</td>\n",
       "      <td>1.07</td>\n",
       "      <td>0.68</td>\n",
       "      <td>1.094</td>\n",
       "      <td>G5</td>\n",
       "      <td>13.226919</td>\n",
       "      <td>9</td>\n",
       "    </tr>\n",
       "    <tr>\n",
       "      <th>96705</th>\n",
       "      <td>6.98</td>\n",
       "      <td>2.97</td>\n",
       "      <td>0.76</td>\n",
       "      <td>-0.143</td>\n",
       "      <td>B1.5V</td>\n",
       "      <td>14.343782</td>\n",
       "      <td>0</td>\n",
       "    </tr>\n",
       "  </tbody>\n",
       "</table>\n",
       "<p>70085 rows × 7 columns</p>\n",
       "</div>"
      ],
      "text/plain": [
       "        Vmag    Plx  e_Plx    B-V SpType       Amag  TargetClass\n",
       "0       9.10   3.54   1.39  0.482     F5  16.845016            9\n",
       "1       9.27  21.90   3.10  0.999    K3V  20.972221            0\n",
       "2       6.61   2.81   0.63 -0.019     B9  13.853532            9\n",
       "3       8.06   7.75   0.97  0.370    F0V  17.506509            0\n",
       "5      12.31  18.80   4.99  1.336   M0V:  23.680789            0\n",
       "...      ...    ...    ...    ...    ...        ...          ...\n",
       "96700   7.95   2.04   1.25  0.348     A5  14.498151            9\n",
       "96702   7.92   3.93   1.24  0.133  Am...  15.891963            9\n",
       "96703   8.72   3.07   0.87  0.097     B3  16.155692            9\n",
       "96704   8.08   1.07   0.68  1.094     G5  13.226919            9\n",
       "96705   6.98   2.97   0.76 -0.143  B1.5V  14.343782            0\n",
       "\n",
       "[70085 rows x 7 columns]"
      ]
     },
     "execution_count": 24,
     "metadata": {},
     "output_type": "execute_result"
    }
   ],
   "source": [
    "df[ ~filtro1 ]"
   ]
  },
  {
   "cell_type": "markdown",
   "metadata": {},
   "source": [
    "Union"
   ]
  },
  {
   "cell_type": "code",
   "execution_count": 25,
   "metadata": {},
   "outputs": [
    {
     "data": {
      "text/plain": [
       "0        False\n",
       "1        False\n",
       "2        False\n",
       "3        False\n",
       "4         True\n",
       "         ...  \n",
       "96702    False\n",
       "96703    False\n",
       "96704    False\n",
       "96705    False\n",
       "96706     True\n",
       "Length: 96707, dtype: bool"
      ]
     },
     "execution_count": 25,
     "metadata": {},
     "output_type": "execute_result"
    }
   ],
   "source": [
    "filtro1 | filtro2 # Cumplen filtro1 o filtro2"
   ]
  },
  {
   "cell_type": "code",
   "execution_count": 31,
   "metadata": {},
   "outputs": [
    {
     "data": {
      "text/html": [
       "<div>\n",
       "<style scoped>\n",
       "    .dataframe tbody tr th:only-of-type {\n",
       "        vertical-align: middle;\n",
       "    }\n",
       "\n",
       "    .dataframe tbody tr th {\n",
       "        vertical-align: top;\n",
       "    }\n",
       "\n",
       "    .dataframe thead th {\n",
       "        text-align: right;\n",
       "    }\n",
       "</style>\n",
       "<table border=\"1\" class=\"dataframe\">\n",
       "  <thead>\n",
       "    <tr style=\"text-align: right;\">\n",
       "      <th></th>\n",
       "      <th>Vmag</th>\n",
       "      <th>Plx</th>\n",
       "      <th>e_Plx</th>\n",
       "      <th>B-V</th>\n",
       "      <th>SpType</th>\n",
       "      <th>Amag</th>\n",
       "      <th>TargetClass</th>\n",
       "    </tr>\n",
       "  </thead>\n",
       "  <tbody>\n",
       "    <tr>\n",
       "      <th>4</th>\n",
       "      <td>8.55</td>\n",
       "      <td>2.87</td>\n",
       "      <td>1.11</td>\n",
       "      <td>0.902</td>\n",
       "      <td>G8III</td>\n",
       "      <td>15.839409</td>\n",
       "      <td>1</td>\n",
       "    </tr>\n",
       "    <tr>\n",
       "      <th>5</th>\n",
       "      <td>12.31</td>\n",
       "      <td>18.80</td>\n",
       "      <td>4.99</td>\n",
       "      <td>1.336</td>\n",
       "      <td>M0V:</td>\n",
       "      <td>23.680789</td>\n",
       "      <td>0</td>\n",
       "    </tr>\n",
       "    <tr>\n",
       "      <th>11</th>\n",
       "      <td>8.43</td>\n",
       "      <td>4.06</td>\n",
       "      <td>1.16</td>\n",
       "      <td>1.484</td>\n",
       "      <td>K4III</td>\n",
       "      <td>16.472630</td>\n",
       "      <td>1</td>\n",
       "    </tr>\n",
       "    <tr>\n",
       "      <th>12</th>\n",
       "      <td>8.80</td>\n",
       "      <td>3.49</td>\n",
       "      <td>1.48</td>\n",
       "      <td>1.128</td>\n",
       "      <td>K0III</td>\n",
       "      <td>16.514127</td>\n",
       "      <td>1</td>\n",
       "    </tr>\n",
       "    <tr>\n",
       "      <th>16</th>\n",
       "      <td>11.03</td>\n",
       "      <td>19.93</td>\n",
       "      <td>2.36</td>\n",
       "      <td>1.567</td>\n",
       "      <td>K5</td>\n",
       "      <td>22.527536</td>\n",
       "      <td>9</td>\n",
       "    </tr>\n",
       "  </tbody>\n",
       "</table>\n",
       "</div>"
      ],
      "text/plain": [
       "     Vmag    Plx  e_Plx    B-V SpType       Amag  TargetClass\n",
       "4    8.55   2.87   1.11  0.902  G8III  15.839409            1\n",
       "5   12.31  18.80   4.99  1.336   M0V:  23.680789            0\n",
       "11   8.43   4.06   1.16  1.484  K4III  16.472630            1\n",
       "12   8.80   3.49   1.48  1.128  K0III  16.514127            1\n",
       "16  11.03  19.93   2.36  1.567     K5  22.527536            9"
      ]
     },
     "execution_count": 31,
     "metadata": {},
     "output_type": "execute_result"
    }
   ],
   "source": [
    "df[ filtro1 | filtro2 ].head()"
   ]
  },
  {
   "cell_type": "code",
   "execution_count": 28,
   "metadata": {},
   "outputs": [
    {
     "data": {
      "text/plain": [
       "26622"
      ]
     },
     "execution_count": 28,
     "metadata": {},
     "output_type": "execute_result"
    }
   ],
   "source": [
    "len (df[ filtro1 ])"
   ]
  },
  {
   "cell_type": "code",
   "execution_count": 29,
   "metadata": {},
   "outputs": [
    {
     "data": {
      "text/plain": [
       "6027"
      ]
     },
     "execution_count": 29,
     "metadata": {},
     "output_type": "execute_result"
    }
   ],
   "source": [
    "len(df[ filtro2 ])"
   ]
  },
  {
   "cell_type": "code",
   "execution_count": 30,
   "metadata": {},
   "outputs": [
    {
     "data": {
      "text/plain": [
       "32367"
      ]
     },
     "execution_count": 30,
     "metadata": {},
     "output_type": "execute_result"
    }
   ],
   "source": [
    "len(df[ filtro1|filtro2])"
   ]
  },
  {
   "cell_type": "markdown",
   "metadata": {},
   "source": [
    "La cantidad de datos seleccionada por la uniòn de filtros es menor o igual que la suma de las cantidad de datos seleccionados por cada filtro"
   ]
  },
  {
   "cell_type": "code",
   "execution_count": 32,
   "metadata": {},
   "outputs": [
    {
     "data": {
      "text/html": [
       "<div>\n",
       "<style scoped>\n",
       "    .dataframe tbody tr th:only-of-type {\n",
       "        vertical-align: middle;\n",
       "    }\n",
       "\n",
       "    .dataframe tbody tr th {\n",
       "        vertical-align: top;\n",
       "    }\n",
       "\n",
       "    .dataframe thead th {\n",
       "        text-align: right;\n",
       "    }\n",
       "</style>\n",
       "<table border=\"1\" class=\"dataframe\">\n",
       "  <thead>\n",
       "    <tr style=\"text-align: right;\">\n",
       "      <th></th>\n",
       "      <th>Vmag</th>\n",
       "      <th>Plx</th>\n",
       "      <th>e_Plx</th>\n",
       "      <th>B-V</th>\n",
       "      <th>SpType</th>\n",
       "      <th>Amag</th>\n",
       "      <th>TargetClass</th>\n",
       "    </tr>\n",
       "  </thead>\n",
       "  <tbody>\n",
       "    <tr>\n",
       "      <th>1117</th>\n",
       "      <td>10.17</td>\n",
       "      <td>2.69</td>\n",
       "      <td>1.46</td>\n",
       "      <td>0.472</td>\n",
       "      <td>F3IV/V</td>\n",
       "      <td>17.318761</td>\n",
       "      <td>1</td>\n",
       "    </tr>\n",
       "  </tbody>\n",
       "</table>\n",
       "</div>"
      ],
      "text/plain": [
       "       Vmag   Plx  e_Plx    B-V  SpType       Amag  TargetClass\n",
       "1117  10.17  2.69   1.46  0.472  F3IV/V  17.318761            1"
      ]
     },
     "execution_count": 32,
     "metadata": {},
     "output_type": "execute_result"
    }
   ],
   "source": [
    "df.loc[[1117]]"
   ]
  },
  {
   "cell_type": "markdown",
   "metadata": {},
   "source": [
    "Intersección"
   ]
  },
  {
   "cell_type": "code",
   "execution_count": 33,
   "metadata": {},
   "outputs": [
    {
     "data": {
      "text/plain": [
       "0        False\n",
       "1        False\n",
       "2        False\n",
       "3        False\n",
       "4        False\n",
       "         ...  \n",
       "96702    False\n",
       "96703    False\n",
       "96704    False\n",
       "96705    False\n",
       "96706    False\n",
       "Length: 96707, dtype: bool"
      ]
     },
     "execution_count": 33,
     "metadata": {},
     "output_type": "execute_result"
    }
   ],
   "source": [
    "filtro1 & filtro2 # Datos que cumplen con los dos filtros"
   ]
  },
  {
   "cell_type": "code",
   "execution_count": 34,
   "metadata": {},
   "outputs": [
    {
     "data": {
      "text/html": [
       "<div>\n",
       "<style scoped>\n",
       "    .dataframe tbody tr th:only-of-type {\n",
       "        vertical-align: middle;\n",
       "    }\n",
       "\n",
       "    .dataframe tbody tr th {\n",
       "        vertical-align: top;\n",
       "    }\n",
       "\n",
       "    .dataframe thead th {\n",
       "        text-align: right;\n",
       "    }\n",
       "</style>\n",
       "<table border=\"1\" class=\"dataframe\">\n",
       "  <thead>\n",
       "    <tr style=\"text-align: right;\">\n",
       "      <th></th>\n",
       "      <th>Vmag</th>\n",
       "      <th>Plx</th>\n",
       "      <th>e_Plx</th>\n",
       "      <th>B-V</th>\n",
       "      <th>SpType</th>\n",
       "      <th>Amag</th>\n",
       "      <th>TargetClass</th>\n",
       "    </tr>\n",
       "  </thead>\n",
       "  <tbody>\n",
       "    <tr>\n",
       "      <th>1117</th>\n",
       "      <td>10.17</td>\n",
       "      <td>2.69</td>\n",
       "      <td>1.46</td>\n",
       "      <td>0.472</td>\n",
       "      <td>F3IV/V</td>\n",
       "      <td>17.318761</td>\n",
       "      <td>1</td>\n",
       "    </tr>\n",
       "    <tr>\n",
       "      <th>1367</th>\n",
       "      <td>10.40</td>\n",
       "      <td>4.90</td>\n",
       "      <td>1.83</td>\n",
       "      <td>0.708</td>\n",
       "      <td>K3IV</td>\n",
       "      <td>18.850980</td>\n",
       "      <td>1</td>\n",
       "    </tr>\n",
       "    <tr>\n",
       "      <th>1989</th>\n",
       "      <td>10.48</td>\n",
       "      <td>6.16</td>\n",
       "      <td>3.88</td>\n",
       "      <td>0.506</td>\n",
       "      <td>F5/F6IV/V</td>\n",
       "      <td>19.427904</td>\n",
       "      <td>1</td>\n",
       "    </tr>\n",
       "    <tr>\n",
       "      <th>2298</th>\n",
       "      <td>10.90</td>\n",
       "      <td>0.82</td>\n",
       "      <td>1.83</td>\n",
       "      <td>0.469</td>\n",
       "      <td>B6III-IV</td>\n",
       "      <td>15.469069</td>\n",
       "      <td>1</td>\n",
       "    </tr>\n",
       "    <tr>\n",
       "      <th>3803</th>\n",
       "      <td>11.18</td>\n",
       "      <td>3.24</td>\n",
       "      <td>2.04</td>\n",
       "      <td>0.117</td>\n",
       "      <td>A0Ia:</td>\n",
       "      <td>18.732725</td>\n",
       "      <td>1</td>\n",
       "    </tr>\n",
       "    <tr>\n",
       "      <th>...</th>\n",
       "      <td>...</td>\n",
       "      <td>...</td>\n",
       "      <td>...</td>\n",
       "      <td>...</td>\n",
       "      <td>...</td>\n",
       "      <td>...</td>\n",
       "      <td>...</td>\n",
       "    </tr>\n",
       "    <tr>\n",
       "      <th>95066</th>\n",
       "      <td>10.11</td>\n",
       "      <td>5.38</td>\n",
       "      <td>1.75</td>\n",
       "      <td>0.130</td>\n",
       "      <td>B7III</td>\n",
       "      <td>18.763911</td>\n",
       "      <td>1</td>\n",
       "    </tr>\n",
       "    <tr>\n",
       "      <th>95081</th>\n",
       "      <td>11.44</td>\n",
       "      <td>-8.96</td>\n",
       "      <td>3.81</td>\n",
       "      <td>1.750</td>\n",
       "      <td>M5III</td>\n",
       "      <td>21.201540</td>\n",
       "      <td>1</td>\n",
       "    </tr>\n",
       "    <tr>\n",
       "      <th>95220</th>\n",
       "      <td>10.23</td>\n",
       "      <td>-2.37</td>\n",
       "      <td>1.69</td>\n",
       "      <td>0.833</td>\n",
       "      <td>F6Iab</td>\n",
       "      <td>17.103742</td>\n",
       "      <td>1</td>\n",
       "    </tr>\n",
       "    <tr>\n",
       "      <th>96234</th>\n",
       "      <td>10.02</td>\n",
       "      <td>5.41</td>\n",
       "      <td>5.09</td>\n",
       "      <td>1.176</td>\n",
       "      <td>K1III</td>\n",
       "      <td>18.685986</td>\n",
       "      <td>1</td>\n",
       "    </tr>\n",
       "    <tr>\n",
       "      <th>96392</th>\n",
       "      <td>10.43</td>\n",
       "      <td>-1.61</td>\n",
       "      <td>2.06</td>\n",
       "      <td>0.370</td>\n",
       "      <td>F4Ibvar</td>\n",
       "      <td>16.464129</td>\n",
       "      <td>1</td>\n",
       "    </tr>\n",
       "  </tbody>\n",
       "</table>\n",
       "<p>282 rows × 7 columns</p>\n",
       "</div>"
      ],
      "text/plain": [
       "        Vmag   Plx  e_Plx    B-V     SpType       Amag  TargetClass\n",
       "1117   10.17  2.69   1.46  0.472     F3IV/V  17.318761            1\n",
       "1367   10.40  4.90   1.83  0.708       K3IV  18.850980            1\n",
       "1989   10.48  6.16   3.88  0.506  F5/F6IV/V  19.427904            1\n",
       "2298   10.90  0.82   1.83  0.469   B6III-IV  15.469069            1\n",
       "3803   11.18  3.24   2.04  0.117      A0Ia:  18.732725            1\n",
       "...      ...   ...    ...    ...        ...        ...          ...\n",
       "95066  10.11  5.38   1.75  0.130      B7III  18.763911            1\n",
       "95081  11.44 -8.96   3.81  1.750      M5III  21.201540            1\n",
       "95220  10.23 -2.37   1.69  0.833      F6Iab  17.103742            1\n",
       "96234  10.02  5.41   5.09  1.176      K1III  18.685986            1\n",
       "96392  10.43 -1.61   2.06  0.370    F4Ibvar  16.464129            1\n",
       "\n",
       "[282 rows x 7 columns]"
      ]
     },
     "execution_count": 34,
     "metadata": {},
     "output_type": "execute_result"
    }
   ],
   "source": [
    "df[ filtro1 & filtro2 ]"
   ]
  },
  {
   "cell_type": "markdown",
   "metadata": {},
   "source": [
    "Combinaciones de operaciones lógicas entre filtros"
   ]
  },
  {
   "cell_type": "code",
   "execution_count": 36,
   "metadata": {},
   "outputs": [
    {
     "data": {
      "text/html": [
       "<div>\n",
       "<style scoped>\n",
       "    .dataframe tbody tr th:only-of-type {\n",
       "        vertical-align: middle;\n",
       "    }\n",
       "\n",
       "    .dataframe tbody tr th {\n",
       "        vertical-align: top;\n",
       "    }\n",
       "\n",
       "    .dataframe thead th {\n",
       "        text-align: right;\n",
       "    }\n",
       "</style>\n",
       "<table border=\"1\" class=\"dataframe\">\n",
       "  <thead>\n",
       "    <tr style=\"text-align: right;\">\n",
       "      <th></th>\n",
       "      <th>Vmag</th>\n",
       "      <th>Plx</th>\n",
       "      <th>e_Plx</th>\n",
       "      <th>B-V</th>\n",
       "      <th>SpType</th>\n",
       "      <th>Amag</th>\n",
       "      <th>TargetClass</th>\n",
       "    </tr>\n",
       "  </thead>\n",
       "  <tbody>\n",
       "    <tr>\n",
       "      <th>4</th>\n",
       "      <td>8.55</td>\n",
       "      <td>2.87</td>\n",
       "      <td>1.11</td>\n",
       "      <td>0.902</td>\n",
       "      <td>G8III</td>\n",
       "      <td>15.839409</td>\n",
       "      <td>1</td>\n",
       "    </tr>\n",
       "    <tr>\n",
       "      <th>11</th>\n",
       "      <td>8.43</td>\n",
       "      <td>4.06</td>\n",
       "      <td>1.16</td>\n",
       "      <td>1.484</td>\n",
       "      <td>K4III</td>\n",
       "      <td>16.472630</td>\n",
       "      <td>1</td>\n",
       "    </tr>\n",
       "    <tr>\n",
       "      <th>12</th>\n",
       "      <td>8.80</td>\n",
       "      <td>3.49</td>\n",
       "      <td>1.48</td>\n",
       "      <td>1.128</td>\n",
       "      <td>K0III</td>\n",
       "      <td>16.514127</td>\n",
       "      <td>1</td>\n",
       "    </tr>\n",
       "    <tr>\n",
       "      <th>20</th>\n",
       "      <td>8.69</td>\n",
       "      <td>4.47</td>\n",
       "      <td>1.15</td>\n",
       "      <td>0.962</td>\n",
       "      <td>G8/K0III/IV</td>\n",
       "      <td>16.941538</td>\n",
       "      <td>1</td>\n",
       "    </tr>\n",
       "    <tr>\n",
       "      <th>23</th>\n",
       "      <td>6.28</td>\n",
       "      <td>13.74</td>\n",
       "      <td>0.98</td>\n",
       "      <td>0.763</td>\n",
       "      <td>G3IV</td>\n",
       "      <td>16.969934</td>\n",
       "      <td>1</td>\n",
       "    </tr>\n",
       "    <tr>\n",
       "      <th>...</th>\n",
       "      <td>...</td>\n",
       "      <td>...</td>\n",
       "      <td>...</td>\n",
       "      <td>...</td>\n",
       "      <td>...</td>\n",
       "      <td>...</td>\n",
       "      <td>...</td>\n",
       "    </tr>\n",
       "    <tr>\n",
       "      <th>96691</th>\n",
       "      <td>8.05</td>\n",
       "      <td>6.24</td>\n",
       "      <td>1.17</td>\n",
       "      <td>1.157</td>\n",
       "      <td>K2III</td>\n",
       "      <td>17.025923</td>\n",
       "      <td>1</td>\n",
       "    </tr>\n",
       "    <tr>\n",
       "      <th>96696</th>\n",
       "      <td>8.79</td>\n",
       "      <td>0.89</td>\n",
       "      <td>1.28</td>\n",
       "      <td>1.194</td>\n",
       "      <td>K1III</td>\n",
       "      <td>13.536950</td>\n",
       "      <td>1</td>\n",
       "    </tr>\n",
       "    <tr>\n",
       "      <th>96698</th>\n",
       "      <td>8.00</td>\n",
       "      <td>0.41</td>\n",
       "      <td>0.92</td>\n",
       "      <td>0.854</td>\n",
       "      <td>F6Iab</td>\n",
       "      <td>11.063919</td>\n",
       "      <td>1</td>\n",
       "    </tr>\n",
       "    <tr>\n",
       "      <th>96701</th>\n",
       "      <td>7.69</td>\n",
       "      <td>6.60</td>\n",
       "      <td>0.92</td>\n",
       "      <td>1.110</td>\n",
       "      <td>K2III</td>\n",
       "      <td>16.787720</td>\n",
       "      <td>1</td>\n",
       "    </tr>\n",
       "    <tr>\n",
       "      <th>96706</th>\n",
       "      <td>8.51</td>\n",
       "      <td>-1.18</td>\n",
       "      <td>1.34</td>\n",
       "      <td>1.568</td>\n",
       "      <td>K5/M0III</td>\n",
       "      <td>13.869410</td>\n",
       "      <td>1</td>\n",
       "    </tr>\n",
       "  </tbody>\n",
       "</table>\n",
       "<p>26340 rows × 7 columns</p>\n",
       "</div>"
      ],
      "text/plain": [
       "       Vmag    Plx  e_Plx    B-V       SpType       Amag  TargetClass\n",
       "4      8.55   2.87   1.11  0.902        G8III  15.839409            1\n",
       "11     8.43   4.06   1.16  1.484        K4III  16.472630            1\n",
       "12     8.80   3.49   1.48  1.128        K0III  16.514127            1\n",
       "20     8.69   4.47   1.15  0.962  G8/K0III/IV  16.941538            1\n",
       "23     6.28  13.74   0.98  0.763         G3IV  16.969934            1\n",
       "...     ...    ...    ...    ...          ...        ...          ...\n",
       "96691  8.05   6.24   1.17  1.157        K2III  17.025923            1\n",
       "96696  8.79   0.89   1.28  1.194        K1III  13.536950            1\n",
       "96698  8.00   0.41   0.92  0.854        F6Iab  11.063919            1\n",
       "96701  7.69   6.60   0.92  1.110        K2III  16.787720            1\n",
       "96706  8.51  -1.18   1.34  1.568     K5/M0III  13.869410            1\n",
       "\n",
       "[26340 rows x 7 columns]"
      ]
     },
     "execution_count": 36,
     "metadata": {},
     "output_type": "execute_result"
    }
   ],
   "source": [
    "df[ filtro1 & (~filtro2) ] #Cumple filtro1 y no cumpl filtro2"
   ]
  },
  {
   "cell_type": "markdown",
   "metadata": {},
   "source": [
    "### Continuacion de ejercicio de muestreo"
   ]
  },
  {
   "cell_type": "code",
   "execution_count": 38,
   "metadata": {},
   "outputs": [
    {
     "data": {
      "text/plain": [
       "TargetClass\n",
       "1    26622\n",
       "0    20875\n",
       "Name: count, dtype: int64"
      ]
     },
     "execution_count": 38,
     "metadata": {},
     "output_type": "execute_result"
    }
   ],
   "source": [
    "df0.TargetClass.value_counts()"
   ]
  },
  {
   "cell_type": "code",
   "execution_count": 39,
   "metadata": {},
   "outputs": [
    {
     "data": {
      "image/png": "[encoded data removed]",
      "text/plain": [
       "<Figure size 640x480 with 1 Axes>"
      ]
     },
     "metadata": {},
     "output_type": "display_data"
    }
   ],
   "source": [
    "sns.countplot(x = df0.TargetClass)\n",
    "plt.show()"
   ]
  },
  {
   "cell_type": "code",
   "execution_count": 43,
   "metadata": {},
   "outputs": [
    {
     "name": "stdout",
     "output_type": "stream",
     "text": [
      "<class 'pandas.core.frame.DataFrame'>\n",
      "Index: 20875 entries, 1 to 96705\n",
      "Data columns (total 7 columns):\n",
      " #   Column       Non-Null Count  Dtype  \n",
      "---  ------       --------------  -----  \n",
      " 0   Vmag         20875 non-null  float64\n",
      " 1   Plx          20875 non-null  float64\n",
      " 2   e_Plx        20875 non-null  float64\n",
      " 3   B-V          20875 non-null  float64\n",
      " 4   SpType       20875 non-null  object \n",
      " 5   Amag         20875 non-null  float64\n",
      " 6   TargetClass  20875 non-null  int64  \n",
      "dtypes: float64(5), int64(1), object(1)\n",
      "memory usage: 1.3+ MB\n"
     ]
    }
   ],
   "source": [
    "df_enanas = df[ df.TargetClass == 0 ]\n",
    "df_enanas.info()"
   ]
  },
  {
   "cell_type": "code",
   "execution_count": 44,
   "metadata": {},
   "outputs": [
    {
     "name": "stdout",
     "output_type": "stream",
     "text": [
      "<class 'pandas.core.frame.DataFrame'>\n",
      "Index: 26622 entries, 4 to 96706\n",
      "Data columns (total 7 columns):\n",
      " #   Column       Non-Null Count  Dtype  \n",
      "---  ------       --------------  -----  \n",
      " 0   Vmag         26622 non-null  float64\n",
      " 1   Plx          26622 non-null  float64\n",
      " 2   e_Plx        26622 non-null  float64\n",
      " 3   B-V          26622 non-null  float64\n",
      " 4   SpType       26622 non-null  object \n",
      " 5   Amag         26622 non-null  float64\n",
      " 6   TargetClass  26622 non-null  int64  \n",
      "dtypes: float64(5), int64(1), object(1)\n",
      "memory usage: 1.6+ MB\n"
     ]
    }
   ],
   "source": [
    "df_gigantes = df[ df.TargetClass == 1 ]\n",
    "df_gigantes.info()"
   ]
  },
  {
   "cell_type": "markdown",
   "metadata": {},
   "source": [
    "Muestreo:\n",
    "Se importa la librería sklearn"
   ]
  },
  {
   "cell_type": "code",
   "execution_count": 46,
   "metadata": {},
   "outputs": [],
   "source": [
    "from sklearn.utils import resample # Mejor librería para machine learning"
   ]
  },
  {
   "cell_type": "code",
   "execution_count": 51,
   "metadata": {},
   "outputs": [
    {
     "data": {
      "text/html": [
       "<div>\n",
       "<style scoped>\n",
       "    .dataframe tbody tr th:only-of-type {\n",
       "        vertical-align: middle;\n",
       "    }\n",
       "\n",
       "    .dataframe tbody tr th {\n",
       "        vertical-align: top;\n",
       "    }\n",
       "\n",
       "    .dataframe thead th {\n",
       "        text-align: right;\n",
       "    }\n",
       "</style>\n",
       "<table border=\"1\" class=\"dataframe\">\n",
       "  <thead>\n",
       "    <tr style=\"text-align: right;\">\n",
       "      <th></th>\n",
       "      <th>Vmag</th>\n",
       "      <th>Plx</th>\n",
       "      <th>e_Plx</th>\n",
       "      <th>B-V</th>\n",
       "      <th>SpType</th>\n",
       "      <th>Amag</th>\n",
       "      <th>TargetClass</th>\n",
       "    </tr>\n",
       "  </thead>\n",
       "  <tbody>\n",
       "    <tr>\n",
       "      <th>95249</th>\n",
       "      <td>8.68</td>\n",
       "      <td>5.39</td>\n",
       "      <td>1.17</td>\n",
       "      <td>1.184</td>\n",
       "      <td>K1III</td>\n",
       "      <td>17.337944</td>\n",
       "      <td>1</td>\n",
       "    </tr>\n",
       "    <tr>\n",
       "      <th>84313</th>\n",
       "      <td>7.02</td>\n",
       "      <td>10.08</td>\n",
       "      <td>0.96</td>\n",
       "      <td>1.111</td>\n",
       "      <td>K1III</td>\n",
       "      <td>17.037303</td>\n",
       "      <td>1</td>\n",
       "    </tr>\n",
       "    <tr>\n",
       "      <th>88869</th>\n",
       "      <td>9.00</td>\n",
       "      <td>3.53</td>\n",
       "      <td>1.35</td>\n",
       "      <td>1.017</td>\n",
       "      <td>G8/K0III</td>\n",
       "      <td>16.738874</td>\n",
       "      <td>1</td>\n",
       "    </tr>\n",
       "  </tbody>\n",
       "</table>\n",
       "</div>"
      ],
      "text/plain": [
       "       Vmag    Plx  e_Plx    B-V    SpType       Amag  TargetClass\n",
       "95249  8.68   5.39   1.17  1.184     K1III  17.337944            1\n",
       "84313  7.02  10.08   0.96  1.111     K1III  17.037303            1\n",
       "88869  9.00   3.53   1.35  1.017  G8/K0III  16.738874            1"
      ]
     },
     "execution_count": 51,
     "metadata": {},
     "output_type": "execute_result"
    }
   ],
   "source": [
    "resample (df_gigantes,\n",
    "          replace = False, # Muestreo sin reemplazo\n",
    "          n_samples= 3,\n",
    "          random_state= 100 #En esta libreria el random_state es la semilla\n",
    "          )"
   ]
  },
  {
   "cell_type": "code",
   "execution_count": 52,
   "metadata": {},
   "outputs": [
    {
     "data": {
      "text/plain": [
       "20875"
      ]
     },
     "execution_count": 52,
     "metadata": {},
     "output_type": "execute_result"
    }
   ],
   "source": [
    "len(df_enanas)"
   ]
  },
  {
   "cell_type": "code",
   "execution_count": 55,
   "metadata": {},
   "outputs": [
    {
     "data": {
      "text/html": [
       "<div>\n",
       "<style scoped>\n",
       "    .dataframe tbody tr th:only-of-type {\n",
       "        vertical-align: middle;\n",
       "    }\n",
       "\n",
       "    .dataframe tbody tr th {\n",
       "        vertical-align: top;\n",
       "    }\n",
       "\n",
       "    .dataframe thead th {\n",
       "        text-align: right;\n",
       "    }\n",
       "</style>\n",
       "<table border=\"1\" class=\"dataframe\">\n",
       "  <thead>\n",
       "    <tr style=\"text-align: right;\">\n",
       "      <th></th>\n",
       "      <th>Vmag</th>\n",
       "      <th>Plx</th>\n",
       "      <th>e_Plx</th>\n",
       "      <th>B-V</th>\n",
       "      <th>SpType</th>\n",
       "      <th>Amag</th>\n",
       "      <th>TargetClass</th>\n",
       "    </tr>\n",
       "  </thead>\n",
       "  <tbody>\n",
       "    <tr>\n",
       "      <th>77481</th>\n",
       "      <td>5.32</td>\n",
       "      <td>5.86</td>\n",
       "      <td>0.95</td>\n",
       "      <td>-0.047</td>\n",
       "      <td>B6IV</td>\n",
       "      <td>14.159488</td>\n",
       "      <td>1</td>\n",
       "    </tr>\n",
       "    <tr>\n",
       "      <th>91080</th>\n",
       "      <td>5.13</td>\n",
       "      <td>9.57</td>\n",
       "      <td>0.47</td>\n",
       "      <td>1.008</td>\n",
       "      <td>G8III</td>\n",
       "      <td>15.034560</td>\n",
       "      <td>1</td>\n",
       "    </tr>\n",
       "    <tr>\n",
       "      <th>8750</th>\n",
       "      <td>4.92</td>\n",
       "      <td>8.18</td>\n",
       "      <td>0.85</td>\n",
       "      <td>1.434</td>\n",
       "      <td>K3III</td>\n",
       "      <td>14.483767</td>\n",
       "      <td>1</td>\n",
       "    </tr>\n",
       "    <tr>\n",
       "      <th>30013</th>\n",
       "      <td>8.30</td>\n",
       "      <td>2.96</td>\n",
       "      <td>1.27</td>\n",
       "      <td>1.064</td>\n",
       "      <td>G8II</td>\n",
       "      <td>15.656459</td>\n",
       "      <td>1</td>\n",
       "    </tr>\n",
       "    <tr>\n",
       "      <th>89649</th>\n",
       "      <td>5.29</td>\n",
       "      <td>13.06</td>\n",
       "      <td>0.54</td>\n",
       "      <td>1.304</td>\n",
       "      <td>K3III</td>\n",
       "      <td>15.869716</td>\n",
       "      <td>1</td>\n",
       "    </tr>\n",
       "  </tbody>\n",
       "</table>\n",
       "</div>"
      ],
      "text/plain": [
       "       Vmag    Plx  e_Plx    B-V SpType       Amag  TargetClass\n",
       "77481  5.32   5.86   0.95 -0.047   B6IV  14.159488            1\n",
       "91080  5.13   9.57   0.47  1.008  G8III  15.034560            1\n",
       "8750   4.92   8.18   0.85  1.434  K3III  14.483767            1\n",
       "30013  8.30   2.96   1.27  1.064   G8II  15.656459            1\n",
       "89649  5.29  13.06   0.54  1.304  K3III  15.869716            1"
      ]
     },
     "execution_count": 55,
     "metadata": {},
     "output_type": "execute_result"
    }
   ],
   "source": [
    "df_gigantes_muestra = resample (df_gigantes,\n",
    "                                replace = False, # Muestreo sin reemplazo\n",
    "                                n_samples= len(df_enanas),\n",
    "                                random_state= 42 # En esta libreria el random_state es la semilla\n",
    "                                )\n",
    "df_gigantes_muestra.head()"
   ]
  },
  {
   "cell_type": "code",
   "execution_count": 56,
   "metadata": {},
   "outputs": [
    {
     "data": {
      "text/html": [
       "<div>\n",
       "<style scoped>\n",
       "    .dataframe tbody tr th:only-of-type {\n",
       "        vertical-align: middle;\n",
       "    }\n",
       "\n",
       "    .dataframe tbody tr th {\n",
       "        vertical-align: top;\n",
       "    }\n",
       "\n",
       "    .dataframe thead th {\n",
       "        text-align: right;\n",
       "    }\n",
       "</style>\n",
       "<table border=\"1\" class=\"dataframe\">\n",
       "  <thead>\n",
       "    <tr style=\"text-align: right;\">\n",
       "      <th></th>\n",
       "      <th>Vmag</th>\n",
       "      <th>Plx</th>\n",
       "      <th>e_Plx</th>\n",
       "      <th>B-V</th>\n",
       "      <th>Amag</th>\n",
       "      <th>TargetClass</th>\n",
       "    </tr>\n",
       "  </thead>\n",
       "  <tbody>\n",
       "    <tr>\n",
       "      <th>count</th>\n",
       "      <td>20875.000000</td>\n",
       "      <td>20875.000000</td>\n",
       "      <td>20875.000000</td>\n",
       "      <td>20875.000000</td>\n",
       "      <td>20875.000000</td>\n",
       "      <td>20875.0</td>\n",
       "    </tr>\n",
       "    <tr>\n",
       "      <th>mean</th>\n",
       "      <td>7.739981</td>\n",
       "      <td>4.872711</td>\n",
       "      <td>1.026972</td>\n",
       "      <td>0.903299</td>\n",
       "      <td>15.253844</td>\n",
       "      <td>1.0</td>\n",
       "    </tr>\n",
       "    <tr>\n",
       "      <th>std</th>\n",
       "      <td>1.298236</td>\n",
       "      <td>6.049369</td>\n",
       "      <td>0.547897</td>\n",
       "      <td>0.518114</td>\n",
       "      <td>2.125606</td>\n",
       "      <td>0.0</td>\n",
       "    </tr>\n",
       "    <tr>\n",
       "      <th>min</th>\n",
       "      <td>-0.620000</td>\n",
       "      <td>-25.800000</td>\n",
       "      <td>0.420000</td>\n",
       "      <td>-0.400000</td>\n",
       "      <td>-0.350000</td>\n",
       "      <td>1.0</td>\n",
       "    </tr>\n",
       "    <tr>\n",
       "      <th>25%</th>\n",
       "      <td>7.030000</td>\n",
       "      <td>1.990000</td>\n",
       "      <td>0.780000</td>\n",
       "      <td>0.458000</td>\n",
       "      <td>14.320378</td>\n",
       "      <td>1.0</td>\n",
       "    </tr>\n",
       "    <tr>\n",
       "      <th>50%</th>\n",
       "      <td>7.990000</td>\n",
       "      <td>3.500000</td>\n",
       "      <td>0.950000</td>\n",
       "      <td>1.018000</td>\n",
       "      <td>15.528732</td>\n",
       "      <td>1.0</td>\n",
       "    </tr>\n",
       "    <tr>\n",
       "      <th>75%</th>\n",
       "      <td>8.670000</td>\n",
       "      <td>5.830000</td>\n",
       "      <td>1.160000</td>\n",
       "      <td>1.254000</td>\n",
       "      <td>16.472476</td>\n",
       "      <td>1.0</td>\n",
       "    </tr>\n",
       "    <tr>\n",
       "      <th>max</th>\n",
       "      <td>12.850000</td>\n",
       "      <td>194.440000</td>\n",
       "      <td>22.220000</td>\n",
       "      <td>3.440000</td>\n",
       "      <td>23.550968</td>\n",
       "      <td>1.0</td>\n",
       "    </tr>\n",
       "  </tbody>\n",
       "</table>\n",
       "</div>"
      ],
      "text/plain": [
       "               Vmag           Plx         e_Plx           B-V          Amag  \\\n",
       "count  20875.000000  20875.000000  20875.000000  20875.000000  20875.000000   \n",
       "mean       7.739981      4.872711      1.026972      0.903299     15.253844   \n",
       "std        1.298236      6.049369      0.547897      0.518114      2.125606   \n",
       "min       -0.620000    -25.800000      0.420000     -0.400000     -0.350000   \n",
       "25%        7.030000      1.990000      0.780000      0.458000     14.320378   \n",
       "50%        7.990000      3.500000      0.950000      1.018000     15.528732   \n",
       "75%        8.670000      5.830000      1.160000      1.254000     16.472476   \n",
       "max       12.850000    194.440000     22.220000      3.440000     23.550968   \n",
       "\n",
       "       TargetClass  \n",
       "count      20875.0  \n",
       "mean           1.0  \n",
       "std            0.0  \n",
       "min            1.0  \n",
       "25%            1.0  \n",
       "50%            1.0  \n",
       "75%            1.0  \n",
       "max            1.0  "
      ]
     },
     "execution_count": 56,
     "metadata": {},
     "output_type": "execute_result"
    }
   ],
   "source": [
    "df_gigantes_muestra.describe()"
   ]
  },
  {
   "cell_type": "code",
   "execution_count": 57,
   "metadata": {},
   "outputs": [
    {
     "data": {
      "text/html": [
       "<div>\n",
       "<style scoped>\n",
       "    .dataframe tbody tr th:only-of-type {\n",
       "        vertical-align: middle;\n",
       "    }\n",
       "\n",
       "    .dataframe tbody tr th {\n",
       "        vertical-align: top;\n",
       "    }\n",
       "\n",
       "    .dataframe thead th {\n",
       "        text-align: right;\n",
       "    }\n",
       "</style>\n",
       "<table border=\"1\" class=\"dataframe\">\n",
       "  <thead>\n",
       "    <tr style=\"text-align: right;\">\n",
       "      <th></th>\n",
       "      <th>Vmag</th>\n",
       "      <th>Plx</th>\n",
       "      <th>e_Plx</th>\n",
       "      <th>B-V</th>\n",
       "      <th>Amag</th>\n",
       "      <th>TargetClass</th>\n",
       "    </tr>\n",
       "  </thead>\n",
       "  <tbody>\n",
       "    <tr>\n",
       "      <th>count</th>\n",
       "      <td>26622.000000</td>\n",
       "      <td>26622.000000</td>\n",
       "      <td>26622.000000</td>\n",
       "      <td>26622.000000</td>\n",
       "      <td>26622.000000</td>\n",
       "      <td>26622.0</td>\n",
       "    </tr>\n",
       "    <tr>\n",
       "      <th>mean</th>\n",
       "      <td>7.749472</td>\n",
       "      <td>4.843665</td>\n",
       "      <td>1.029006</td>\n",
       "      <td>0.902289</td>\n",
       "      <td>15.252579</td>\n",
       "      <td>1.0</td>\n",
       "    </tr>\n",
       "    <tr>\n",
       "      <th>std</th>\n",
       "      <td>1.291381</td>\n",
       "      <td>6.163127</td>\n",
       "      <td>0.541108</td>\n",
       "      <td>0.518859</td>\n",
       "      <td>2.119600</td>\n",
       "      <td>0.0</td>\n",
       "    </tr>\n",
       "    <tr>\n",
       "      <th>min</th>\n",
       "      <td>-0.620000</td>\n",
       "      <td>-25.800000</td>\n",
       "      <td>0.420000</td>\n",
       "      <td>-0.400000</td>\n",
       "      <td>-0.350000</td>\n",
       "      <td>1.0</td>\n",
       "    </tr>\n",
       "    <tr>\n",
       "      <th>25%</th>\n",
       "      <td>7.050000</td>\n",
       "      <td>1.970000</td>\n",
       "      <td>0.780000</td>\n",
       "      <td>0.454000</td>\n",
       "      <td>14.315549</td>\n",
       "      <td>1.0</td>\n",
       "    </tr>\n",
       "    <tr>\n",
       "      <th>50%</th>\n",
       "      <td>7.990000</td>\n",
       "      <td>3.480000</td>\n",
       "      <td>0.950000</td>\n",
       "      <td>1.019000</td>\n",
       "      <td>15.525421</td>\n",
       "      <td>1.0</td>\n",
       "    </tr>\n",
       "    <tr>\n",
       "      <th>75%</th>\n",
       "      <td>8.670000</td>\n",
       "      <td>5.800000</td>\n",
       "      <td>1.170000</td>\n",
       "      <td>1.253000</td>\n",
       "      <td>16.466942</td>\n",
       "      <td>1.0</td>\n",
       "    </tr>\n",
       "    <tr>\n",
       "      <th>max</th>\n",
       "      <td>12.850000</td>\n",
       "      <td>285.930000</td>\n",
       "      <td>22.220000</td>\n",
       "      <td>3.440000</td>\n",
       "      <td>23.550968</td>\n",
       "      <td>1.0</td>\n",
       "    </tr>\n",
       "  </tbody>\n",
       "</table>\n",
       "</div>"
      ],
      "text/plain": [
       "               Vmag           Plx         e_Plx           B-V          Amag  \\\n",
       "count  26622.000000  26622.000000  26622.000000  26622.000000  26622.000000   \n",
       "mean       7.749472      4.843665      1.029006      0.902289     15.252579   \n",
       "std        1.291381      6.163127      0.541108      0.518859      2.119600   \n",
       "min       -0.620000    -25.800000      0.420000     -0.400000     -0.350000   \n",
       "25%        7.050000      1.970000      0.780000      0.454000     14.315549   \n",
       "50%        7.990000      3.480000      0.950000      1.019000     15.525421   \n",
       "75%        8.670000      5.800000      1.170000      1.253000     16.466942   \n",
       "max       12.850000    285.930000     22.220000      3.440000     23.550968   \n",
       "\n",
       "       TargetClass  \n",
       "count      26622.0  \n",
       "mean           1.0  \n",
       "std            0.0  \n",
       "min            1.0  \n",
       "25%            1.0  \n",
       "50%            1.0  \n",
       "75%            1.0  \n",
       "max            1.0  "
      ]
     },
     "execution_count": 57,
     "metadata": {},
     "output_type": "execute_result"
    }
   ],
   "source": [
    "df_gigantes.describe()"
   ]
  },
  {
   "cell_type": "code",
   "execution_count": 58,
   "metadata": {},
   "outputs": [
    {
     "data": {
      "text/plain": [
       "Index(['Vmag', 'Plx', 'e_Plx', 'B-V', 'SpType', 'Amag', 'TargetClass'], dtype='object')"
      ]
     },
     "execution_count": 58,
     "metadata": {},
     "output_type": "execute_result"
    }
   ],
   "source": [
    "df_enanas.columns"
   ]
  },
  {
   "cell_type": "code",
   "execution_count": 59,
   "metadata": {},
   "outputs": [
    {
     "data": {
      "text/plain": [
       "Index(['Vmag', 'Plx', 'e_Plx', 'B-V', 'SpType', 'Amag', 'TargetClass'], dtype='object')"
      ]
     },
     "execution_count": 59,
     "metadata": {},
     "output_type": "execute_result"
    }
   ],
   "source": [
    "df_gigantes_muestra.columns"
   ]
  },
  {
   "cell_type": "code",
   "execution_count": 62,
   "metadata": {},
   "outputs": [
    {
     "name": "stdout",
     "output_type": "stream",
     "text": [
      "<class 'pandas.core.frame.DataFrame'>\n",
      "Index: 41750 entries, 1 to 11822\n",
      "Data columns (total 7 columns):\n",
      " #   Column       Non-Null Count  Dtype  \n",
      "---  ------       --------------  -----  \n",
      " 0   Vmag         41750 non-null  float64\n",
      " 1   Plx          41750 non-null  float64\n",
      " 2   e_Plx        41750 non-null  float64\n",
      " 3   B-V          41750 non-null  float64\n",
      " 4   SpType       41750 non-null  object \n",
      " 5   Amag         41750 non-null  float64\n",
      " 6   TargetClass  41750 non-null  int64  \n",
      "dtypes: float64(5), int64(1), object(1)\n",
      "memory usage: 2.5+ MB\n"
     ]
    }
   ],
   "source": [
    "df_muestra = pd.concat([ df_enanas, df_gigantes_muestra ])\n",
    "df_muestra.info()"
   ]
  },
  {
   "cell_type": "markdown",
   "metadata": {},
   "source": [
    "En *machine learning* el proceso que se està realizando de tener igual tamaño de los conjuntos se denomina **balanceo de datos**"
   ]
  },
  {
   "cell_type": "code",
   "execution_count": 74,
   "metadata": {},
   "outputs": [],
   "source": [
    "# Barajar las filas para que queden en posiciones diferentes\n",
    "df_muestra = df_muestra.sample( frac= 1 ).reset_index(drop = True)"
   ]
  },
  {
   "cell_type": "code",
   "execution_count": 75,
   "metadata": {},
   "outputs": [
    {
     "data": {
      "text/html": [
       "<div>\n",
       "<style scoped>\n",
       "    .dataframe tbody tr th:only-of-type {\n",
       "        vertical-align: middle;\n",
       "    }\n",
       "\n",
       "    .dataframe tbody tr th {\n",
       "        vertical-align: top;\n",
       "    }\n",
       "\n",
       "    .dataframe thead th {\n",
       "        text-align: right;\n",
       "    }\n",
       "</style>\n",
       "<table border=\"1\" class=\"dataframe\">\n",
       "  <thead>\n",
       "    <tr style=\"text-align: right;\">\n",
       "      <th></th>\n",
       "      <th>Vmag</th>\n",
       "      <th>Plx</th>\n",
       "      <th>e_Plx</th>\n",
       "      <th>B-V</th>\n",
       "      <th>SpType</th>\n",
       "      <th>Amag</th>\n",
       "      <th>TargetClass</th>\n",
       "    </tr>\n",
       "  </thead>\n",
       "  <tbody>\n",
       "    <tr>\n",
       "      <th>0</th>\n",
       "      <td>8.79</td>\n",
       "      <td>2.51</td>\n",
       "      <td>1.22</td>\n",
       "      <td>1.140</td>\n",
       "      <td>K2III</td>\n",
       "      <td>15.788369</td>\n",
       "      <td>1</td>\n",
       "    </tr>\n",
       "    <tr>\n",
       "      <th>1</th>\n",
       "      <td>9.25</td>\n",
       "      <td>19.52</td>\n",
       "      <td>0.83</td>\n",
       "      <td>0.831</td>\n",
       "      <td>K2V</td>\n",
       "      <td>20.702399</td>\n",
       "      <td>0</td>\n",
       "    </tr>\n",
       "    <tr>\n",
       "      <th>2</th>\n",
       "      <td>10.19</td>\n",
       "      <td>4.11</td>\n",
       "      <td>2.74</td>\n",
       "      <td>2.570</td>\n",
       "      <td>CVIIe</td>\n",
       "      <td>18.259209</td>\n",
       "      <td>0</td>\n",
       "    </tr>\n",
       "    <tr>\n",
       "      <th>3</th>\n",
       "      <td>9.15</td>\n",
       "      <td>7.22</td>\n",
       "      <td>1.70</td>\n",
       "      <td>0.552</td>\n",
       "      <td>F7V</td>\n",
       "      <td>18.442686</td>\n",
       "      <td>0</td>\n",
       "    </tr>\n",
       "    <tr>\n",
       "      <th>4</th>\n",
       "      <td>7.25</td>\n",
       "      <td>6.82</td>\n",
       "      <td>0.87</td>\n",
       "      <td>1.029</td>\n",
       "      <td>G8IV</td>\n",
       "      <td>16.418922</td>\n",
       "      <td>1</td>\n",
       "    </tr>\n",
       "    <tr>\n",
       "      <th>...</th>\n",
       "      <td>...</td>\n",
       "      <td>...</td>\n",
       "      <td>...</td>\n",
       "      <td>...</td>\n",
       "      <td>...</td>\n",
       "      <td>...</td>\n",
       "      <td>...</td>\n",
       "    </tr>\n",
       "    <tr>\n",
       "      <th>41745</th>\n",
       "      <td>7.68</td>\n",
       "      <td>19.22</td>\n",
       "      <td>1.17</td>\n",
       "      <td>0.544</td>\n",
       "      <td>F7V</td>\n",
       "      <td>19.098767</td>\n",
       "      <td>0</td>\n",
       "    </tr>\n",
       "    <tr>\n",
       "      <th>41746</th>\n",
       "      <td>9.08</td>\n",
       "      <td>7.62</td>\n",
       "      <td>2.80</td>\n",
       "      <td>0.511</td>\n",
       "      <td>F5V</td>\n",
       "      <td>18.489775</td>\n",
       "      <td>0</td>\n",
       "    </tr>\n",
       "    <tr>\n",
       "      <th>41747</th>\n",
       "      <td>6.16</td>\n",
       "      <td>9.24</td>\n",
       "      <td>0.51</td>\n",
       "      <td>1.006</td>\n",
       "      <td>K1III</td>\n",
       "      <td>15.988360</td>\n",
       "      <td>1</td>\n",
       "    </tr>\n",
       "    <tr>\n",
       "      <th>41748</th>\n",
       "      <td>9.83</td>\n",
       "      <td>8.86</td>\n",
       "      <td>1.53</td>\n",
       "      <td>0.814</td>\n",
       "      <td>G8III</td>\n",
       "      <td>19.567169</td>\n",
       "      <td>1</td>\n",
       "    </tr>\n",
       "    <tr>\n",
       "      <th>41749</th>\n",
       "      <td>8.59</td>\n",
       "      <td>1.83</td>\n",
       "      <td>1.27</td>\n",
       "      <td>1.120</td>\n",
       "      <td>K0III</td>\n",
       "      <td>14.902255</td>\n",
       "      <td>1</td>\n",
       "    </tr>\n",
       "  </tbody>\n",
       "</table>\n",
       "<p>41750 rows × 7 columns</p>\n",
       "</div>"
      ],
      "text/plain": [
       "        Vmag    Plx  e_Plx    B-V SpType       Amag  TargetClass\n",
       "0       8.79   2.51   1.22  1.140  K2III  15.788369            1\n",
       "1       9.25  19.52   0.83  0.831    K2V  20.702399            0\n",
       "2      10.19   4.11   2.74  2.570  CVIIe  18.259209            0\n",
       "3       9.15   7.22   1.70  0.552    F7V  18.442686            0\n",
       "4       7.25   6.82   0.87  1.029   G8IV  16.418922            1\n",
       "...      ...    ...    ...    ...    ...        ...          ...\n",
       "41745   7.68  19.22   1.17  0.544    F7V  19.098767            0\n",
       "41746   9.08   7.62   2.80  0.511    F5V  18.489775            0\n",
       "41747   6.16   9.24   0.51  1.006  K1III  15.988360            1\n",
       "41748   9.83   8.86   1.53  0.814  G8III  19.567169            1\n",
       "41749   8.59   1.83   1.27  1.120  K0III  14.902255            1\n",
       "\n",
       "[41750 rows x 7 columns]"
      ]
     },
     "execution_count": 75,
     "metadata": {},
     "output_type": "execute_result"
    }
   ],
   "source": [
    "df_muestra"
   ]
  },
  {
   "cell_type": "code",
   "execution_count": 76,
   "metadata": {},
   "outputs": [
    {
     "data": {
      "text/plain": [
       "TargetClass\n",
       "1    20875\n",
       "0    20875\n",
       "Name: count, dtype: int64"
      ]
     },
     "execution_count": 76,
     "metadata": {},
     "output_type": "execute_result"
    }
   ],
   "source": [
    "df_muestra.TargetClass.value_counts() # Verificación de que el tamaño del dataset sea balanceado"
   ]
  },
  {
   "cell_type": "code",
   "execution_count": 79,
   "metadata": {},
   "outputs": [
    {
     "data": {
      "image/png": "[encoded data removed]",
      "text/plain": [
       "<Figure size 500x400 with 1 Axes>"
      ]
     },
     "metadata": {},
     "output_type": "display_data"
    }
   ],
   "source": [
    "plt.figure( figsize= (5,4) )\n",
    "sns.countplot( x = df_muestra.TargetClass )\n",
    "plt.xticks( [0,1], ['Enanas', 'Gigantes'] )\n",
    "plt.show()"
   ]
  },
  {
   "cell_type": "code",
   "execution_count": null,
   "metadata": {},
   "outputs": [],
   "source": []
  }
 ],
 "metadata": {
  "kernelspec": {
   "display_name": "Python 3",
   "language": "python",
   "name": "python3"
  },
  "language_info": {
   "codemirror_mode": {
    "name": "ipython",
    "version": 3
   },
   "file_extension": ".py",
   "mimetype": "text/x-python",
   "name": "python",
   "nbconvert_exporter": "python",
   "pygments_lexer": "ipython3",
   "version": "3.11.4"
  },
  "orig_nbformat": 4
 },
 "nbformat": 4,
 "nbformat_minor": 2
}
