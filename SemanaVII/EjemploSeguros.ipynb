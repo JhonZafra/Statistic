{
 "cells": [
  {
   "attachments": {},
   "cell_type": "markdown",
   "metadata": {},
   "source": [
    "#### Clase 11/07/2023\n",
    "\n",
    "Ejemplo:\n",
    "\n",
    "Valor esperado en seguros"
   ]
  },
  {
   "attachments": {},
   "cell_type": "markdown",
   "metadata": {},
   "source": [
    "Seguros de vehículo\n",
    "\n",
    "Accidente | Probabilidad | Costo \n",
    "----------|--------------|--------\n",
    "Pérdida total | 1/1000   | $ \\$ 70.000.000 $\n",
    "Pérdida parcial | 5/100  | $ \\$ 35.000.000 $\n",
    "Pérdida menor | 3/10     | $ \\$ 10.000.000 $\n",
    "Sin accidente | resto    | $ \\$ 0 $"
   ]
  },
  {
   "attachments": {},
   "cell_type": "markdown",
   "metadata": {},
   "source": [
    "¿Cuánto le paga en promedio la aseguradora a un cliente?\n",
    "\n",
    "Ayuda = Calcular un valor esperado"
   ]
  },
  {
   "cell_type": "code",
   "execution_count": 3,
   "metadata": {},
   "outputs": [],
   "source": [
    "import numpy as np\n",
    "import pandas as pd\n",
    "import matplotlib.pyplot as plt"
   ]
  },
  {
   "cell_type": "code",
   "execution_count": 11,
   "metadata": {},
   "outputs": [
    {
     "data": {
      "text/plain": [
       "array([0.001, 0.05 , 0.3  , 0.649])"
      ]
     },
     "execution_count": 11,
     "metadata": {},
     "output_type": "execute_result"
    }
   ],
   "source": [
    "P = np.array([1/1000, 5/100, 3/10, 0.649])\n",
    "P"
   ]
  },
  {
   "cell_type": "code",
   "execution_count": 12,
   "metadata": {},
   "outputs": [
    {
     "data": {
      "text/plain": [
       "0.649"
      ]
     },
     "execution_count": 12,
     "metadata": {},
     "output_type": "execute_result"
    }
   ],
   "source": [
    "1 - P[:3].sum()"
   ]
  },
  {
   "cell_type": "code",
   "execution_count": 13,
   "metadata": {},
   "outputs": [
    {
     "data": {
      "text/plain": [
       "1.0"
      ]
     },
     "execution_count": 13,
     "metadata": {},
     "output_type": "execute_result"
    }
   ],
   "source": [
    "P.sum()"
   ]
  },
  {
   "cell_type": "code",
   "execution_count": 14,
   "metadata": {},
   "outputs": [
    {
     "data": {
      "text/plain": [
       "array([70000000, 35000000, 10000000,        0])"
      ]
     },
     "execution_count": 14,
     "metadata": {},
     "output_type": "execute_result"
    }
   ],
   "source": [
    "x = np.array([70*10**6, 35*10**6, 10**7, 0])\n",
    "x"
   ]
  },
  {
   "cell_type": "code",
   "execution_count": 15,
   "metadata": {},
   "outputs": [
    {
     "data": {
      "text/plain": [
       "array([  70000., 1750000., 3000000.,       0.])"
      ]
     },
     "execution_count": 15,
     "metadata": {},
     "output_type": "execute_result"
    }
   ],
   "source": [
    "x*P"
   ]
  },
  {
   "cell_type": "code",
   "execution_count": 17,
   "metadata": {},
   "outputs": [
    {
     "data": {
      "text/plain": [
       "4820000.0"
      ]
     },
     "execution_count": 17,
     "metadata": {},
     "output_type": "execute_result"
    }
   ],
   "source": [
    "valor_esperado = (x*P).sum()\n",
    "valor_esperado"
   ]
  },
  {
   "attachments": {},
   "cell_type": "markdown",
   "metadata": {},
   "source": [
    "El valor promedio pagado a cada cliente es de $ \\$ 4.820.000 $ por año, se calcula como el valor esperado a pagar."
   ]
  },
  {
   "attachments": {},
   "cell_type": "markdown",
   "metadata": {},
   "source": [
    "Suponiendo que la aseguradora tiene 5.000 clientes"
   ]
  },
  {
   "cell_type": "code",
   "execution_count": 18,
   "metadata": {},
   "outputs": [
    {
     "name": "stdout",
     "output_type": "stream",
     "text": [
      "En promedio la aseguradora le paga a los clientes 24100000000.0\n"
     ]
    }
   ],
   "source": [
    "clientes = 5000\n",
    "print(f'En promedio la aseguradora le paga a los clientes {clientes * valor_esperado}')"
   ]
  },
  {
   "attachments": {},
   "cell_type": "markdown",
   "metadata": {},
   "source": [
    "Si la aseguradora cobra a cada cliente un seguro anual de $ \\$ 5.000.000 $"
   ]
  },
  {
   "cell_type": "code",
   "execution_count": 22,
   "metadata": {},
   "outputs": [
    {
     "name": "stdout",
     "output_type": "stream",
     "text": [
      "El banco factura 30000000000\n",
      "Las ganancias anuales serían 5900000000.0\n"
     ]
    }
   ],
   "source": [
    "prima_anual = 6000000\n",
    "print(f'El banco factura {clientes * prima_anual}')\n",
    "print(f'Las ganancias anuales serían {(clientes * prima_anual) - clientes * valor_esperado}')"
   ]
  },
  {
   "attachments": {},
   "cell_type": "markdown",
   "metadata": {},
   "source": [
    "Seguros de vehículo\n",
    "\n",
    "Accidente | Probabilidad | Costo \n",
    "----------|--------------|--------\n",
    "Pérdida total | 1/1000   | $ \\$ 70.000.000 $\n",
    "Pérdida parcial | 5/100  | $ \\$ 35.000.000 $\n",
    "Pérdida menor | 3/10     | $ \\$ 10.000.000 $\n",
    "Sin accidente | 0.649    | $ \\$ 0 $"
   ]
  },
  {
   "cell_type": "code",
   "execution_count": 24,
   "metadata": {},
   "outputs": [
    {
     "data": {
      "text/plain": [
       "0.883649406144788"
      ]
     },
     "execution_count": 24,
     "metadata": {},
     "output_type": "execute_result"
    }
   ],
   "source": [
    "np.random.rand()"
   ]
  },
  {
   "cell_type": "code",
   "execution_count": 25,
   "metadata": {},
   "outputs": [],
   "source": [
    "P = np.array([1/1000, 5/100, 3/10, 0.649])"
   ]
  },
  {
   "cell_type": "code",
   "execution_count": 26,
   "metadata": {},
   "outputs": [
    {
     "data": {
      "text/plain": [
       "array([0.001, 0.051, 0.351, 1.   ])"
      ]
     },
     "execution_count": 26,
     "metadata": {},
     "output_type": "execute_result"
    }
   ],
   "source": [
    "P.cumsum() # Sumatoria acumulada"
   ]
  },
  {
   "cell_type": "code",
   "execution_count": 48,
   "metadata": {},
   "outputs": [],
   "source": [
    "resultado = ['Pérdida Total', 'Pérdida Parcial', 'Pérdida menor', 'Sin accidente']\n",
    "def accidente():\n",
    "    r = np.random.rand()\n",
    "    if r <= 0.001:\n",
    "        print(resultado[0])\n",
    "    elif r <= 0.051:\n",
    "        print(resultado[1])\n",
    "    elif r <= 0.351:\n",
    "        print(resultado[2])\n",
    "    else:\n",
    "        print(resultado[3])"
   ]
  },
  {
   "cell_type": "code",
   "execution_count": 49,
   "metadata": {},
   "outputs": [
    {
     "name": "stdout",
     "output_type": "stream",
     "text": [
      "Sin accidente\n"
     ]
    }
   ],
   "source": [
    "accidente()"
   ]
  },
  {
   "cell_type": "code",
   "execution_count": 124,
   "metadata": {},
   "outputs": [],
   "source": [
    "y = [0, 0, 0, 0]"
   ]
  },
  {
   "cell_type": "code",
   "execution_count": 125,
   "metadata": {},
   "outputs": [],
   "source": [
    "def accidente2():\n",
    "    r = np.random.rand()\n",
    "    if r <= 0.001:\n",
    "        y[0] += 1\n",
    "    elif r <= 0.051:\n",
    "        y[1] += 1\n",
    "    elif r <= 0.351:\n",
    "        y[2] += 1\n",
    "    else:\n",
    "        y[3] += 1"
   ]
  },
  {
   "cell_type": "code",
   "execution_count": 126,
   "metadata": {},
   "outputs": [
    {
     "data": {
      "text/plain": [
       "[0, 0, 1, 0]"
      ]
     },
     "execution_count": 126,
     "metadata": {},
     "output_type": "execute_result"
    }
   ],
   "source": [
    "accidente2()\n",
    "y"
   ]
  },
  {
   "cell_type": "code",
   "execution_count": 151,
   "metadata": {},
   "outputs": [
    {
     "name": "stdout",
     "output_type": "stream",
     "text": [
      "[6, 272, 1503, 3219]\n",
      "Pago pomedio por cliente 4994000.0\n"
     ]
    }
   ],
   "source": [
    "y = [0, 0, 0, 0]\n",
    "for _ in range(clientes):\n",
    "    accidente2()\n",
    "print(y)\n",
    "y = np.array(y)\n",
    "print(f'Pago pomedio por cliente {((y/clientes)*x).sum()}')"
   ]
  },
  {
   "cell_type": "code",
   "execution_count": 143,
   "metadata": {},
   "outputs": [
    {
     "name": "stdout",
     "output_type": "stream",
     "text": [
      "5000\n"
     ]
    },
    {
     "data": {
      "text/plain": [
       "array([0.0014, 0.0474, 0.3044, 0.6468])"
      ]
     },
     "execution_count": 143,
     "metadata": {},
     "output_type": "execute_result"
    }
   ],
   "source": [
    "y = np.array(y)\n",
    "print(y.sum())\n",
    "y/clientes"
   ]
  },
  {
   "cell_type": "code",
   "execution_count": 142,
   "metadata": {},
   "outputs": [
    {
     "data": {
      "text/plain": [
       "array([  98000., 1659000., 3044000.,       0.])"
      ]
     },
     "execution_count": 142,
     "metadata": {},
     "output_type": "execute_result"
    }
   ],
   "source": [
    "(y/clientes)*x"
   ]
  },
  {
   "cell_type": "code",
   "execution_count": 141,
   "metadata": {},
   "outputs": [
    {
     "data": {
      "text/plain": [
       "4801000.0"
      ]
     },
     "execution_count": 141,
     "metadata": {},
     "output_type": "execute_result"
    }
   ],
   "source": [
    "valor_esperado2 = ((y/clientes)*x).sum()\n",
    "valor_esperado2"
   ]
  },
  {
   "cell_type": "code",
   "execution_count": 134,
   "metadata": {},
   "outputs": [
    {
     "data": {
      "image/png": "[encoded data removed]",
      "text/plain": [
       "<Figure size 500x300 with 1 Axes>"
      ]
     },
     "metadata": {},
     "output_type": "display_data"
    }
   ],
   "source": [
    "plt.figure(figsize= (5,3))\n",
    "plt.bar(resultado, y)\n",
    "plt.xticks(rotation = 30) # Ajustamos propiedades de las etiquetas del eje horizontal\n",
    "plt.show()"
   ]
  },
  {
   "cell_type": "code",
   "execution_count": 166,
   "metadata": {},
   "outputs": [],
   "source": [
    "iteraciones = 10**4\n",
    "clientes = 5000\n",
    "predicciones = []\n",
    "\n",
    "for _ in range(iteraciones):\n",
    "    y = [0, 0, 0, 0]\n",
    "    for _ in range(clientes):\n",
    "        accidente2()    \n",
    "    y = np.array(y)\n",
    "    predicciones.append(((y/clientes)*x).sum())"
   ]
  },
  {
   "cell_type": "code",
   "execution_count": 167,
   "metadata": {},
   "outputs": [
    {
     "data": {
      "text/plain": [
       "4821124.7"
      ]
     },
     "execution_count": 167,
     "metadata": {},
     "output_type": "execute_result"
    }
   ],
   "source": [
    "predicciones = np.array(predicciones)\n",
    "predicciones.mean()"
   ]
  },
  {
   "cell_type": "code",
   "execution_count": 168,
   "metadata": {},
   "outputs": [
    {
     "data": {
      "image/png": "[encoded data removed]",
      "text/plain": [
       "<Figure size 500x400 with 1 Axes>"
      ]
     },
     "metadata": {},
     "output_type": "display_data"
    }
   ],
   "source": [
    "plt.figure(figsize= (5,4))\n",
    "plt.hist(predicciones, bins= 100)\n",
    "plt.axvline(predicciones.mean(), color = 'red', label = f'Experimento')\n",
    "plt.axvline(4820000, color = 'yellow', label = 'Teórico')\n",
    "plt.text(5000000, 200, f'Pago promedio\\npor cliente\\n{predicciones.mean()}')\n",
    "plt.legend()\n",
    "plt.show()"
   ]
  }
 ],
 "metadata": {
  "kernelspec": {
   "display_name": "Python 3",
   "language": "python",
   "name": "python3"
  },
  "language_info": {
   "codemirror_mode": {
    "name": "ipython",
    "version": 3
   },
   "file_extension": ".py",
   "mimetype": "text/x-python",
   "name": "python",
   "nbconvert_exporter": "python",
   "pygments_lexer": "ipython3",
   "version": "3.11.4"
  },
  "orig_nbformat": 4
 },
 "nbformat": 4,
 "nbformat_minor": 2
}
